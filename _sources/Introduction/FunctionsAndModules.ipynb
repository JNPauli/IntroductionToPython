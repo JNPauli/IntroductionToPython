{
 "cells": [
  {
   "cell_type": "markdown",
   "metadata": {},
   "source": [
    "# Functions and Modules"
   ]
  },
  {
   "cell_type": "markdown",
   "metadata": {},
   "source": [
    "## Functions"
   ]
  },
  {
   "cell_type": "markdown",
   "metadata": {},
   "source": [
    "We briefly talked about functions and modules before. You saw an example, where we created a function that takes any number and adds the value `2` to it.\n",
    "\n",
    "          def plus_two(number):\n",
    "    return number + 2\n",
    "\n",
    "          plus_two(12110)\n",
    "Lets talk about the anatomy of a function:\n",
    "\n",
    "`def` is the key word you want to use to *define* a new function.\n",
    "You leave one space between `def` and your `Function Name` (plus_two, in the example).\n",
    "After the `Function Name` you put a Parenthese `()`. In that Paranthese you define the `arguments` you want your function to take.\n",
    "\n",
    "In the example, we name that argument *number*. So what our function does, is take the argument *number* and adds +2 to it. The argument alone does NOT specify the datatype(!). You could also do something like \n",
    "\n",
    "      plus_two(\"Hello\").\n",
    "But this will give you an error, since strings and numbers cannot be added.\n",
    "\n",
    "Most importantly, we add the keyword `return` to the function. Return is CRUCIAL if we actually want to extract an output from our function. Without the `return` keyword in our function, something like:\n",
    "\n",
    "      MyNewNumber = plus_two(0)\n",
    "\n",
    "would return `nothing`.\n",
    "\n",
    "Functions are a key tool to use in your programming scripts. It allows you to speed up your programming, make your scripts more clearer and communicate them better to your fellows (if applied properly). \n",
    "\n",
    "Now, when should you actually create and use your own function? It makes sense to use functions when you repeat the same operation multiple times in your scripts. This way, you act accordingly to the DRY (**D**ont **R**epeat **Y**ourself) principle. "
   ]
  },
  {
   "cell_type": "markdown",
   "metadata": {},
   "source": [
    "Lets imagine, you want to show off your freshly acquired programming skills to your fellow friends, families or pets.\n",
    "\n",
    "You tell them about how you learned about `if/else` statements and how you can use your own scripts, to take any list and calculate the length of that list. For some reasons, you want to only accept lists that do not exceed the length of 5. You also want to print out a text message, if it does so"
   ]
  },
  {
   "cell_type": "code",
   "execution_count": 4,
   "metadata": {},
   "outputs": [
    {
     "name": "stdout",
     "output_type": "stream",
     "text": [
      "Not too long!\n",
      "Too long!\n",
      "Too long!\n"
     ]
    }
   ],
   "source": [
    "List1 = [0,1,2,3,4]\n",
    "List2 = [5,6,7,8,9,10]\n",
    "List3 = [\"This\",\"Is\",\"A\",\"List\",5,6,7]\n",
    "if len(List1) > 5:\n",
    "          print(\"Too long!\")\n",
    "else:\n",
    "          print(\"Not too long!\")\n",
    "\n",
    "if len(List2) > 5:\n",
    "          print(\"Too long!\")\n",
    "else:\n",
    "          print(\"Not too long!\")\n",
    "\n",
    "       \n",
    "if len(List3) > 5:\n",
    "          print(\"Too long!\")\n",
    "else:\n",
    "          print(\"Not too long!\")   "
   ]
  },
  {
   "cell_type": "markdown",
   "metadata": {},
   "source": [
    "While this scripts of course works, you may get the impression already, that its a bit crowed and hard to read. Making your code easy to read is a major challenge in programming!\n",
    "\n",
    "Eventhough the comparison you apply here is not extremly complicated, it can happen quite fast that you do multiple, complex operations in multiple cells and your notebook gets really long. This is where you should use functions. They clear up your notebook and can make things easier to read and understand.\n",
    "\n",
    "Your goal should be to make your code understandable for others and for yourself (!) in the future."
   ]
  },
  {
   "cell_type": "code",
   "execution_count": 5,
   "metadata": {},
   "outputs": [],
   "source": [
    "def CompareLength(List,max_length):\n",
    "          if len(List) > max_length:\n",
    "                    print(\"Too long!\")\n",
    "          else:\n",
    "                    print(\"Not too long!\")"
   ]
  },
  {
   "cell_type": "code",
   "execution_count": 6,
   "metadata": {},
   "outputs": [
    {
     "name": "stdout",
     "output_type": "stream",
     "text": [
      "Not too long!\n"
     ]
    }
   ],
   "source": [
    "CompareLength(List1,5)"
   ]
  },
  {
   "cell_type": "markdown",
   "metadata": {},
   "source": [
    "### **Exercise 10.0: Think!** \n",
    "Take a look at the function. What is missing here?"
   ]
  },
  {
   "cell_type": "markdown",
   "metadata": {},
   "source": [
    "**Type your Answer**"
   ]
  },
  {
   "cell_type": "markdown",
   "metadata": {},
   "source": [
    "And if we want too, we can make things now way cleaner and combine our knowledge of for loops with our newly created functions."
   ]
  },
  {
   "cell_type": "code",
   "execution_count": 8,
   "metadata": {},
   "outputs": [],
   "source": [
    "#Step1: Create a \"list of lists\"\n",
    "\n",
    "combined_list = [List1,List2,List3]\n",
    "\n",
    "#Step2: Loop through each list stored in combined_list and apply CompareLength here"
   ]
  },
  {
   "cell_type": "markdown",
   "metadata": {},
   "source": [
    "### **Exercise 11.0**\n",
    "Fill in the gaps below. The loop should iterate through each list in *combined_list* and apply the *CompareLength* function.\n",
    "\n",
    "Try to manipulate the `max_length` argument, so it compares the list length against a different number."
   ]
  },
  {
   "cell_type": "code",
   "execution_count": null,
   "metadata": {},
   "outputs": [],
   "source": [
    "for ... in ...:\n",
    "          raise Exception(\"Solution Missing\")"
   ]
  },
  {
   "cell_type": "markdown",
   "metadata": {},
   "source": [
    "Well done!\n",
    "\n",
    "Now while all of this is very important, we violated one of the most important principles (I wrote this three times now, maybe I should plug this into a function) so far, the holy grail of programming across languages, the tool that helps us maintain and transfer knowledge across generations and yada yada.\n",
    "\n",
    "You might have guessed already, I am talking about documentation\n",
    "\n",
    "![doc](../static/DocumentationMeme.jpg)"
   ]
  },
  {
   "cell_type": "markdown",
   "metadata": {},
   "source": [
    "Documenting your code in a proper way is really really important. If you dont add documentation to your code, you will very likely forget what you tried to do and others that will look at your code will have no idea what you have done.\n",
    "\n",
    "This is unfortunately very common, but its a fallacy that is easy to fix.\n",
    "\n",
    "Lets start with adding some documentation to our function CompareLength. For our Python functions, we can add something called [`DocString`](https://peps.python.org/pep-0257/). \n",
    "\n",
    "What does a DocString do? Why should we care? Lets think of a scenario. Your colleague sends you his new fancy function he designed to facilitate your experiment workflow. You import the function from a `.py` file, and then try to run it. Lets say, you get an `RunTime Error` back. Your first impuls is to see, if you maybe put the wrong arguments to your colleagues function. In Python, you can do something super cool and inspect all the important information of your function by typing *YourFunction?* in your code cell. Try that with our *CompareLength* Function.\n"
   ]
  },
  {
   "cell_type": "code",
   "execution_count": null,
   "metadata": {},
   "outputs": [],
   "source": []
  },
  {
   "cell_type": "markdown",
   "metadata": {},
   "source": [
    "### **Exercise 12.0**\n",
    "\n",
    "Obviously, we dont get too much information here, because there is not DocString *yet*. So lets change that and add a Document String!"
   ]
  },
  {
   "cell_type": "code",
   "execution_count": null,
   "metadata": {},
   "outputs": [],
   "source": [
    "def CompareLength(List,max_length):\n",
    "          '''\n",
    "          Type your document string here. Try to very briefly describe, what your function actually does.\n",
    "\n",
    "          Dont forget to add information about our arguments(keywords) that our function takes.\n",
    "          People should know what to expect from your function, just based on the doc string\n",
    "          List = ...\n",
    "          Max_length = ...\n",
    "          '''\n",
    "          if len(List) > max_length:\n",
    "                    print(\"Too long!\")\n",
    "          else:\n",
    "                    print(\"Not too long!\")"
   ]
  },
  {
   "cell_type": "markdown",
   "metadata": {},
   "source": [
    "That is already better, is it not? Now we can confidently share this function with our peers and they will still get an idea of what we actually did in our function.\n",
    "\n",
    "### **Exercise 13.0**\n",
    "Try now to add some documentation to the for loop we defined earlier. \n",
    "\n",
    "Within Code cells, you usually want to use # to document your code. This enables you to write text without worrying about Syntax Errors coming your way.\n",
    "\n",
    "You usually want to very briefly explain, what your code cell actually does. "
   ]
  },
  {
   "cell_type": "code",
   "execution_count": null,
   "metadata": {},
   "outputs": [],
   "source": [
    "#Your brief description of what this cell actually does\n",
    "for ... in ...:\n",
    "          ..."
   ]
  },
  {
   "cell_type": "markdown",
   "metadata": {},
   "source": [
    "Lets finish this section with one last task. Try to create your very own function, that takes the `age` as its input and `returns` a brief categorization decision (I.e, does the age belong rather to a *young person* or to a *older person*). **Hint:** `If/Else clauses` come in handy here.\n",
    "\n",
    " The way you define young and old does not matter at all. What matters is, that your functions returns this categorization. The output (returned value) should be a string, where as the input should be an integer.\n",
    "\n",
    "Add a doc string to your function. \n",
    "\n",
    "If you have troubles with the task, try to treat it like a cooking recipe:\n",
    "\n",
    "List down the equipment (for example, how you name your function, and what the arguments are), the ingredients (for example, the input), what you should do with these ingredients (for example, what is happening inside your function) and what the end-product should look like (the output).\n",
    "\n",
    "### **Bonus**:\n",
    "\n",
    "What would you do to make sure, that your function only works if the age input is an integer? Do you have an idea, how you could penalize someone that tries to use a float value (e.g., 23.2) to the function?"
   ]
  },
  {
   "cell_type": "code",
   "execution_count": null,
   "metadata": {},
   "outputs": [],
   "source": []
  },
  {
   "cell_type": "markdown",
   "metadata": {},
   "source": [
    "![Questions](../static/questions.gif)"
   ]
  },
  {
   "cell_type": "markdown",
   "metadata": {},
   "source": [
    "## Packages, Modules and libraries"
   ]
  },
  {
   "cell_type": "markdown",
   "metadata": {},
   "source": [
    "Okay okay, you might be wondering, why is python the most popular programming language if you need to write all these functions yourself? Well, truth is, most of the time you dont have to. The beauty of python is something we call `Packages`. Just for your information: Packages are often used interchangable with the term `Library`. \n",
    "\n",
    "Now what is a package? It is a collection of `modules` that contain related bits of code, e.g. `classes` and `functions`.\n",
    "\n",
    "Lets break this down:\n",
    "\n",
    "We already heard about the `NumPy` package. Numpy is a huge python project, that has multiple `modules` to its name. Modules are basically organization tools, in which you can store corresponding and related classes and functions. Technical background information: Modules are usually stored in a `.py` file (so not in a notebook (`.ipynb`) file like we are using right now). For example, there is the `Numpy.polynomial` module, that has several functions to manipulate polynomials. Classes are handy for organizing behavior (functions) within a module\n",
    "\n",
    "So we have Packages that have modules and these modules have classes which finally have functions we can call.\n",
    "     \n",
    "          📦 Package: cookbook\n",
    "          ├── 📂 Module: italian_receipes\n",
    "          │    ├── 🏛️ Class: SauceMaker\n",
    "          │    │    ├── 🔧 Function: prepare_ingredients()\n",
    "          │    │    ├── 🔧 Function: cook()\n",
    "\n",
    "          \n",
    "          📦 Package: sklearn\n",
    "          ├── 📂 Module: linear_model\n",
    "          │    ├── 🏛️ Class: LogisticRegression\n",
    "          │    │    ├── 🔧 Function: fit()\n",
    "          │    │    ├── 🔧 Function: predict()\n",
    "\n",
    "\n",
    "Python packages can make our life *extremly* easy. \n",
    "\n",
    "Lets say, you have a list with different values :\n",
    "\n",
    "          MyList = [0,1,3,5,6,7,2,6,8,2,7,9]\n",
    "\n",
    "You now want to take the average of that list. You can approach this from different angles. Since we know, that the average of a list is just the sum of its elements divided by the number of elements in that list, we can say\n",
    "\n",
    "          sum(MyList) / len(MyList)\n",
    "\n",
    "or we can put this into a function\n",
    "\n",
    "          def Mean(list):\n",
    "                    return(sum(list)/len(list))\n",
    "\n",
    "But we dont really want to do that every time we create a new project, do we? Thats where python packages come in handy! For example, there is the `numpy.mean` module we can simply call here, that takes care of our problem.\n",
    "\n",
    "Now, how do we use these modules? You can simply type\n",
    "\n",
    "          import numpy \n",
    "\n",
    "in a code cell.  A very common behavior is to abbreviate numpy like this:\n",
    "\n",
    "          import numpy as np\n",
    "\n",
    "You can put any thing you like instead of \"np\", but \"np\" is extremly common and all other abbreviations will probably be very very confusing. So dont do that."
   ]
  },
  {
   "cell_type": "markdown",
   "metadata": {},
   "source": [
    "### **Exercise 14.0**\n",
    "\n",
    "Import `numpy as np` below and calculate the mean of the Lists we defined.\n",
    "\n",
    "**Hint**: If you are unsure about which `arguments` to pass to the function, you can use `np.mean?` to get more information (i.e, the Docstring)"
   ]
  },
  {
   "cell_type": "code",
   "execution_count": null,
   "metadata": {},
   "outputs": [],
   "source": []
  },
  {
   "cell_type": "markdown",
   "metadata": {},
   "source": [
    "So hopefully, you now have rough idea of what modules actually are. Remember: If you need to solve a problem and do not know, which module or function you should use, simply google it (\"How to calculate the mean of a list in python\", \"how to get the standard deviation of a list in python\"...)\n",
    "It is near impossible to list all possible functions and modules in any course, and remembering all of them is just very tedious and unnecessary"
   ]
  }
 ],
 "metadata": {
  "kernelspec": {
   "display_name": "base",
   "language": "python",
   "name": "python3"
  },
  "language_info": {
   "codemirror_mode": {
    "name": "ipython",
    "version": 3
   },
   "file_extension": ".py",
   "mimetype": "text/x-python",
   "name": "python",
   "nbconvert_exporter": "python",
   "pygments_lexer": "ipython3",
   "version": "3.9.12"
  }
 },
 "nbformat": 4,
 "nbformat_minor": 2
}
