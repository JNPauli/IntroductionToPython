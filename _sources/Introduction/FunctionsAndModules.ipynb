{
 "cells": [
  {
   "cell_type": "markdown",
   "metadata": {},
   "source": [
    "# Functions and Modules"
   ]
  },
  {
   "cell_type": "markdown",
   "metadata": {},
   "source": [
    "## Functions"
   ]
  },
  {
   "cell_type": "markdown",
   "metadata": {},
   "source": [
    "We briefly talked about functions and modules before. You saw an example, where we created a function that takes any number and adds the value `2` to it.\n",
    "\n",
    "          def plus_two(number):\n",
    "    return number + 2\n",
    "\n",
    "          plus_two(12110)\n",
    "Lets talk about the anatomy of a function:\n",
    "\n",
    "`def` is the key word you want to use to *define* a new function.\n",
    "You leave one space between `def` and your `Function Name` (plus_two, in the example).\n",
    "After the `Function Name` you put a Parenthese `()`. In that Paranthese you define the `arguments` you want your function to take.\n",
    "\n",
    "In the example, we name that argument *number*. So what our function does, is take the argument *number* and adds +2 to it. The argument alone does NOT specify the datatype(!). You could also do something like \n",
    "\n",
    "      plus_two(\"Hello\").\n",
    "If that makes sense, well thats up to you. \n",
    "\n",
    "Most importantly, we add the keyword `return` to the function. Return is CRUCIAL if we actually want to extract an output from our function. Without the `return` keyword in our function, something like:\n",
    "\n",
    "      MyNewNumber = plus_two(0)\n",
    "\n",
    "would return\n",
    "\n",
    "      `Null`\n",
    "\n",
    "\n",
    "Functions are a key tool to use in your programming scripts. It allows you to speed up your programming, make your scripts more clearer and communicate them better to your fellows (if applied properly). \n",
    "\n",
    "Now, when should you actually create and use your own function? It makes sense to use functions when you repeat the same operation multiple times in your scripts. This way, you act accordingly to the DRY (**D**ont **R**epeat **Y**ourself) principle. "
   ]
  },
  {
   "cell_type": "markdown",
   "metadata": {},
   "source": [
    "Lets imagine, you want to show off your freshly acquired programming skills to your fellow friends, families or pets.\n",
    "\n",
    "You tell them about how you learned about `if/else` statements and how you can use your own scripts, to take any list and calculate the length of that list. For some reasons, you want to only accept lists that do not exceed the length of 5. You also want to print out a text message, if it does so"
   ]
  },
  {
   "cell_type": "code",
   "execution_count": 4,
   "metadata": {},
   "outputs": [
    {
     "name": "stdout",
     "output_type": "stream",
     "text": [
      "Not too long!\n",
      "Too long!\n",
      "Too long!\n"
     ]
    }
   ],
   "source": [
    "List1 = [0,1,2,3,4]\n",
    "List2 = [5,6,7,8,9,10]\n",
    "List3 = [\"This\",\"Is\",\"A\",\"List\",5,6,7]\n",
    "if len(List1) > 5:\n",
    "          print(\"Too long!\")\n",
    "else:\n",
    "          print(\"Not too long!\")\n",
    "\n",
    "if len(List2) > 5:\n",
    "          print(\"Too long!\")\n",
    "else:\n",
    "          print(\"Not too long!\")\n",
    "\n",
    "       \n",
    "if len(List3) > 5:\n",
    "          print(\"Too long!\")\n",
    "else:\n",
    "          print(\"Not too long!\")   "
   ]
  },
  {
   "cell_type": "markdown",
   "metadata": {},
   "source": [
    "While this scripts of course works, you may get the impression already, that its a bit crowed and hard to read. Making your code easy to read is a major challenge in programming, but we will talk more about that later on.\n",
    "\n",
    "Anyway, eventhough the comparison you apply here is not extremly complicated, it can happen quite fast that you do multiple operations in multiple cells and your notebook is pretty long. This is where you should use functions. They clear up your notebook very well and can make things easier."
   ]
  },
  {
   "cell_type": "code",
   "execution_count": 5,
   "metadata": {},
   "outputs": [],
   "source": [
    "def CompareLength(List,max_length):\n",
    "          if len(List) > max_length:\n",
    "                    print(\"Too long!\")\n",
    "          else:\n",
    "                    print(\"Not too long!\")"
   ]
  },
  {
   "cell_type": "code",
   "execution_count": 6,
   "metadata": {},
   "outputs": [
    {
     "name": "stdout",
     "output_type": "stream",
     "text": [
      "Not too long!\n"
     ]
    }
   ],
   "source": [
    "CompareLength(List1,5)"
   ]
  },
  {
   "cell_type": "markdown",
   "metadata": {},
   "source": [
    "Think: Take a look at the function. What is missing here?"
   ]
  },
  {
   "cell_type": "markdown",
   "metadata": {},
   "source": [
    "And if we want too, we can make things now way cleaner and combine our knowledge of for loops with our newly created functions."
   ]
  },
  {
   "cell_type": "code",
   "execution_count": 8,
   "metadata": {},
   "outputs": [],
   "source": [
    "#Step1: Create a \"list of lists\"\n",
    "\n",
    "combined_list = [List1,List2,List3]\n",
    "\n",
    "#Step2: Loop through each list stored in combined_list and apply CompareLength here"
   ]
  },
  {
   "cell_type": "markdown",
   "metadata": {},
   "source": [
    "Fill in the gaps below. The loop should iterate through each list in *combined_list* and apply the *CompareLength* function.\n",
    "\n",
    "Try to manipulate the `max_length` argument, so it compares the list length against a different number."
   ]
  },
  {
   "cell_type": "code",
   "execution_count": null,
   "metadata": {},
   "outputs": [],
   "source": [
    "for ... in ...:\n",
    "          ..."
   ]
  },
  {
   "cell_type": "markdown",
   "metadata": {},
   "source": [
    "Well done!\n",
    "\n",
    "Now while all of this is very important, we violated one of the most important principles (I wrote this three times now, maybe I should plug this into a function) so far, the holy grail of programming across languages, the tool that helps us maintain and transfer knowledge across generations and yada yada.\n",
    "\n",
    "You might have guessed already, I am talking about documentation\n",
    "\n",
    "![doc](../static/DocumentationMeme.jpg)"
   ]
  },
  {
   "cell_type": "markdown",
   "metadata": {},
   "source": [
    "Documenting your code in a proper way is really really important. If you dont add documentation to your code, you will very likely forget what you exactly tried to do and other that will look at your code will have no idea what you have done.\n",
    "\n",
    "This is unfortunately very common, but its a fallacy that is easy to fix.\n",
    "\n",
    "Lets start with adding some documentation to our function CompareLength. For our Python functions, we can add something called [`DocString`](https://peps.python.org/pep-0257/). \n",
    "\n",
    "What does a DocString do? Why should we care? Lets think of a scenario. Your colleague sends you his new fancy function he designed to facilitate your experiment workflow. You import the function from a `.py` file, and then try to run it. Lets say, you get an `RunTime Error` back. Your first impuls is to see, if you maybe put the wrong arguments to your colleagues function. In Python, you can do something super cool and inspect all the important information of your function by typing *YourFunction?* in your code cell. Try that with our *CompareLength* Function.\n"
   ]
  },
  {
   "cell_type": "code",
   "execution_count": 11,
   "metadata": {},
   "outputs": [
    {
     "name": "stdout",
     "output_type": "stream",
     "text": [
      "\u001b[1;31mSignature:\u001b[0m \u001b[0mCompareLength\u001b[0m\u001b[1;33m(\u001b[0m\u001b[0mList\u001b[0m\u001b[1;33m,\u001b[0m \u001b[0mmax_length\u001b[0m\u001b[1;33m)\u001b[0m\u001b[1;33m\u001b[0m\u001b[1;33m\u001b[0m\u001b[0m\n",
      "\u001b[1;31mDocstring:\u001b[0m <no docstring>\n",
      "\u001b[1;31mFile:\u001b[0m      c:\\users\\janos\\appdata\\local\\temp\\ipykernel_21816\\1916278839.py\n",
      "\u001b[1;31mType:\u001b[0m      function\n"
     ]
    }
   ],
   "source": [
    "CompareLength?"
   ]
  },
  {
   "cell_type": "markdown",
   "metadata": {},
   "source": [
    "Obviously, we dont get too much here. So lets change that and add a Document String!"
   ]
  },
  {
   "cell_type": "code",
   "execution_count": 14,
   "metadata": {},
   "outputs": [],
   "source": [
    "def CompareLength(List,max_length):\n",
    "          '''\n",
    "          Type your document string here. Try to very briefly describe, what your function actually does.\n",
    "\n",
    "          Dont forget to say add information about our arguments(keywords) that our function takes\n",
    "          List = ...\n",
    "          Max_length = ...\n",
    "          '''\n",
    "          if len(List) > max_length:\n",
    "                    print(\"Too long!\")\n",
    "          else:\n",
    "                    print(\"Not too long!\")"
   ]
  },
  {
   "cell_type": "markdown",
   "metadata": {},
   "source": [
    "That is already better, is it not? Now we can confidently share this function with our peers and they will still get an idea of what we actually did in our function.\n",
    "\n",
    "Try now to add some documentation to the for loop we defined earlier. \n",
    "\n",
    "Within Code cells, you usually want to use # to document your code. "
   ]
  },
  {
   "cell_type": "code",
   "execution_count": null,
   "metadata": {},
   "outputs": [],
   "source": [
    "#Your brief description of what this cell actually does\n",
    "for ... in ...:\n",
    "          ..."
   ]
  },
  {
   "cell_type": "markdown",
   "metadata": {},
   "source": [
    "Lets and this section with one last task. Try to create your very own function, that takes the `age` as its input and `returns` a brief categorization decision (I.e, does the age belong rather to a *young person* or to a *older person*). The way you define young and old does not matter at all. What matters is, that your functions returns this categorization. The output (returned value) should be a string, where as the input should be an integer.\n",
    "\n",
    "Add a doc string to your function. \n",
    "\n",
    "If you have troubles with the task, try to treat it like a cooking recipe:\n",
    "\n",
    "List down the equipment (for example, how you name your function, and what the arguments are), the ingredients (for example, the input), what you should do with these ingredients (for example, what is happening inside your function) and what the end-product should look like (the output).\n",
    "\n",
    "Bonus:\n",
    "\n",
    "What would you do to make sure, that your function only works if the age input is an integer? Do you have an idea, how you could penalize someone that tries to use a float value (e.g., 23.2) to the function?"
   ]
  },
  {
   "cell_type": "code",
   "execution_count": null,
   "metadata": {},
   "outputs": [],
   "source": []
  },
  {
   "cell_type": "markdown",
   "metadata": {},
   "source": [
    "<iframe src=\"https://giphy.com/embed/3o6MbudLhIoFwrkTQY\" width=\"480\" height=\"271\" style=\"\" frameBorder=\"0\" class=\"giphy-embed\" allowFullScreen></iframe><p><a href=\"https://giphy.com/gifs/thesimpsons-3o6MbudLhIoFwrkTQY\">via GIPHY</a></p>"
   ]
  },
  {
   "cell_type": "markdown",
   "metadata": {},
   "source": [
    "## Packages, Modules and libraries"
   ]
  },
  {
   "cell_type": "markdown",
   "metadata": {},
   "source": [
    "Okay okay, you might be wondering, why is python the most popular programming language if you need to write all these functions yourself? Well, truth is, most of the time you dont have to. The beauty of python is something we call `Packages`. Just for your information: Packages are often used interchangable with the term `Library`. \n",
    "\n",
    "Now what is a package? It is a collection of `modules` that contain related bits of code, e.g. functions.\n",
    "\n",
    "Lets break this down:\n",
    "\n",
    "We already mentioned the `NumPy` package. Numpy is a huge python project, that has multiple modules to its name. Modules are basically organization tools, in which you can store corresponding functions. For example, there is the `Numpy.polynomial` module, that has several functions to manipulate polynomials.\n",
    "\n",
    "So we have Packages that have modules and these modules have functions we can call.\n",
    "\n",
    "Python packages can make our life *extremly* easy. \n",
    "\n",
    "Lets say, you have a list with different values :\n",
    "\n",
    "          MyList = [0,1,3,5,6,7,2,6,8,2,7,9]\n",
    "\n",
    "You now want to take the average of that list. You could do several things. Since we know, that the average of a list is just the sum of its elements divided by the number of elements in that list, we can say\n",
    "\n",
    "          sum(MyList) / len(MyList)\n",
    "\n",
    "or we can put this into a function\n",
    "\n",
    "          def Mean(list):\n",
    "                    return(sum(list)/len(list))\n",
    "\n",
    "But we dont really want to do that every time we create a new project, do we? Thats where python packages come in handy! For example, there is the `numpy.mean` module we can simply call here, that takes care of our problem.\n",
    "\n",
    "Now, how do we use these modules? You can simply write\n",
    "\n",
    "          import numpy \n",
    "\n",
    "in a Code Cell.  A very common thing is to abbreviate numpy like this:\n",
    "\n",
    "          import numpy as np\n",
    "\n",
    "You can put any thing you like instead of \"np\", but this is extremly common and all other abbreviations will probably be very very confusing. So dont do that."
   ]
  },
  {
   "cell_type": "markdown",
   "metadata": {},
   "source": [
    "Task:\n",
    "\n",
    "Import numpy as np in below and calculate the mean of the Lists we defined"
   ]
  },
  {
   "cell_type": "code",
   "execution_count": null,
   "metadata": {},
   "outputs": [
    {
     "data": {
      "text/plain": [
       "2.0"
      ]
     },
     "execution_count": 29,
     "metadata": {},
     "output_type": "execute_result"
    }
   ],
   "source": []
  }
 ],
 "metadata": {
  "kernelspec": {
   "display_name": "base",
   "language": "python",
   "name": "python3"
  },
  "language_info": {
   "codemirror_mode": {
    "name": "ipython",
    "version": 3
   },
   "file_extension": ".py",
   "mimetype": "text/x-python",
   "name": "python",
   "nbconvert_exporter": "python",
   "pygments_lexer": "ipython3",
   "version": "3.9.12"
  }
 },
 "nbformat": 4,
 "nbformat_minor": 2
}
