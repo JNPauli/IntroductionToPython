{
 "cells": [
  {
   "cell_type": "markdown",
   "id": "5e957304",
   "metadata": {},
   "source": [
    "# Recap\n",
    "\n",
    "In the first section we learned the very basics of python"
   ]
  },
  {
   "cell_type": "code",
   "execution_count": 11,
   "id": "cfb206ba",
   "metadata": {},
   "outputs": [],
   "source": [
    "Integer = 5\n",
    "string = \"String\"\n",
    "Float = 5.5"
   ]
  },
  {
   "cell_type": "markdown",
   "id": "f86c7086",
   "metadata": {},
   "source": [
    "Common Pitfalls:"
   ]
  },
  {
   "cell_type": "code",
   "execution_count": 1,
   "id": "7ec1f682",
   "metadata": {},
   "outputs": [
    {
     "ename": "SyntaxError",
     "evalue": "invalid syntax (2588205920.py, line 4)",
     "output_type": "error",
     "traceback": [
      "\u001b[1;36m  Input \u001b[1;32mIn [1]\u001b[1;36m\u001b[0m\n\u001b[1;33m    My Variable = True\u001b[0m\n\u001b[1;37m       ^\u001b[0m\n\u001b[1;31mSyntaxError\u001b[0m\u001b[1;31m:\u001b[0m invalid syntax\n"
     ]
    }
   ],
   "source": [
    "MyVariable = True\n",
    "My_Variable = True\n",
    "\n",
    "My Variable = True"
   ]
  },
  {
   "cell_type": "markdown",
   "id": "e0a93850",
   "metadata": {},
   "source": [
    "Then we talked about if/else statements"
   ]
  },
  {
   "cell_type": "code",
   "execution_count": 5,
   "id": "2ee87145",
   "metadata": {},
   "outputs": [
    {
     "name": "stdout",
     "output_type": "stream",
     "text": [
      "This integer is equal or less than 5\n"
     ]
    }
   ],
   "source": [
    "if Integer <= 5:\n",
    "          print(\"This integer is equal or less than 5\")\n",
    "else:\n",
    "          print(\"The above statement is false\")"
   ]
  },
  {
   "cell_type": "markdown",
   "id": "f4259ebd",
   "metadata": {},
   "source": [
    "Next were loops, especially `for loops`. For loops can be used to repeat an operation, examine lists, and, in general, speed up our programs.\n",
    "\n",
    "![loops](../static/forloops.png)"
   ]
  },
  {
   "cell_type": "code",
   "execution_count": 6,
   "id": "2194f0ca",
   "metadata": {},
   "outputs": [
    {
     "name": "stdout",
     "output_type": "stream",
     "text": [
      "0\n",
      "1\n",
      "2\n",
      "3\n",
      "4\n"
     ]
    }
   ],
   "source": [
    "for i in range(5):\n",
    "          print(i)"
   ]
  },
  {
   "cell_type": "markdown",
   "id": "ecd79086",
   "metadata": {},
   "source": [
    "Common pitfalls:"
   ]
  },
  {
   "cell_type": "code",
   "execution_count": 7,
   "id": "26cddda7",
   "metadata": {},
   "outputs": [
    {
     "ename": "SyntaxError",
     "evalue": "invalid syntax (252525991.py, line 1)",
     "output_type": "error",
     "traceback": [
      "\u001b[1;36m  Input \u001b[1;32mIn [7]\u001b[1;36m\u001b[0m\n\u001b[1;33m    for i in range(5)\u001b[0m\n\u001b[1;37m                     ^\u001b[0m\n\u001b[1;31mSyntaxError\u001b[0m\u001b[1;31m:\u001b[0m invalid syntax\n"
     ]
    }
   ],
   "source": [
    "for i in range(5)\n",
    "print(i)"
   ]
  },
  {
   "cell_type": "code",
   "execution_count": 8,
   "id": "0773c921",
   "metadata": {},
   "outputs": [
    {
     "ename": "IndentationError",
     "evalue": "expected an indented block (3695896917.py, line 2)",
     "output_type": "error",
     "traceback": [
      "\u001b[1;36m  Input \u001b[1;32mIn [8]\u001b[1;36m\u001b[0m\n\u001b[1;33m    print(i)\u001b[0m\n\u001b[1;37m    ^\u001b[0m\n\u001b[1;31mIndentationError\u001b[0m\u001b[1;31m:\u001b[0m expected an indented block\n"
     ]
    }
   ],
   "source": [
    "for i in range(5):\n",
    "print(i)"
   ]
  },
  {
   "cell_type": "markdown",
   "id": "b40b6ada",
   "metadata": {},
   "source": [
    "We extended this idea to the list datatype. Lists can be used to store variables of different datatypes."
   ]
  },
  {
   "cell_type": "code",
   "execution_count": null,
   "id": "61815294",
   "metadata": {},
   "outputs": [],
   "source": [
    "MyList = [Integer,Float,string]"
   ]
  },
  {
   "cell_type": "markdown",
   "id": "006bce90",
   "metadata": {},
   "source": [
    "And we can also loop through these lists"
   ]
  },
  {
   "cell_type": "code",
   "execution_count": 17,
   "id": "67cc0d2b",
   "metadata": {},
   "outputs": [
    {
     "name": "stdout",
     "output_type": "stream",
     "text": [
      "The value: 5 is equal to 5\n",
      "5.5\n",
      "String\n"
     ]
    }
   ],
   "source": [
    "for item in MyList:\n",
    "          if item != 5:\n",
    "                    print(item)\n",
    "          else:\n",
    "                    print(f\"The value: {item} is equal to 5\")\n"
   ]
  },
  {
   "cell_type": "markdown",
   "id": "1fd9629a",
   "metadata": {},
   "source": [
    "We also saw that we can create a \"list of lists\""
   ]
  },
  {
   "cell_type": "code",
   "execution_count": 18,
   "id": "525b0c10",
   "metadata": {},
   "outputs": [],
   "source": [
    "fruits = [\"Apple\",\"Banana\"]\n",
    "\n",
    "overall_list = [fruits,MyList]"
   ]
  },
  {
   "cell_type": "code",
   "execution_count": 20,
   "id": "1a8c3918",
   "metadata": {},
   "outputs": [
    {
     "data": {
      "text/plain": [
       "[['Apple', 'Banana'], [5, 5.5, 'String']]"
      ]
     },
     "execution_count": 20,
     "metadata": {},
     "output_type": "execute_result"
    }
   ],
   "source": [
    "overall_list"
   ]
  },
  {
   "cell_type": "code",
   "execution_count": 22,
   "id": "1cb9ddf2",
   "metadata": {},
   "outputs": [
    {
     "name": "stdout",
     "output_type": "stream",
     "text": [
      "<class 'list'> ['Apple', 'Banana']\n",
      "<class 'list'> [5, 5.5, 'String']\n",
      "<class 'list'>\n"
     ]
    }
   ],
   "source": [
    "for list in overall_list:\n",
    "          print(type(list),list)\n",
    "print(type(overall_list))"
   ]
  },
  {
   "cell_type": "markdown",
   "id": "449e9034",
   "metadata": {},
   "source": [
    "And we stopped at a section where we defined `functions`. Functions can be used to prevent ourselves from repeating code snippets over and over again.\n",
    "\n",
    "The overall syntax for functions goes like this"
   ]
  },
  {
   "cell_type": "code",
   "execution_count": null,
   "id": "b1ecb4b0",
   "metadata": {},
   "outputs": [],
   "source": [
    "def MyFunction (List):\n",
    "          '''\n",
    "          This function takes a list as its input, repeats the list 5 times and returns it\n",
    "          '''\n",
    "          operation = List * 5\n",
    "\n",
    "          return operation"
   ]
  },
  {
   "cell_type": "code",
   "execution_count": 24,
   "id": "fa5e8655",
   "metadata": {},
   "outputs": [
    {
     "data": {
      "text/plain": [
       "[['Apple', 'Banana'],\n",
       " [5, 5.5, 'String'],\n",
       " ['Apple', 'Banana'],\n",
       " [5, 5.5, 'String'],\n",
       " ['Apple', 'Banana'],\n",
       " [5, 5.5, 'String'],\n",
       " ['Apple', 'Banana'],\n",
       " [5, 5.5, 'String'],\n",
       " ['Apple', 'Banana'],\n",
       " [5, 5.5, 'String']]"
      ]
     },
     "execution_count": 24,
     "metadata": {},
     "output_type": "execute_result"
    }
   ],
   "source": [
    "MyFunction(overall_list)"
   ]
  },
  {
   "cell_type": "markdown",
   "id": "4528cf63",
   "metadata": {},
   "source": [
    "## Schedule\n",
    "\n",
    "Today:\n",
    "\n",
    "- Functions and Modules notebook\n",
    "\n",
    "- DataStructures notebook\n",
    "\n",
    "- Maybe `Intro to Machine Learning` presentation\n",
    "\n",
    "Tomorrow:\n",
    "\n",
    "- Intro to Machine Learning Presentation\n",
    "\n",
    "- Machine Learning Notebook\n",
    "\n",
    "- Course Evaluation\n",
    "\n"
   ]
  },
  {
   "cell_type": "markdown",
   "id": "8e755634",
   "metadata": {},
   "source": [
    "Any questions? Anything you would like to emphasize or learn about in the remaining two days?"
   ]
  }
 ],
 "metadata": {
  "kernelspec": {
   "display_name": "base",
   "language": "python",
   "name": "python3"
  },
  "language_info": {
   "codemirror_mode": {
    "name": "ipython",
    "version": 3
   },
   "file_extension": ".py",
   "mimetype": "text/x-python",
   "name": "python",
   "nbconvert_exporter": "python",
   "pygments_lexer": "ipython3",
   "version": "3.9.12"
  }
 },
 "nbformat": 4,
 "nbformat_minor": 5
}
