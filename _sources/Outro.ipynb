{
 "cells": [
  {
   "cell_type": "markdown",
   "id": "579a6309",
   "metadata": {},
   "source": [
    "# Outro\n",
    "\n",
    "Top resources to ask or get answers for specific python questions: \n",
    "\n",
    "- Google\n",
    "\n",
    "- [Stackoverflow](https://stackoverflow.com/questions)\n",
    "\n",
    "- [GeeksForGeeks](https://www.geeksforgeeks.org/python-programming-language-tutorial/)\n",
    "\n",
    "- [W3schools](https://www.w3schools.com/python/default.asp)\n",
    "\n",
    "- [Harvards CS50 Introduction to Python Class](https://www.youtube.com/watch?v=nLRL_NcnK-4)\n",
    "\n",
    "- [NumPy Tutorials for Beginners](https://numpy.org/numpy-tutorials/)\n",
    "\n",
    "- [Pandas Tutorials for Beginners](https://pandas.pydata.org/docs/user_guide/10min.html)\n",
    "\n",
    "- [Seaborn Plots](https://seaborn.pydata.org/tutorial/function_overview.html)\n",
    "\n",
    "- [Kaggle Datasets](https://www.kaggle.com/datasets)\n",
    "\n",
    "- [Kaggle Education Specific Datasets](https://www.kaggle.com/datasets?tags=11105-Education)"
   ]
  }
 ],
 "metadata": {
  "language_info": {
   "name": "python"
  }
 },
 "nbformat": 4,
 "nbformat_minor": 5
}
