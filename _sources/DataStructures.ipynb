{
 "cells": [
  {
   "cell_type": "markdown",
   "metadata": {},
   "source": [
    "# Common Data Structures in Python\n",
    "\n",
    "There are many different data structures that are used in python. Most prominently used are `numpy arrays`, `pandas dataframes` and `dictionaries`.\n",
    "\n",
    "In this notebook, we will talk about these and how they are used within the python language\n",
    "\n",
    "## Numpy Arrays\n",
    "\n",
    "An array is a datastructure we can use to store information in. Arrays can be n-dimensional, but typically they are 1- or 2-Dimensional.\n",
    "\n",
    "          This is a 1-Dimensional Array\n",
    "          np.array([0,1,2,3])\n",
    "\n",
    "          This is a 2-Dimensional Array\n",
    "          np.array([[0,1,2,3],\n",
    "                    [4,5,6,7]])\n",
    "\n",
    "What you can see in this example is actually nothing more than calling the `np.array()` function and passing a list [0,1,2,3] to it\n",
    "\n",
    "Within a numpy array, the stored datatypes must be `homogeneous` meaning that they all need to belong to the same data type. Numpy arrays are optimized to be used for numerical computations.\n",
    "\n",
    "We will now start to explore the numpy environment and the numpy arrays.\n",
    "\n",
    "So first, start by `importing numpy as np`"
   ]
  },
  {
   "cell_type": "code",
   "execution_count": null,
   "metadata": {},
   "outputs": [],
   "source": []
  },
  {
   "cell_type": "code",
   "execution_count": null,
   "metadata": {},
   "outputs": [],
   "source": [
    "import numpy as np"
   ]
  },
  {
   "cell_type": "markdown",
   "metadata": {},
   "source": [
    "We will not work with real data *yet*, but rather simulate our own numpy arrays to work with. Numpy offers some really useful functions we can use to generate our arrays.\n",
    "\n",
    "Lets start with the `numpy.random.rand` function.\n",
    "\n",
    "They key arguments we need to pass to the function are the `shape` of the array we want to create. Lets start by creating a 1-Dimensional Array first.\n",
    "\n",
    "The first argument determines the number of *rows* we want our array to have, where as the second argument determines the number of columns.\n",
    "\n",
    "### **Exercise**\n",
    "\n",
    "Create a 1-D numpy array using the `rand` function from the `random` module (from the `numpy` package). Use it to create a numpy array with **1** Row and **20** Columns.\n",
    "\n",
    "Assign your array to a variable called \"RandomArray\"."
   ]
  },
  {
   "cell_type": "code",
   "execution_count": null,
   "metadata": {},
   "outputs": [],
   "source": []
  },
  {
   "cell_type": "code",
   "execution_count": 28,
   "metadata": {},
   "outputs": [],
   "source": [
    "RandomArray = np.random.rand(1,20)"
   ]
  },
  {
   "cell_type": "markdown",
   "metadata": {},
   "source": [
    "The information about the `shape` (e.g, how many rows and colum we have) is actually stored within the array element itself. We can access it with `array.shape`"
   ]
  },
  {
   "cell_type": "code",
   "execution_count": 31,
   "metadata": {},
   "outputs": [
    {
     "data": {
      "text/plain": [
       "(1, 20)"
      ]
     },
     "execution_count": 31,
     "metadata": {},
     "output_type": "execute_result"
    }
   ],
   "source": [
    "RandomArray.shape"
   ]
  },
  {
   "cell_type": "markdown",
   "metadata": {},
   "source": [
    "Indexing a Numpy Array "
   ]
  },
  {
   "cell_type": "code",
   "execution_count": 37,
   "metadata": {},
   "outputs": [
    {
     "data": {
      "text/plain": [
       "array([[0.48717182, 0.03035302, 0.30656875, 0.79526604, 0.93950624,\n",
       "        0.61541519, 0.79135653, 0.90462905, 0.12916138, 0.43791648,\n",
       "        0.12838649, 0.91423623, 0.41345175, 0.73463452, 0.02307464,\n",
       "        0.24663635, 0.81967195, 0.30473204, 0.67198669, 0.33036913]])"
      ]
     },
     "execution_count": 37,
     "metadata": {},
     "output_type": "execute_result"
    }
   ],
   "source": [
    "RandomArray[:,:]"
   ]
  },
  {
   "cell_type": "markdown",
   "metadata": {},
   "source": [
    "## Pandas"
   ]
  },
  {
   "cell_type": "code",
   "execution_count": null,
   "metadata": {},
   "outputs": [],
   "source": [
    "!pip install kagglehub[pandas-datasets]\n",
    "\n",
    "import kagglehub\n",
    "from kagglehub import KaggleDatasetAdapter\n",
    "file_path = \"pokemon.csv\" \n",
    "\n",
    "# Load the latest version\n",
    "df = kagglehub.load_dataset(\n",
    "  KaggleDatasetAdapter.PANDAS,\n",
    "  \"rounakbanik/pokemon\",\n",
    "  file_path,\n",
    "  # Provide any additional arguments like \n",
    "  # sql_query or pandas_kwargs. See the \n",
    "  # documenation for more information:\n",
    "  # https://github.com/Kaggle/kagglehub/blob/main/README.md#kaggledatasetadapterpandas\n",
    ")\n",
    "\n",
    "maybe this one?\n",
    "https://www.kaggle.com/datasets/shivamb/netflix-shows"
   ]
  }
 ],
 "metadata": {
  "kernelspec": {
   "display_name": "base",
   "language": "python",
   "name": "python3"
  },
  "language_info": {
   "codemirror_mode": {
    "name": "ipython",
    "version": 3
   },
   "file_extension": ".py",
   "mimetype": "text/x-python",
   "name": "python",
   "nbconvert_exporter": "python",
   "pygments_lexer": "ipython3",
   "version": "3.9.12"
  }
 },
 "nbformat": 4,
 "nbformat_minor": 2
}
