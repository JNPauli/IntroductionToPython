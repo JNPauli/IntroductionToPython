{
 "cells": [
  {
   "cell_type": "markdown",
   "metadata": {},
   "source": [
    "# Loops"
   ]
  },
  {
   "cell_type": "markdown",
   "metadata": {},
   "source": [
    "## For Loops"
   ]
  },
  {
   "cell_type": "markdown",
   "metadata": {},
   "source": [
    "You briefly saw an example of a `for loop` before\n",
    "\n",
    "          for i in range(100):\n",
    "                    os.mdkir(f\"MyNewFolder_{i}\")\n",
    "\n",
    "and I now want to build upon these concepts. \n",
    "\n",
    "There are different kinds of loops and they all allow you to do one thing: Automize and speed up your workflow. In its simplest form, Loops are a way of you telling your computer, to repeat a computation or operation for a given amount.\n",
    "\n",
    "For example: \n",
    "\n",
    "Lets assume we have this `list` called grades, and these values are grades students got in an exam\n",
    "\n",
    "          grades = [1.0, 1.1, 4.4, 5.0, 3.7, 3,9]\n",
    "\n",
    "You now want to use your knowledge on if else loops to check, if each element in this list is *smaller* than the school average. Lets say, the school average is 2.8.\n",
    "\n",
    "### **Exercise 6.0: Think!**\n",
    "\n",
    " Based on your knowledge so far, how would you solve this comparison? You dont actually have to code this, this is more about building a basic understanding on how to approach this.\n",
    "\n",
    "If you are already familiar with the concepts of loops, please dont spoil the answer to your fellows, as this might hinder their learning process :)"
   ]
  },
  {
   "cell_type": "code",
   "execution_count": null,
   "metadata": {},
   "outputs": [],
   "source": []
  },
  {
   "cell_type": "markdown",
   "metadata": {},
   "source": [
    "As you see, this can be really really helpful.\n",
    "\n",
    "Before we deepen our knowledge on for loops, I want to highlight a cool feature of the `list` datatype.\n",
    "\n",
    "You can actually add or remove elements from a list, using python lingo we would call these data types `mutable`, wheras the opposite is called `immutable`. For a detailed description, please see [here](https://realpython.com/python-mutable-vs-immutable-types/).\n",
    "\n",
    "Most commonly, to add further elements to your list we use this expression \n",
    "\n",
    "          `List.append(\"My Value\")`\n",
    "\n",
    "if you want to remove elements from your list, you can use\n",
    "\n",
    "           `List.remove(\"My Value\")`\n",
    "\n",
    "Next thing to know is, that we can also create `empty` lists\n",
    "\n",
    "          MyList = []\n",
    "\n",
    "This can be useful if you want to extract elements from one list and add these elements to a different list.\n",
    "\n",
    "### **Exercise 7.0**\n",
    "\n",
    "Complete the code cell below. Initiate two new lists called above_average and below_average. Append elements from the `grades` list to these lists, accordingly.\n",
    "\n",
    "Remove the `raise Exception(\"Solution Missing\")` statements once you entered your solution.\n",
    "\n",
    "**Hint**: You want to use a `nested structure` here (so use two level (two indentations))."
   ]
  },
  {
   "cell_type": "code",
   "execution_count": null,
   "metadata": {},
   "outputs": [],
   "source": [
    "school_average = 2.8\n",
    "grades = [1.0, 1.1, 4.4, 5.0, 3.7, 3.9]\n",
    "below_average = []\n",
    "above_average = []\n",
    "for grade in grades:\n",
    "          if grade < school_average:\n",
    "                    above_average.append(grade)\n",
    "          elif grade > school_average:\n",
    "                    below_average.append(grade)"
   ]
  },
  {
   "cell_type": "markdown",
   "metadata": {},
   "source": [
    "## RECAP\n",
    "\n",
    "So far, we have learned what variables and logical operators are, how to apply if/else clauses, what a for loop is and how to combine these concepts.\n",
    "\n",
    "Variables are like a box you can use to store things in for later. For example, you can create a box called `Age` and store in it the value 27. You use it at any time now, once you stored in the box (e.g., once you put Age = 25 in your code terminal and you clicked on `run` (or `str+enter`) in your code cell). \n",
    "\n",
    "Age is the name of that box, and 27 is the value that is stored in it. Once you told python about that box (meaning, you clicked on `run` in your code cell), python will now know about that box and its value. You can store any value you like in a box. You can also put text (this is what we call a `string`) in a box. \n",
    "\n",
    "          Name = \"Janos\"\n",
    "          \n",
    "Now python will know about that aswell, as long as you execute(run) the code cell. \n",
    "\n",
    "If you forgot what is inside your box, you have two options. You can use `print(box)` or simply type `box` in your cell and run it."
   ]
  },
  {
   "cell_type": "code",
   "execution_count": 4,
   "metadata": {},
   "outputs": [
    {
     "name": "stdout",
     "output_type": "stream",
     "text": [
      "Janos\n"
     ]
    },
    {
     "data": {
      "text/plain": [
       "'Janos'"
      ]
     },
     "execution_count": 4,
     "metadata": {},
     "output_type": "execute_result"
    }
   ],
   "source": [
    "Name = \"Janos\"\n",
    "print(Name)\n",
    "Name"
   ]
  },
  {
   "cell_type": "markdown",
   "metadata": {},
   "source": [
    "These two ways are equivalent! Importantly, if you want to use your box for a operation later on, you have to make sure that you told python about the box before."
   ]
  },
  {
   "cell_type": "code",
   "execution_count": 14,
   "metadata": {},
   "outputs": [
    {
     "ename": "NameError",
     "evalue": "name 'hello' is not defined",
     "output_type": "error",
     "traceback": [
      "\u001b[1;31m---------------------------------------------------------------------------\u001b[0m",
      "\u001b[1;31mNameError\u001b[0m                                 Traceback (most recent call last)",
      "Input \u001b[1;32mIn [14]\u001b[0m, in \u001b[0;36m<cell line: 1>\u001b[1;34m()\u001b[0m\n\u001b[1;32m----> 1\u001b[0m \u001b[43mhello\u001b[49m \u001b[38;5;241m+\u001b[39m Name\n\u001b[0;32m      2\u001b[0m hello \u001b[38;5;241m=\u001b[39m \u001b[38;5;124m'\u001b[39m\u001b[38;5;124mHi \u001b[39m\u001b[38;5;124m'\u001b[39m\n",
      "\u001b[1;31mNameError\u001b[0m: name 'hello' is not defined"
     ]
    }
   ],
   "source": [
    "hello + Name\n",
    "hello = 'Hi '"
   ]
  },
  {
   "cell_type": "markdown",
   "metadata": {},
   "source": [
    "This will give you a `NameError`. The error message explicitly says: *name 'hello' is not defined*. Why? Because we first told python to use the variable (box) `Name`, add to it another variable called `hello`, before telling python, what `hello` actually is.\n",
    "\n",
    "So make always sure, to create and initiate (run your variable in a code cell, so python know that it should remember it) your variables, before using them in a subsequent operation.\n",
    "\n",
    "Python checks your code lines `line by line`. If any code line is faulty, it will break. Thats why in the example above, python will *never* reach \n",
    "\n",
    "          hello = \"Hi \"\n",
    "\n",
    "because it already fails at \n",
    "\n",
    "          hello + Name"
   ]
  },
  {
   "cell_type": "code",
   "execution_count": 12,
   "metadata": {},
   "outputs": [
    {
     "data": {
      "text/plain": [
       "'Hi Janos'"
      ]
     },
     "execution_count": 12,
     "metadata": {},
     "output_type": "execute_result"
    }
   ],
   "source": [
    "hello = \"Hi \"\n",
    "hello + Name"
   ]
  },
  {
   "cell_type": "markdown",
   "metadata": {},
   "source": [
    "These boxes are not `dependent` from a code cell. Meaning"
   ]
  },
  {
   "cell_type": "code",
   "execution_count": 18,
   "metadata": {},
   "outputs": [],
   "source": [
    "dog = \"Amazing\""
   ]
  },
  {
   "cell_type": "code",
   "execution_count": 16,
   "metadata": {},
   "outputs": [],
   "source": [
    "cat = \"Scary\""
   ]
  },
  {
   "cell_type": "code",
   "execution_count": 22,
   "metadata": {},
   "outputs": [
    {
     "name": "stdout",
     "output_type": "stream",
     "text": [
      "Dogs are Amazing\n",
      "Cats are Scary\n"
     ]
    }
   ],
   "source": [
    "print(f\"Dogs are {dog}\")\n",
    "print(f\"Cats are {cat}\")"
   ]
  },
  {
   "cell_type": "markdown",
   "metadata": {},
   "source": [
    "This still works, eventhough we defined both `cat` and `dog` in seperate cells.\n",
    "\n",
    "Long story short:\n",
    "\n",
    "          1. Be mindful of the variables you want to use, how you call them, and what type they should be (integer,float,string,list)\n",
    "\n",
    "          2. If you want to use these variables for subsequent operations, make sure to create them before!\n",
    "\n",
    "          3. Try to avoid accidently overwriting your variables"
   ]
  },
  {
   "cell_type": "code",
   "execution_count": 23,
   "metadata": {},
   "outputs": [
    {
     "name": "stdout",
     "output_type": "stream",
     "text": [
      "Janos\n"
     ]
    }
   ],
   "source": [
    "Name = \"Janos\"\n",
    "print(Name)"
   ]
  },
  {
   "cell_type": "code",
   "execution_count": 24,
   "metadata": {},
   "outputs": [
    {
     "name": "stdout",
     "output_type": "stream",
     "text": [
      "Ben\n"
     ]
    }
   ],
   "source": [
    "Name = \"Ben\"\n",
    "print(Name)"
   ]
  },
  {
   "cell_type": "markdown",
   "metadata": {},
   "source": [
    "Lists can be used to store more than one value."
   ]
  },
  {
   "cell_type": "code",
   "execution_count": 27,
   "metadata": {},
   "outputs": [
    {
     "name": "stdout",
     "output_type": "stream",
     "text": [
      "['banana', 'peanut butter', 'pasta']\n"
     ]
    }
   ],
   "source": [
    "banana = \"banana\"\n",
    "\n",
    "peanut_butter = \"peanut butter\"\n",
    "\n",
    "Pasta = \"pasta\"\n",
    "\n",
    "shopping_list = [banana,peanut_butter,Pasta]\n",
    "print(shopping_list)"
   ]
  },
  {
   "cell_type": "markdown",
   "metadata": {},
   "source": [
    "This works as well"
   ]
  },
  {
   "cell_type": "code",
   "execution_count": 28,
   "metadata": {},
   "outputs": [
    {
     "name": "stdout",
     "output_type": "stream",
     "text": [
      "['banana', 'peanut butter', 'Pasta']\n"
     ]
    }
   ],
   "source": [
    "shopping_list = [\"banana\",\"peanut butter\",\"Pasta\"]\n",
    "print(shopping_list)"
   ]
  },
  {
   "cell_type": "markdown",
   "metadata": {},
   "source": [
    "\n",
    "Logical operators are used to compare `variables, or values`. The most common ones are\n",
    "\n",
    "          <         Something is smaller than something\n",
    "          >         Something is larger than something\n",
    "          ==        Something is equal to something\n",
    "          !=        Something is NOT equal to something\n",
    "          =>        Something is more or equal to something\n",
    "          <=        Something is less or equal to something\n",
    "\n",
    "The output of these operators is always a `logical`, e.g. `True` if the condition is met or `False` if the condition is **not** met"
   ]
  },
  {
   "cell_type": "code",
   "execution_count": null,
   "metadata": {},
   "outputs": [
    {
     "data": {
      "text/plain": [
       "(True, False)"
      ]
     },
     "execution_count": 1,
     "metadata": {},
     "output_type": "execute_result"
    }
   ],
   "source": [
    "3 < 5, 3 > 5"
   ]
  },
  {
   "cell_type": "markdown",
   "metadata": {},
   "source": [
    "If/else clauses can be used to further investigate these ideas of logical operators. They are valuable, when you want your computer to only do a certain thing (print something, do something...) `if` a condition is met (e.g., its logical value is `True`).\n",
    "\n",
    "          if KVB == Strike and weather == rainy:           (returns True, if the KVB is on strike and it is raining outside)\n",
    "                    skip_classes()\n",
    "          elif weather == rainy:                            (Will only be checked if the first condition (KVB on strike and weather == rainy) is `False`; returns `True`, if it is raining)\n",
    "                    use_KVB()\n",
    "          elif KVB == Strike:                               (Will only be checked, if neither if/elif statements are True.)\n",
    "                    use_bike()     \n",
    "\n",
    "We do not need an else statement for this to work! Else should be used in situations, where you need a \"fallback\" action.\n",
    "\n",
    "          if salary > 3000:                                (If the salary is above 3000 euros, accept it)\n",
    "                    accept_offer()\n",
    "          elif salary > 2500:                              (If it is not above 3000 euros, but its still above 2500 euros, try to negotiate)\n",
    "                    negotiate()\n",
    "          else:                                            (If its neither above 3000, nor above 2500, you dont see any point. You decline the offer.)\n",
    "                    decline_offer()\n",
    "\n",
    "          \n",
    "\n",
    "\n",
    "          \n",
    "\n",
    "\n",
    "\n"
   ]
  },
  {
   "cell_type": "markdown",
   "metadata": {},
   "source": [
    "A for loop can be used to tell python, do something over and over again. For example, you can tell python to go over each individual element in `shopping_list`. \n",
    "\n",
    "The alternative way (without using for loops) would be to do"
   ]
  },
  {
   "cell_type": "code",
   "execution_count": 29,
   "metadata": {},
   "outputs": [
    {
     "data": {
      "text/plain": [
       "('banana', 'peanut butter', 'Pasta')"
      ]
     },
     "execution_count": 29,
     "metadata": {},
     "output_type": "execute_result"
    }
   ],
   "source": [
    "shopping_list[0],shopping_list[1],shopping_list[2]"
   ]
  },
  {
   "cell_type": "markdown",
   "metadata": {},
   "source": [
    "But with a for loop you can tell pythoh, go through each element that is stored in `shopping_list` and do something with it."
   ]
  },
  {
   "cell_type": "code",
   "execution_count": 30,
   "metadata": {},
   "outputs": [
    {
     "name": "stdout",
     "output_type": "stream",
     "text": [
      "banana\n",
      "peanut butter\n",
      "Pasta\n"
     ]
    }
   ],
   "source": [
    "for item in shopping_list:\n",
    "          print(item)"
   ]
  },
  {
   "cell_type": "markdown",
   "metadata": {},
   "source": [
    "Lets break it down:\n",
    "\n",
    "          for (tells python, that you start are starting a for-loop) \n",
    "          item (the iterator. This is the name you give to each thing in the list as you loop through it. You can call it anything you want )\n",
    "          in shopping_list (Tells python: \"Look inside the list called shopping_list, and go through each item one by one\")\n",
    "          print(item)       (Tells python, that you want to print each item, that you go through with your for loop)\n",
    "\n",
    "\n",
    "We can combine both if/else clauses and for loops"
   ]
  },
  {
   "cell_type": "code",
   "execution_count": 32,
   "metadata": {},
   "outputs": [
    {
     "name": "stdout",
     "output_type": "stream",
     "text": [
      "Thats all I need\n"
     ]
    }
   ],
   "source": [
    "for item in shopping_list:\n",
    "          if item == \"peanut butter\":\n",
    "                    print(\"Thats all I need\")"
   ]
  },
  {
   "cell_type": "markdown",
   "metadata": {},
   "source": [
    "Explaination:\n",
    "\n",
    "          You tell python to go through each item in your shopping list. If that item is peanut butter you want to print something.\n",
    "\n",
    "And at last, we can also use our newly discovered list datatype to extract items from a for loop"
   ]
  },
  {
   "cell_type": "code",
   "execution_count": 34,
   "metadata": {},
   "outputs": [],
   "source": [
    "FoodICareAbout = []\n",
    "FoodIDontCareAbout = []\n",
    "\n",
    "for item in shopping_list:\n",
    "          if item == \"peanut butter\":\n",
    "                    FoodICareAbout.append(item)\n",
    "          else:\n",
    "                    FoodIDontCareAbout.append(item)"
   ]
  },
  {
   "cell_type": "markdown",
   "metadata": {},
   "source": [
    "Explaination:\n",
    "\n",
    "          You tell python to go through each item in your shopping list. If that item is peanut butter you want to `append` (add) it to a list called `FoodICareAbout`.\n",
    "          If the item in shopping list is not peanut butter, you want to add that item to a list called `FoodIDontCareAbout`:"
   ]
  },
  {
   "cell_type": "code",
   "execution_count": 44,
   "metadata": {},
   "outputs": [
    {
     "name": "stdout",
     "output_type": "stream",
     "text": [
      "I care about ['peanut butter']\n",
      "I dont care about ['banana', 'Pasta']\n"
     ]
    }
   ],
   "source": [
    "print(f\"I care about {FoodICareAbout}\")\n",
    "print(f\"I dont care about {FoodIDontCareAbout}\")"
   ]
  },
  {
   "cell_type": "code",
   "execution_count": 47,
   "metadata": {},
   "outputs": [
    {
     "data": {
      "text/plain": [
       "(['peanut butter'], ['banana', 'Pasta'])"
      ]
     },
     "execution_count": 47,
     "metadata": {},
     "output_type": "execute_result"
    }
   ],
   "source": [
    "FoodICareAbout,FoodIDontCareAbout"
   ]
  },
  {
   "cell_type": "markdown",
   "metadata": {},
   "source": [
    "### **Final recap exercise**:\n",
    "\n",
    "Create a list, and give it any name you like \n",
    "All these options work and are valid\n",
    "\n",
    "          Food = [] \n",
    "          Hobbies = []\n",
    "          AList = []\n",
    "\n",
    "Add (type something in the [] brackets) any value you want to. For example, you could add your favorite breakfast/lunch/dessert options (in strings \"\") or whatever you like and name your list `FoodIlike`.\n",
    "\n",
    "Then use a for loop to go through each item in that list. Try to come up with something that either involves `if/else` clauses or the `list.append` functionality. If you want to use the latter, make sure to create two new lists, so python knows where you want to store your items in !\n",
    "\n",
    "**Hint**: Take a look at the solution from exercise 7.0, if you are stuck.\n",
    "\n",
    "Once your for loop is completed (the loop went through **ALL** values), add a `print` statement that says \"Loop finished\"\n",
    "\n"
   ]
  },
  {
   "cell_type": "code",
   "execution_count": null,
   "metadata": {},
   "outputs": [],
   "source": []
  },
  {
   "cell_type": "markdown",
   "metadata": {},
   "source": [
    "![Questions](../static/questions.gif)"
   ]
  },
  {
   "cell_type": "markdown",
   "metadata": {},
   "source": [
    "We can also use for loops to compute the sum of a list"
   ]
  },
  {
   "cell_type": "code",
   "execution_count": null,
   "metadata": {},
   "outputs": [
    {
     "name": "stdout",
     "output_type": "stream",
     "text": [
      "19.099999999999998\n"
     ]
    }
   ],
   "source": [
    "sum = 0\n",
    "for grade in grades:\n",
    "          '''\n",
    "          You can either do sum = sum + grade OR sum+=grade. These operations are equivalent\n",
    "          '''\n",
    "          sum+=grade\n",
    "print(sum),print(f\"The average of this list is {sum/len(grades)}\")"
   ]
  },
  {
   "cell_type": "markdown",
   "metadata": {},
   "source": [
    "The last for loop feature I want to talk about is the [`enumerate`](https://www.geeksforgeeks.org/enumerate-in-python/) function. What does enumerate do? It is essentially a `counter` variable, that helps you keep track of the elements you have looped through."
   ]
  },
  {
   "cell_type": "code",
   "execution_count": 15,
   "metadata": {},
   "outputs": [
    {
     "name": "stdout",
     "output_type": "stream",
     "text": [
      "0 1.0\n",
      "1 1.1\n",
      "2 4.4\n",
      "3 5.0\n",
      "4 3.7\n",
      "5 3.9\n"
     ]
    }
   ],
   "source": [
    "for idx, grade in enumerate(grades):\n",
    "          print(idx,grade)\n",
    "          "
   ]
  },
  {
   "cell_type": "markdown",
   "metadata": {},
   "source": [
    "So this is pretty useful of keeping track. Enumerate can be helpful, if you are interested in the position of a target element.\n",
    "For example, if you want to know, at what position a grade is below or above average. In the example of 5 values, you can just look it up, but if we talk about huge arrays ( > 1000 elements) this wont work anymore.\n",
    "\n",
    "### **Exercise 8.0**\n",
    "\n",
    "Try now to loop through the grades list again. If an element is below average, display (print) the value and index using `f-string formatting`."
   ]
  },
  {
   "cell_type": "code",
   "execution_count": null,
   "metadata": {},
   "outputs": [
    {
     "name": "stdout",
     "output_type": "stream",
     "text": [
      "I am using f-string formatting to display the number 20\n"
     ]
    }
   ],
   "source": [
    "'''\n",
    "This cell is a reminder on f-string formatting\n",
    "'''\n",
    "number = 20\n",
    "print(f\"I am using f-string formatting to display the number {number}\")"
   ]
  },
  {
   "cell_type": "code",
   "execution_count": null,
   "metadata": {},
   "outputs": [],
   "source": [
    "raise Exception(\"Solution Missing\")"
   ]
  },
  {
   "cell_type": "markdown",
   "metadata": {},
   "source": [
    "### **Bonus Exercise**\n",
    "\n",
    "Using a for loop, re-create the following output pattern\n",
    "\n",
    "          1\n",
    "          1,2\n",
    "          1,2,3\n",
    "          1,2,3,4\n",
    "          1,2,3,4,5\n",
    "\n",
    "**Hint**: This gets easier if you use the list datatype"
   ]
  },
  {
   "cell_type": "code",
   "execution_count": null,
   "metadata": {},
   "outputs": [],
   "source": [
    "raise Exception(\"Solution Missing\")"
   ]
  },
  {
   "cell_type": "markdown",
   "metadata": {},
   "source": [
    "### **Bonus Exercise**\n",
    "\n",
    "Using a for loop, print the Fibonacci series up to 10 numbers. The first number should be a 0\n",
    "\n",
    "The output should look like this:\n",
    "\n",
    "          0,1,2,3,5,8,13,21,34\n",
    "\n",
    "          The logic = (0 + 1 ) = 1; (2+1) = 3; (2+3) = 5;..."
   ]
  },
  {
   "cell_type": "code",
   "execution_count": null,
   "metadata": {},
   "outputs": [],
   "source": [
    "raise Exception(\"Solution Missing\")"
   ]
  },
  {
   "cell_type": "markdown",
   "metadata": {},
   "source": [
    "![Otter](../static/otter.gif)"
   ]
  },
  {
   "cell_type": "markdown",
   "metadata": {},
   "source": [
    "## While Loops"
   ]
  },
  {
   "cell_type": "markdown",
   "metadata": {},
   "source": [
    "Next to for loops, we can also use `while loops`. Since `for loops` are more common than while loops (and while loops can lead to unexpected results, if not used properly), I dont want to spend too much time on them.\n",
    "\n",
    "The general logic behind these loops is, that `while` something is `True`, do something.\n",
    "\n",
    "          while Tired:\n",
    "                    drink(coffee)\n",
    "\n",
    "While loops can be handy, when you want to apply some operation, until a certain condition or threshold is met. "
   ]
  },
  {
   "cell_type": "code",
   "execution_count": 16,
   "metadata": {},
   "outputs": [
    {
     "name": "stdout",
     "output_type": "stream",
     "text": [
      "0\n",
      "1\n",
      "2\n",
      "3\n",
      "4\n"
     ]
    }
   ],
   "source": [
    "i = 0\n",
    "\n",
    "while i < 5:\n",
    "    print(i)\n",
    "    \n",
    "    i = i + 1 \n",
    "    #i+=1 yields the same results as i = i + 1 "
   ]
  },
  {
   "cell_type": "markdown",
   "metadata": {},
   "source": [
    "As said before, they can become very dangerous, if you forget a certain keyword.\n",
    "\n",
    "if you would run\n",
    "\n",
    "          i = 0\n",
    "          while i < 5:\n",
    "          print(i)\n",
    "\n",
    "so without actually updating i at each iteration, your loop would run infinitely long. You would need to stop your kernel and re-start your notebook, if your computer does not crash before. So please dont do that and always make double sure your `while loops` work right!"
   ]
  },
  {
   "cell_type": "markdown",
   "metadata": {},
   "source": [
    "You can also combine your while loops with `if/else` statements"
   ]
  },
  {
   "cell_type": "code",
   "execution_count": 3,
   "metadata": {},
   "outputs": [
    {
     "name": "stdout",
     "output_type": "stream",
     "text": [
      "One more beer please\n",
      "One more beer please\n",
      "One more beer please\n",
      "One more beer please\n",
      "One more beer please\n",
      "Some water please, I already had 5 beer!\n"
     ]
    }
   ],
   "source": [
    "beer = 0\n",
    "\n",
    "while beer < 5:\n",
    "          print(\"One more beer please\")\n",
    "          beer += 1\n",
    "else:\n",
    "          print(f\"Some water please, I already had {beer} beer!\")"
   ]
  },
  {
   "cell_type": "markdown",
   "metadata": {},
   "source": [
    "### **Exercise 9.0**\n",
    "\n",
    "Calculate the number of friends that you can invite to the cinema using a while-loop (This Exercise was stolen from [Peer Herholz](https://peerherholz.github.io/Python_for_Psychologists_Winter2021/introduction/intro_python_III.html#while-loops))\n",
    "\n",
    "\n",
    "    money = 43\n",
    "\n",
    "    ticket_price = 10\n",
    "\n",
    "During each iteration, keep track of the amount of friends you are able to invite using a variable called `counter`. Display the numbers of friends you can invite using `f-string formatting`.\n",
    "\n",
    "**Hint**: If you struggle approaching this, try to break the problem down step by step:\n",
    "\n",
    "You have 43 euros/dollars/... and want to invite as many friends as you can. Each ticket costs 10 euros. You can only invite friends *while* you have enough money to pay for the ticket, e.g. while you have more money than the ticket should cost."
   ]
  },
  {
   "cell_type": "code",
   "execution_count": null,
   "metadata": {},
   "outputs": [],
   "source": [
    "while....:\n",
    "          ....\n",
    "          raise Exception(\"Solution Missing\")"
   ]
  },
  {
   "cell_type": "markdown",
   "metadata": {},
   "source": [
    "We can also expand on this idea and use something called the `break` statement.\n",
    "\n",
    "`break` can be inserted in your loops, it will automatically stop your loop, eventhough the `while` condition is still true."
   ]
  },
  {
   "cell_type": "code",
   "execution_count": 1,
   "metadata": {},
   "outputs": [
    {
     "name": "stdout",
     "output_type": "stream",
     "text": [
      "Still true\n",
      "Still true\n",
      "Still true\n",
      "Break\n"
     ]
    }
   ],
   "source": [
    "i=0\n",
    "\n",
    "while i < 5:\n",
    "          print(\"Still true\")\n",
    "          i+=1\n",
    "          if i == 3:\n",
    "                    print(\"Break\")\n",
    "                    break"
   ]
  },
  {
   "cell_type": "markdown",
   "metadata": {},
   "source": [
    "### **Bonus**\n",
    "\n",
    "Use this feature and add it to the while loop from exercise 9.0. Since you are a greedy person, you only want to invite two of your friends. Include this in your loop."
   ]
  },
  {
   "cell_type": "code",
   "execution_count": null,
   "metadata": {},
   "outputs": [],
   "source": [
    "while ....:\n",
    "           raise Exception(\"Solution Missing\")A\n"
   ]
  },
  {
   "cell_type": "markdown",
   "metadata": {},
   "source": [
    "### **Bonus**\n",
    "\n",
    "Using a while loop, calculate a product , until the product is larger than 1000.\n",
    "\n",
    "Start with:\n",
    "\n",
    "`product = 1`\n",
    "\n",
    "`num = 1`\n",
    "\n",
    "*Hint*: Multiply `product by num` and update both num and product at each iteration!\n",
    "\n",
    "\n"
   ]
  },
  {
   "cell_type": "code",
   "execution_count": null,
   "metadata": {},
   "outputs": [],
   "source": []
  }
 ],
 "metadata": {
  "kernelspec": {
   "display_name": "base",
   "language": "python",
   "name": "python3"
  },
  "language_info": {
   "codemirror_mode": {
    "name": "ipython",
    "version": 3
   },
   "file_extension": ".py",
   "mimetype": "text/x-python",
   "name": "python",
   "nbconvert_exporter": "python",
   "pygments_lexer": "ipython3",
   "version": "3.9.12"
  }
 },
 "nbformat": 4,
 "nbformat_minor": 2
}
