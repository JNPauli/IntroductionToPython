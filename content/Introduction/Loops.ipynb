{
 "cells": [
  {
   "cell_type": "markdown",
   "metadata": {},
   "source": [
    "# Loops"
   ]
  },
  {
   "cell_type": "markdown",
   "metadata": {},
   "source": [
    "## For Loops"
   ]
  },
  {
   "cell_type": "markdown",
   "metadata": {},
   "source": [
    "You briefly saw an example of a `for loop` before\n",
    "\n",
    "          for i in range(100):\n",
    "                    os.mdkir(f\"MyNewFolder_{i}\")\n",
    "\n",
    "and I now want to build upon these concepts. \n",
    "\n",
    "There are different kinds of loops and they all allow you to do one thing: Automize and speed up your workflow. In its simplest form, Loops are a way of you telling your computer, to repeat a computation or operation for a given amount.\n",
    "\n",
    "For example: \n",
    "\n",
    "Lets assume we have this `list` called grades, and these values are grades students got in an exam\n",
    "\n",
    "          grades = [1.0, 1.1, 4.4, 5.0, 3.7, 3,9]\n",
    "\n",
    "You now want to use your knowledge on if else loops to check, if each element in this list is *smaller* than the school average. Lets say, the school average is 2.8.\n",
    "\n",
    "### **Exercise**\n",
    "\n",
    "Think! Based on your knowledge so far, how would you solve this comparison? You dont actually have to code this, this is more about building a basic understanding on how to approach this.\n",
    "\n",
    "If you are already familiar with the concepts of loops, please dont spoil the answer to your fellows, as this might hinder their learning process :)\n",
    "\n",
    "The solution is in the cell below, so please dont click it yet!"
   ]
  },
  {
   "cell_type": "markdown",
   "metadata": {},
   "source": [
    "**Type your answer here**"
   ]
  },
  {
   "cell_type": "markdown",
   "metadata": {
    "tags": [
     "hide_input"
    ]
   },
   "source": [
    "```{toggle}\n",
    "school_average = 2.8\n",
    "grades = [1.0, 1.1, 4.4, 5.0, 3.7, 3.9]\n",
    "\n",
    "for grade in grades:\n",
    "          if grade < school_average:\n",
    "                    print(\"This grade is above average\")\n",
    "          else:\n",
    "                    print(\"This grade is below average\")\n",
    "```"
   ]
  },
  {
   "cell_type": "markdown",
   "metadata": {},
   "source": [
    "Explaination below:"
   ]
  },
  {
   "cell_type": "markdown",
   "metadata": {},
   "source": [
    "```{toggle}\n",
    "The logic: \n",
    "\n",
    "for each value in our list `grades`, check if that grade is smaller than the school average and print if it is above average, else print that it is below average.\n",
    "\n",
    "Without for loop we would have to do\n",
    "\n",
    "          if grades[0] < school_average,else\n",
    "          if grades[1] < school_average,else\n",
    "          ...\n",
    "\n",
    "So this concept saves us a lot of time. We can go through each single element in our list, apply what ever operation we want to it and proceed.\n",
    "```\n"
   ]
  },
  {
   "cell_type": "markdown",
   "metadata": {},
   "source": [
    "As you see, this can be really really helpful.\n",
    "\n",
    "Before we deepen our knowledge on for loops, I want to highlight a cool feature of the `list` datatype.\n",
    "\n",
    "You can actually add or remove elements from a list, using python lingo we would call these data types `mutable`, wheras the opposite is called `immutable`. For a detailed description, please see [here](https://realpython.com/python-mutable-vs-immutable-types/).\n",
    "\n",
    "Most commonly, to add further elements to your list we use this expression \n",
    "\n",
    "          `List.append(\"My Value\")`\n",
    "\n",
    "if you want to remove elements from your list, you can use\n",
    "\n",
    "           `List.remove(\"My Value\")`\n",
    "\n",
    "Next thing to know is, that we can also create `empty` lists\n",
    "\n",
    "          MyList = []\n",
    "\n",
    "This can be useful if you want to extract elements from one list and add these elements to a different list.\n",
    "\n",
    "### **Exercise**\n",
    "\n",
    "Complete the code cell below. Initiate two new lists called above_average and below_average. Append elements from the `grades` list to these lists, accordingly.\n",
    "\n",
    "Remove the `raise Exception(\"Solution Missing\")` statements once you entered your solution."
   ]
  },
  {
   "cell_type": "code",
   "execution_count": null,
   "metadata": {},
   "outputs": [],
   "source": [
    "school_average = 2.8\n",
    "grades = [1.0, 1.1, 4.4, 5.0, 3.7, 3.9]\n",
    "\n",
    "for grade in grades:\n",
    "          if grade < school_average:\n",
    "                    \n",
    "                    raise Exception(\"Solution Missing\")\n",
    "          else:\n",
    "                    raise Exception(\"Solution Missing\")\n"
   ]
  },
  {
   "cell_type": "markdown",
   "metadata": {},
   "source": [
    "The last for loop feature I want to talk about is the [`enumerate`](https://www.geeksforgeeks.org/enumerate-in-python/) function. What does enumerate do? It is essentially a `counter` variable, that helps you keep track of the elements you have looped through."
   ]
  },
  {
   "cell_type": "code",
   "execution_count": 15,
   "metadata": {},
   "outputs": [
    {
     "name": "stdout",
     "output_type": "stream",
     "text": [
      "0 1.0\n",
      "1 1.1\n",
      "2 4.4\n",
      "3 5.0\n",
      "4 3.7\n",
      "5 3.9\n"
     ]
    }
   ],
   "source": [
    "for idx, grade in enumerate(grades):\n",
    "          print(idx,grade)\n",
    "          "
   ]
  },
  {
   "cell_type": "markdown",
   "metadata": {},
   "source": [
    "So this is pretty useful of keeping track. Enumerate can be helpful, if you are interested in the position of a target element.\n",
    "For example, if you want to know, at what position a grade is below or above average. In the example of 5 values, you can just look it up, but if we talk about huge arrays ( > 1000 elements) this wont work anymore.\n",
    "\n",
    "### **Exercise**\n",
    "\n",
    "Try now to loop through the grades list again. If an element is below average, display (print) the index."
   ]
  },
  {
   "cell_type": "code",
   "execution_count": null,
   "metadata": {},
   "outputs": [],
   "source": []
  },
  {
   "cell_type": "markdown",
   "metadata": {},
   "source": [
    "![Questions](../static/questions.gif)"
   ]
  },
  {
   "cell_type": "markdown",
   "metadata": {},
   "source": [
    "## While Loops"
   ]
  },
  {
   "cell_type": "markdown",
   "metadata": {},
   "source": [
    "Next to for loops, we can also use `while loops`. Since `for loops` are more common than while loops (and while loops can lead to unexpected results, if not used properly), I dont want to spend too much time on them.\n",
    "\n",
    "The general logic behind these loops is, that `while` something is `True`, do something.\n",
    "\n",
    "          while Tired:\n",
    "                    drink(coffee)\n",
    "\n",
    "While loops can be handy, when you want to apply some operation, until a certain condition or threshold is met. "
   ]
  },
  {
   "cell_type": "code",
   "execution_count": 16,
   "metadata": {},
   "outputs": [
    {
     "name": "stdout",
     "output_type": "stream",
     "text": [
      "0\n",
      "1\n",
      "2\n",
      "3\n",
      "4\n"
     ]
    }
   ],
   "source": [
    "i = 0\n",
    "\n",
    "while i < 5:\n",
    "    print(i)\n",
    "    \n",
    "    i = i + 1 \n",
    "    #i+=1 yields the same results as i = i + 1 "
   ]
  },
  {
   "cell_type": "markdown",
   "metadata": {},
   "source": [
    "As said before, they can become very dangerous, if you forget a certain keyword.\n",
    "\n",
    "if you would run\n",
    "\n",
    "          i = 0\n",
    "          while i < 5:\n",
    "          print(i)\n",
    "\n",
    "so without actually updating i at each iteration, your loop would run infinitely long. You would need to stop your kernel and re-start your notebook, if your computer does not crash before. So please dont do that and always make double sure your `while loops` work right!"
   ]
  },
  {
   "cell_type": "markdown",
   "metadata": {},
   "source": [
    "You can also combine your while loops with `if/else` statements"
   ]
  },
  {
   "cell_type": "code",
   "execution_count": 18,
   "metadata": {},
   "outputs": [
    {
     "name": "stdout",
     "output_type": "stream",
     "text": [
      "One more beer please\n",
      "One more beer please\n",
      "One more beer please\n",
      "One more beer please\n",
      "One more beer please\n",
      "Some water please\n"
     ]
    }
   ],
   "source": [
    "beer = 0\n",
    "\n",
    "while beer < 5:\n",
    "          print(\"One more beer please\")\n",
    "          beer += 1\n",
    "else:\n",
    "          print(\"Some water please\")"
   ]
  },
  {
   "cell_type": "markdown",
   "metadata": {},
   "source": [
    "### **Exercise**\n",
    "\n",
    "Calculate the number of friends that you can invite to the cinema using a while-loop (This Exercise was stolen from [Peer Herholz](https://peerherholz.github.io/Python_for_Psychologists_Winter2021/introduction/intro_python_III.html#while-loops))\n",
    "\n",
    "\n",
    "    money = 43\n",
    "\n",
    "    ticket_price = 10\n",
    "\n",
    "**Hint**: If you struggle approaching this, try to break the problem down step by step:\n",
    "\n",
    "You have 43 euros/dollars/... and want to invite as many friends as you can. Each ticket costs 10 euros. You can only invite friends *while* you have enough money to pay for the ticket, e.g. while you have more money than the ticket should cost."
   ]
  },
  {
   "cell_type": "code",
   "execution_count": null,
   "metadata": {},
   "outputs": [],
   "source": []
  }
 ],
 "metadata": {
  "kernelspec": {
   "display_name": "base",
   "language": "python",
   "name": "python3"
  },
  "language_info": {
   "codemirror_mode": {
    "name": "ipython",
    "version": 3
   },
   "file_extension": ".py",
   "mimetype": "text/x-python",
   "name": "python",
   "nbconvert_exporter": "python",
   "pygments_lexer": "ipython3",
   "version": "3.9.12"
  }
 },
 "nbformat": 4,
 "nbformat_minor": 2
}
