{
 "cells": [
  {
   "cell_type": "markdown",
   "id": "d970d9f5",
   "metadata": {},
   "source": [
    "# Introduction to python"
   ]
  },
  {
   "cell_type": "markdown",
   "id": "88daf0d2",
   "metadata": {},
   "source": [
    "Python is the gold standard programming language for data science and machine learning any many many more things.\n",
    "For detailed information, start [here](https://www.w3schools.com/datascience/ds_python.asp).\n",
    "\n",
    "\n",
    "You can use it for simple tasks like a pocket calculator but also very complex tasks like machine learning. \n",
    "\n",
    "Let's start with some simple operations.\n",
    "\n",
    "**Standards Operators** as one would use in a pocket calculator\n",
    "\n",
    "* Addition: `+`\n",
    "\n",
    "* Subtraction: `-`\n",
    "\n",
    "* Multiplication: `*`\n",
    "\n",
    "* Division: `/`\n",
    "\n",
    "* Exponentiation: `**`\n"
   ]
  },
  {
   "cell_type": "code",
   "execution_count": 3,
   "id": "3fef33b1",
   "metadata": {},
   "outputs": [
    {
     "data": {
      "text/plain": [
       "8"
      ]
     },
     "execution_count": 3,
     "metadata": {},
     "output_type": "execute_result"
    }
   ],
   "source": [
    "1+3+4"
   ]
  },
  {
   "cell_type": "code",
   "execution_count": 4,
   "id": "1dba6f65",
   "metadata": {},
   "outputs": [
    {
     "data": {
      "text/plain": [
       "-1"
      ]
     },
     "execution_count": 4,
     "metadata": {},
     "output_type": "execute_result"
    }
   ],
   "source": [
    "8-9"
   ]
  },
  {
   "cell_type": "code",
   "execution_count": 5,
   "id": "621a0ea9",
   "metadata": {},
   "outputs": [
    {
     "data": {
      "text/plain": [
       "48"
      ]
     },
     "execution_count": 5,
     "metadata": {},
     "output_type": "execute_result"
    }
   ],
   "source": [
    "8*6"
   ]
  },
  {
   "cell_type": "code",
   "execution_count": 6,
   "id": "d8aa2f23",
   "metadata": {},
   "outputs": [
    {
     "data": {
      "text/plain": [
       "36"
      ]
     },
     "execution_count": 6,
     "metadata": {},
     "output_type": "execute_result"
    }
   ],
   "source": [
    "6**2"
   ]
  },
  {
   "cell_type": "code",
   "execution_count": 7,
   "id": "7fdcdd22",
   "metadata": {},
   "outputs": [
    {
     "data": {
      "text/plain": [
       "5540"
      ]
     },
     "execution_count": 7,
     "metadata": {},
     "output_type": "execute_result"
    }
   ],
   "source": [
    "6**2+59+99*55"
   ]
  },
  {
   "cell_type": "markdown",
   "id": "4a514a77",
   "metadata": {},
   "source": [
    "### **Exercise 1.0**\n",
    "\n",
    "Think of a calculation and write the operation in the cell below. "
   ]
  },
  {
   "cell_type": "code",
   "execution_count": 7,
   "id": "ffe7d6ba",
   "metadata": {},
   "outputs": [],
   "source": []
  },
  {
   "cell_type": "markdown",
   "id": "1440b5a9",
   "metadata": {},
   "source": [
    "## **Variables**\n",
    "\n",
    "Variables can store numbers, text, or more complex structures. Here are two examples. `numeric` holds a number, `character` stores a text, and `logical` holds either `True` or `False`. The `=` sign allows to assign the variable with a piece of information. \n",
    "\n",
    "Assigning a varialbe simply means, that the variable `numeric` *has* the value 10!\n",
    "\n",
    " The `print` function allows us then to display the stored information of a variable."
   ]
  },
  {
   "cell_type": "code",
   "execution_count": 21,
   "id": "1388c534",
   "metadata": {},
   "outputs": [
    {
     "name": "stdout",
     "output_type": "stream",
     "text": [
      "10\n",
      "Hi!\n",
      "False\n",
      "Hello World\n"
     ]
    }
   ],
   "source": [
    "numeric = 10\n",
    "character = \"Hi!\"\n",
    "logical = False\n",
    "\n",
    "print(numeric)\n",
    "print(character)\n",
    "print(logical)\n",
    "print(\"Hello World\")\n"
   ]
  },
  {
   "cell_type": "markdown",
   "id": "6d0162ad",
   "metadata": {},
   "source": [
    "This is powerful as we also can use the variables to manipulate the associated values."
   ]
  },
  {
   "cell_type": "code",
   "execution_count": 22,
   "id": "43010217",
   "metadata": {},
   "outputs": [
    {
     "data": {
      "text/plain": [
       "15"
      ]
     },
     "execution_count": 22,
     "metadata": {},
     "output_type": "execute_result"
    }
   ],
   "source": [
    "x = numeric\n",
    "x+5"
   ]
  },
  {
   "cell_type": "code",
   "execution_count": 23,
   "id": "cf373e00",
   "metadata": {},
   "outputs": [
    {
     "data": {
      "text/plain": [
       "19"
      ]
     },
     "execution_count": 23,
     "metadata": {},
     "output_type": "execute_result"
    }
   ],
   "source": [
    "z = 9\n",
    "x+z"
   ]
  },
  {
   "cell_type": "markdown",
   "id": "151112b8",
   "metadata": {},
   "source": [
    "Critical here is to remember which type of information is stored in the variable. For example, `x+character` will lead to an error message. Since we cannot simply add a `string` to a `numerical` variable.\n",
    "However, `'x'+character` will work. The critical difference here is that with the hyphen indicators, we do not use the variable named `x`, but the character x and extend the information stored in `character` with this additional character.  "
   ]
  },
  {
   "cell_type": "code",
   "execution_count": 24,
   "id": "cda36e84",
   "metadata": {},
   "outputs": [
    {
     "name": "stdout",
     "output_type": "stream",
     "text": [
      "Dear Xenia, how are you?\n",
      "Dear Joe, how are you?\n"
     ]
    }
   ],
   "source": [
    "name = \"Xenia\"\n",
    "begruessung = \"Dear \" + name + \", how are you?\"\n",
    "\n",
    "print(begruessung)\n",
    "\n",
    "name = \"Joe\"\n",
    "begruessung = \"Dear \" + name + \", how are you?\"\n",
    "\n",
    "print(begruessung)"
   ]
  },
  {
   "cell_type": "markdown",
   "id": "be9a4491",
   "metadata": {},
   "source": [
    "With the `type()` function, one can identify the type of information stored in the variable."
   ]
  },
  {
   "cell_type": "code",
   "execution_count": 25,
   "id": "6dfb1b5c",
   "metadata": {},
   "outputs": [
    {
     "data": {
      "text/plain": [
       "int"
      ]
     },
     "execution_count": 25,
     "metadata": {},
     "output_type": "execute_result"
    }
   ],
   "source": [
    "type(z)"
   ]
  },
  {
   "cell_type": "markdown",
   "id": "a0b55e80",
   "metadata": {},
   "source": [
    "`int` indicates that in `x` an integer is stored (i.e., the number without decimals). "
   ]
  },
  {
   "cell_type": "code",
   "execution_count": 26,
   "id": "d91cce56",
   "metadata": {},
   "outputs": [
    {
     "data": {
      "text/plain": [
       "int"
      ]
     },
     "execution_count": 26,
     "metadata": {},
     "output_type": "execute_result"
    }
   ],
   "source": [
    "type(x+1)"
   ]
  },
  {
   "cell_type": "markdown",
   "id": "5af9e1fd",
   "metadata": {},
   "source": [
    "`float` indicates that stored information is a number with decimals. "
   ]
  },
  {
   "cell_type": "code",
   "execution_count": 27,
   "id": "6b7e7bb9",
   "metadata": {},
   "outputs": [
    {
     "data": {
      "text/plain": [
       "float"
      ]
     },
     "execution_count": 27,
     "metadata": {},
     "output_type": "execute_result"
    }
   ],
   "source": [
    "type(0.5)"
   ]
  },
  {
   "cell_type": "markdown",
   "id": "48044e13",
   "metadata": {},
   "source": [
    "`str` indicates that the variable stores string information. Strings are basically just text characters"
   ]
  },
  {
   "cell_type": "code",
   "execution_count": 28,
   "id": "69a5b50a",
   "metadata": {},
   "outputs": [
    {
     "data": {
      "text/plain": [
       "str"
      ]
     },
     "execution_count": 28,
     "metadata": {},
     "output_type": "execute_result"
    }
   ],
   "source": [
    "type(character)"
   ]
  },
  {
   "cell_type": "markdown",
   "id": "17fcd056",
   "metadata": {},
   "source": [
    "`Bool` stands for `boolean` they can be used to evaluate two variables. Python == Good Programming Language should return `True`, whereas SPSS == Good Programming Language should return `False`"
   ]
  },
  {
   "cell_type": "code",
   "execution_count": 29,
   "id": "39fd24e7",
   "metadata": {},
   "outputs": [
    {
     "data": {
      "text/plain": [
       "bool"
      ]
     },
     "execution_count": 29,
     "metadata": {},
     "output_type": "execute_result"
    }
   ],
   "source": [
    "type(logical)"
   ]
  },
  {
   "cell_type": "markdown",
   "id": "36dabd99",
   "metadata": {},
   "source": [
    "This is probably a good time to talk about naming conventions for your variables. Naming your variables should be informative, while keeping things short. You really want to do that, because if you look at your scripts in the future, you will not remember the logic behind some abstract variable you named (Trust me on this one).\n",
    "\n",
    "          a = 10 (not really informative)\n",
    "\n",
    "          AVariableThatICreatedAtTheBeginningOfMyScript = 10 (Non informative and way too long)\n",
    "\n",
    "          ExperimentalResults = 10 (On point!)\n",
    "          \n",
    "Last but not least: You need to either define your variables using a structure like MyVariable, or my_variable, or whatever you like. You `cannot` do\n",
    "\n",
    "          My Variable = 5\n",
    "\n",
    "In principle, this could work for column names within dataframes (we will learn about these later on), but I highly suggest to always apply these conventions.\n",
    "\n",
    "Further, if you want to load files from your local device, and they do not follow this convention, things will get really tricky. "
   ]
  },
  {
   "cell_type": "markdown",
   "id": "3ee95494",
   "metadata": {},
   "source": [
    "### **Exercise 2.0**\n",
    "\n",
    "Define two variables and manipulate them. "
   ]
  },
  {
   "cell_type": "code",
   "execution_count": 17,
   "id": "d41ea187",
   "metadata": {},
   "outputs": [],
   "source": []
  },
  {
   "cell_type": "markdown",
   "id": "7b6e6d12",
   "metadata": {},
   "source": [
    "## **Logical operators**:\n",
    "\n",
    "* `<`  for less than\n",
    "\n",
    "* `>`  for greater than\n",
    "\n",
    "* `<=` for less than or equal to\n",
    "\n",
    "* `>=` for greater than or equal to\n",
    "\n",
    "* `==` for equal to each other\n",
    "\n",
    "* `!=` not equal to each other"
   ]
  },
  {
   "cell_type": "code",
   "execution_count": 30,
   "id": "551797fa",
   "metadata": {},
   "outputs": [
    {
     "name": "stdout",
     "output_type": "stream",
     "text": [
      "False\n",
      "True\n"
     ]
    }
   ],
   "source": [
    "y = 10\n",
    "print(x != y)\n",
    "print(x > z)"
   ]
  },
  {
   "cell_type": "code",
   "execution_count": 31,
   "id": "638415c9",
   "metadata": {},
   "outputs": [
    {
     "data": {
      "text/plain": [
       "False"
      ]
     },
     "execution_count": 31,
     "metadata": {},
     "output_type": "execute_result"
    }
   ],
   "source": [
    "z == 10"
   ]
  },
  {
   "cell_type": "markdown",
   "id": "63b641a7",
   "metadata": {},
   "source": [
    "The result of a comparison is always a logical value (`True` or `False`)"
   ]
  },
  {
   "cell_type": "markdown",
   "id": "622d13df",
   "metadata": {},
   "source": [
    "## **`if`, `else` clauses** \n",
    "\n",
    "These statements are used to differentiate between values based on logical operators. \n",
    "\n",
    "`if` indicates that if some statement is `True`,  do something. \n",
    "\n",
    "The general syntax for these clauses (as well as loops, functions...) is based of indentations (Einrückungen).\n",
    "\n",
    "          if ... :                                (Dont forget the `:`)\n",
    "                    continue here                 (You can use `tab` after `:` to progress to the next level )\n",
    "                    if 2nd level:\n",
    "                              continue here       (You can also apply `nested` structures, if you feel that is is neccessary)\n",
    " \n"
   ]
  },
  {
   "cell_type": "code",
   "execution_count": 32,
   "id": "fa422b1f",
   "metadata": {},
   "outputs": [
    {
     "name": "stdout",
     "output_type": "stream",
     "text": [
      "x is greater than z\n"
     ]
    }
   ],
   "source": [
    "if x > z:\n",
    "    print (\"x is greater than z\")"
   ]
  },
  {
   "cell_type": "markdown",
   "id": "b1f82498",
   "metadata": {},
   "source": [
    "With the `else` statement, all possible alternatives are covered. In our case, all situations in which `x < z`. In the following example, we have this situation. "
   ]
  },
  {
   "cell_type": "code",
   "execution_count": 33,
   "id": "52b0de8e",
   "metadata": {},
   "outputs": [],
   "source": [
    "z = z+x"
   ]
  },
  {
   "cell_type": "code",
   "execution_count": 34,
   "id": "7e14f067",
   "metadata": {},
   "outputs": [
    {
     "name": "stdout",
     "output_type": "stream",
     "text": [
      "z is greater than x\n"
     ]
    }
   ],
   "source": [
    "if x > z:\n",
    "    print (\"x is greater than z\")\n",
    "else:\n",
    "    print (\"z is greater than x\")    "
   ]
  },
  {
   "cell_type": "markdown",
   "id": "190fb738",
   "metadata": {},
   "source": [
    "More specific statements can be achieved by `elif`, which means else if that allows specifying additional cases."
   ]
  },
  {
   "cell_type": "code",
   "execution_count": 35,
   "id": "59c5606a",
   "metadata": {},
   "outputs": [
    {
     "name": "stdout",
     "output_type": "stream",
     "text": [
      "z is greater than x\n"
     ]
    }
   ],
   "source": [
    "if x > z:\n",
    "    print (\"x is greater than z\")\n",
    "elif z == x+50:\n",
    "    print (\"z is equal to x plus 50\")\n",
    "else:\n",
    "    print (\"z is greater than x\")  "
   ]
  },
  {
   "cell_type": "markdown",
   "id": "52947ca1",
   "metadata": {},
   "source": [
    "\n",
    "We can also use logical operators to check if two conditions are true at the same time. Use the `and` keyword to combine this and check for two conditions in one line.\n",
    "\n",
    "To return `True`, both conditions need to be met."
   ]
  },
  {
   "cell_type": "code",
   "execution_count": 42,
   "id": "4128f448",
   "metadata": {},
   "outputs": [
    {
     "name": "stdout",
     "output_type": "stream",
     "text": [
      "This is false statement\n"
     ]
    }
   ],
   "source": [
    "if x > 10 and z > 5:\n",
    "          print(\"Both x and z are greater than 5\")\n",
    "else:\n",
    "          print(\"This is false statement\")"
   ]
  },
  {
   "cell_type": "markdown",
   "id": "7cdece49",
   "metadata": {},
   "source": [
    "The keyword `or` can be used to check if one or another conditions is met"
   ]
  },
  {
   "cell_type": "code",
   "execution_count": 43,
   "id": "9f9e8b03",
   "metadata": {},
   "outputs": [
    {
     "name": "stdout",
     "output_type": "stream",
     "text": [
      "One of x and z is greater than 5\n"
     ]
    }
   ],
   "source": [
    "if x > 10 and z > 5:\n",
    "          print(\"Both x and z are greater than 5\")\n",
    "elif x > 10 or z > 5:\n",
    "          print(\"One of x and z is greater than 5\")\n",
    "else:\n",
    "          print(\"None of these statements hold true\")"
   ]
  },
  {
   "cell_type": "markdown",
   "id": "f4c116dd",
   "metadata": {},
   "source": [
    "### **Exercise 3.0**\n",
    "Define a new variable called `temperature` and assign to it an integer or float between -10 and 40. This will represent the current temperature in Celsius.\n",
    "\n",
    "Now, write an `if/elif/else` block that checks the value of temperature and prints a message based on the temperature range.\n",
    "\n",
    "If the temperature is below 0, print: \"It's freezing!\"\n",
    "\n",
    "If the temperature is between 0 (inclusive) and 15, print: \"It's a bit chilly\"\n",
    "\n",
    "If the temperature is between 15 (inclusive) and 25, print: \"Nice weather\"\n",
    "\n",
    "If the temperature is between 25 (inclusive) and 35, print: \"It's getting hot\"\n",
    "\n",
    "If the temperature is 35 or higher, print: \"It's boiling!\"\n",
    "\n",
    "You can change the value of temperature to test different outputs and better understand how the if/elif/else structure works."
   ]
  },
  {
   "cell_type": "code",
   "execution_count": null,
   "id": "e9280579",
   "metadata": {},
   "outputs": [],
   "source": [
    "temperature = 40\n",
    "\n",
    "if temperature < 0:\n",
    "          print(\"Its freezing\")\n",
    "elif temperature >= 0 and temperature < 15:\n",
    "          print(\"Its a bit chilly\")\n",
    "elif temperature >= 15 and temperature < 25:\n",
    "          print(\"Its nice weather\")\n",
    "elif temperature >= 25 and temperature < 35:\n",
    "          print(\"Its getting hot!\")\n",
    "else:\n",
    "          print(\"Its boiling\")"
   ]
  },
  {
   "cell_type": "markdown",
   "id": "183882b0",
   "metadata": {},
   "source": [
    "### **Bonus**\n",
    "\n",
    "We have two monkeys, a and b, and the parameters a_smile and b_smile indicate if each is smiling. We are in serious trouble if they are both smiling or if neither of them is smiling. \n",
    "\n",
    "Using `if/else` statements, return True if we are in trouble.\n",
    "\n",
    "For this exercise you just need to paste in your solution to the `monkey_trouble` function.\n",
    "Make sure to add the `return True` and `return False` statements indentation after your solutions.\n",
    "\n",
    "Meaning:\n",
    "\n",
    "          if my_solution:\n",
    "                    return True\n",
    "          else other_solution:\n",
    "                    return False\n",
    "\n",
    "We will talk later more about functions and the `return` keyword. For now, just try to fill in your solution.\n",
    "\n",
    "If your solution is correct, you will see `True, True, False, False` printed below the `code cell`."
   ]
  },
  {
   "cell_type": "code",
   "execution_count": null,
   "id": "160a1a7b",
   "metadata": {},
   "outputs": [
    {
     "name": "stdout",
     "output_type": "stream",
     "text": [
      "True\n",
      "True\n",
      "False\n",
      "False\n"
     ]
    }
   ],
   "source": [
    "def monkey_trouble(a_smile, b_smile):\n",
    "          \n",
    "          if a_smile == b_smile:\n",
    "                    return True\n",
    "          else:\n",
    "                    return False\n",
    "                    \n",
    "          \n",
    "\n",
    "print(monkey_trouble(True, True))   # should return True\n",
    "print(monkey_trouble(False, False)) # should return True\n",
    "print(monkey_trouble(True, False))  # should return False\n",
    "print(monkey_trouble(False, True)) # should return False"
   ]
  },
  {
   "cell_type": "markdown",
   "id": "d9776b1a",
   "metadata": {},
   "source": [
    "## **Variables that include multiple items (Lists)**: \n",
    "\n",
    "We can store multiple pieces of information in one variable. This is what we call a `List`. A list is a `vanilla python` datatype. You can store all kinds of information (diverse datatypes) in it."
   ]
  },
  {
   "cell_type": "code",
   "execution_count": 46,
   "id": "1189c9e8",
   "metadata": {},
   "outputs": [
    {
     "name": "stdout",
     "output_type": "stream",
     "text": [
      "[10, 19]\n"
     ]
    }
   ],
   "source": [
    "list_1 = [x,z]\n",
    "print(list_1)"
   ]
  },
  {
   "cell_type": "code",
   "execution_count": 47,
   "id": "b4630ee2",
   "metadata": {},
   "outputs": [
    {
     "data": {
      "text/plain": [
       "[10, 19, 50, 18]"
      ]
     },
     "execution_count": 47,
     "metadata": {},
     "output_type": "execute_result"
    }
   ],
   "source": [
    "list_2 = [x,z,50,18]\n",
    "list_2"
   ]
  },
  {
   "cell_type": "code",
   "execution_count": 48,
   "id": "9c12fc89",
   "metadata": {},
   "outputs": [
    {
     "data": {
      "text/plain": [
       "['x', 'z', 50, 78]"
      ]
     },
     "execution_count": 48,
     "metadata": {},
     "output_type": "execute_result"
    }
   ],
   "source": [
    "list_3 = [\"x\",\"z\",50,78]\n",
    "list_3"
   ]
  },
  {
   "cell_type": "code",
   "execution_count": 49,
   "id": "b7e8a47e",
   "metadata": {},
   "outputs": [
    {
     "data": {
      "text/plain": [
       "['x', 'z', '50', '78']"
      ]
     },
     "execution_count": 49,
     "metadata": {},
     "output_type": "execute_result"
    }
   ],
   "source": [
    "list_4 = [\"x\",\"z\",\"50\",\"78\"]\n",
    "list_4"
   ]
  },
  {
   "cell_type": "markdown",
   "id": "16e8ba80",
   "metadata": {},
   "source": [
    "The `len` function can be used to count the number of items of a list."
   ]
  },
  {
   "cell_type": "code",
   "execution_count": null,
   "id": "2c12a770",
   "metadata": {},
   "outputs": [
    {
     "data": {
      "text/plain": [
       "2"
      ]
     },
     "execution_count": 28,
     "metadata": {},
     "output_type": "execute_result"
    }
   ],
   "source": [
    "len(list_1)"
   ]
  },
  {
   "cell_type": "code",
   "execution_count": null,
   "id": "5446d7d1",
   "metadata": {},
   "outputs": [
    {
     "data": {
      "text/plain": [
       "4"
      ]
     },
     "execution_count": 29,
     "metadata": {},
     "output_type": "execute_result"
    }
   ],
   "source": [
    "len(list_3)"
   ]
  },
  {
   "cell_type": "markdown",
   "id": "931ef5be",
   "metadata": {},
   "source": [
    "Next to `len`, there are other `built-in` functions that we can use with the list datatype\n",
    "\n",
    "- `len()` calculate length of list\n",
    "- `max()` calculate max of list\n",
    "- `min()` calculate min of list\n",
    "- `sum()` calculate sum of list\n",
    "- `sorted()` return a sorted list\n",
    "- `list()` cast to type list -- convert tuple to list or a generator to list\n",
    "- `any()` return `True` if the truthiness of any value is `True` in the list\n",
    "- `all()` return `True` if the truthiness of all the values is `True` in the list\n",
    "\n",
    "We can also `slice` into our lists, returning different values\n",
    "\n",
    "- List slicing allows you to pick out specific elements from a list. In oder to understand the list slicing, you need to know five things:\n",
    "  1. Start index -- this is the index from which the slice of a list is taken. This index is included.\n",
    "  2. End Index -- this is the index to which the slice is taken up to but not including.\n",
    "  3. Step size -- you can specify a skip factor that allows you to skip certain number of values\n",
    "  4. the colon is used separate start and end index and the step size.\n",
    "  5. Start index, end index, and step size are all optional, but you need at least one\n",
    "- Here are some variations of slicing:\n",
    "  1. start index, but no end index -- my_list[3:] -- will take all elements from index 3 to the end of list, including the last value\n",
    "  2. end index, but no start index -- my_list[:10] -- will take all elements from start of the of the list to index 10, but not include value at index 10\n",
    "  3. both start and end index -- my_list[3:10] -- this will include all elements from index 3 all the way up to index 10, but not include index 10.\n",
    "  4. start and end index and step size -- my_list[3:10:2] -- same as #3 but take every other element.\n",
    "\n",
    "\n",
    "  Shot-out to: [Mohammad Zia](https://mkzia.github.io/eas503-book/chapters/05/lists.html)"
   ]
  },
  {
   "cell_type": "markdown",
   "id": "c7c129e1",
   "metadata": {},
   "source": [
    "We can use a numerical `index` to return a specific element from our list"
   ]
  },
  {
   "cell_type": "code",
   "execution_count": 68,
   "id": "420304cd",
   "metadata": {},
   "outputs": [
    {
     "data": {
      "text/plain": [
       "'50'"
      ]
     },
     "execution_count": 68,
     "metadata": {},
     "output_type": "execute_result"
    }
   ],
   "source": [
    "list_4[2]"
   ]
  },
  {
   "cell_type": "code",
   "execution_count": 69,
   "id": "f5022644",
   "metadata": {},
   "outputs": [
    {
     "data": {
      "text/plain": [
       "'z'"
      ]
     },
     "execution_count": 69,
     "metadata": {},
     "output_type": "execute_result"
    }
   ],
   "source": [
    "list_4[1]"
   ]
  },
  {
   "cell_type": "markdown",
   "id": "4008cd1c",
   "metadata": {},
   "source": [
    "### **Exercise**:\n",
    "\n",
    "Try any of the slicing operations with the lists we created"
   ]
  },
  {
   "cell_type": "markdown",
   "id": "c151b536",
   "metadata": {},
   "source": [
    "### **Exercise 4.0**\n",
    "\n",
    "Did you expect `l_4[1]?` to return \"z\"? What index will give you the value \"x\", i.e the first element?"
   ]
  },
  {
   "cell_type": "markdown",
   "id": "19307d7f",
   "metadata": {},
   "source": [
    "In most programming languages, indexing starts at 0!\n",
    "This means, that the `first element` in your array, list (...) is always the `0th` element by index. If you want to get the `last` element, you can always use *-1*."
   ]
  },
  {
   "cell_type": "markdown",
   "id": "c751f985",
   "metadata": {},
   "source": [
    "Another way to check specific items in a list would be based on `if/else` statements. Here the operator `in` is central.  "
   ]
  },
  {
   "cell_type": "code",
   "execution_count": null,
   "id": "496e3125",
   "metadata": {},
   "outputs": [
    {
     "name": "stdout",
     "output_type": "stream",
     "text": [
      "x is in the list l_2\n"
     ]
    }
   ],
   "source": [
    "if x in list_2:\n",
    "    print (\"x is in the list l_2\")\n",
    "else: \n",
    "    print (\"x is not in the list l_2\")"
   ]
  },
  {
   "cell_type": "code",
   "execution_count": null,
   "id": "69ea7052",
   "metadata": {},
   "outputs": [
    {
     "name": "stdout",
     "output_type": "stream",
     "text": [
      "x is not in the list l_3\n"
     ]
    }
   ],
   "source": [
    "if x in list_3:\n",
    "    print (\"x is in the list l_3\")\n",
    "else: \n",
    "    print (\"x is not in the list l_3\")"
   ]
  },
  {
   "cell_type": "markdown",
   "id": "c3708d8c",
   "metadata": {},
   "source": [
    "### **Exercise 5.0**\n",
    "\n",
    " Use a `if/else` statement to check if the value 78 is in `list_3` and `list_4`."
   ]
  },
  {
   "cell_type": "code",
   "execution_count": null,
   "id": "8549c6f7",
   "metadata": {},
   "outputs": [],
   "source": [
    "if 78 in list_3 and 78 in list_4:\n",
    "          print(\"Its in both lists\")\n",
    "elif 78 in list_3 or 78 in list_4:\n",
    "          print(\"Its in on of these lists\")\n",
    "else: \n",
    "          print(\"Its no where\")"
   ]
  },
  {
   "cell_type": "markdown",
   "id": "96c689fa",
   "metadata": {},
   "source": [
    "Bonus: Can you think of an even simpler way to check if the value 78 is in `list_3`and `list_4` ?"
   ]
  },
  {
   "cell_type": "code",
   "execution_count": null,
   "id": "6ded6fdb",
   "metadata": {},
   "outputs": [],
   "source": [
    "78 in list_3 or 78 in list_4\n",
    "78 in list_3 and 78 in list_4"
   ]
  },
  {
   "cell_type": "markdown",
   "id": "3dd6705f",
   "metadata": {},
   "source": [
    "## **String formatting**\n",
    "\n",
    "To finish this section, we will talk about the concept of [`string formatting`](https://www.w3schools.com/python/ref_string_format.asp)\n",
    "\n",
    "String formatting refers to mixing both `numerical` and `string` information in your code. This can be super helpful, when wanting to display both datatypes.\n",
    "\n",
    "There are two ways to do this. The first method is called the `F-String`. With the f-string we can format selected parts of our string variable. \n",
    "\n",
    "          f\"MyString {Information I want to format}\"\n",
    "\n",
    "We can also call the `.format` method of our string. The outcome is basically the same, although the use-cases might differ. For the sake of this course you should just know that there are two ways to do this, but we will only practice the `f-string` later on."
   ]
  },
  {
   "cell_type": "code",
   "execution_count": 7,
   "id": "bf11a2ba",
   "metadata": {},
   "outputs": [
    {
     "name": "stdout",
     "output_type": "stream",
     "text": [
      "I am using the f-string method to display the target value 4 in our list called target_list\n",
      "I am using the .format method to display the target value 4 in our list called target_list\n"
     ]
    }
   ],
   "source": [
    "target_list = [0,1,2,3,4,5,6,7]\n",
    "target = 4\n",
    "\n",
    "if target in target_list:\n",
    "          print(f\"I am using the f-string method to display the target value {target} in our list called target_list\")\n",
    "\n",
    "if target in target_list:\n",
    "          print(\"I am using the .format method to display the target value {} in our list called target_list\".format(target))"
   ]
  }
 ],
 "metadata": {
  "kernelspec": {
   "display_name": "base",
   "language": "python",
   "name": "python3"
  },
  "language_info": {
   "codemirror_mode": {
    "name": "ipython",
    "version": 3
   },
   "file_extension": ".py",
   "mimetype": "text/x-python",
   "name": "python",
   "nbconvert_exporter": "python",
   "pygments_lexer": "ipython3",
   "version": "3.9.12"
  }
 },
 "nbformat": 4,
 "nbformat_minor": 5
}
