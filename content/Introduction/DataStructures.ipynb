{
 "cells": [
  {
   "cell_type": "markdown",
   "metadata": {},
   "source": [
    "# Common Data Structures in Python\n",
    "\n",
    "There are many different data structures that are used in python. Most prominently used are `numpy arrays`, `pandas dataframes` and `dictionaries`.\n",
    "\n",
    "In this notebook, we will talk about these and how they are used within the python language\n",
    "\n",
    "![Numpy](../static/Numpy.png)\n",
    "\n",
    "## Numpy Arrays\n",
    "\n",
    "An array is a datastructure we can use to store `numerical` information in. Arrays can be n-dimensional, but typically they are 1- or 2-Dimensional. 2-Dimensional Arrays are very often used to represent images (images are only a combination of 0 (black values) and 255 (white values)). The typical structure of an 2-D Array is something we call a `row` and a `column`.\n",
    "\n",
    "          This is a 1-Dimensional Array\n",
    "          np.array([0,1,2,3])                     (shape: (1 Row, 4 columns) ; Data from 1 dog that evaluated her favorite snack)\n",
    "\n",
    "          This is a 2-Dimensional Array\n",
    "          np.array([[0,1,2,3],                    (shape: (2 Rows, 4 columns); Data from 2 dogs that evaluated their favorite snacks)\n",
    "                    [4,5,6,7]])\n",
    "\n",
    "\n",
    "What you can see in this example is actually nothing more than calling the `np.array()` function and passing a `list` [0,1,2,3] to it\n",
    "\n",
    "Within a numpy array, the stored datatypes must be `homogeneous` meaning that they all need to belong to the same data type. Numpy arrays are optimized to be used for numerical computations.\n",
    "\n",
    "Numpy arrays come with a `fixed size`! \n",
    "\n",
    "We will now start to explore the numpy environment and the numpy arrays.\n",
    "\n",
    "So first, start by `importing numpy as np`"
   ]
  },
  {
   "cell_type": "code",
   "execution_count": null,
   "metadata": {},
   "outputs": [],
   "source": []
  },
  {
   "cell_type": "markdown",
   "metadata": {},
   "source": [
    "We will not work with real data *yet*, but rather simulate our own numpy arrays to work with. Numpy offers some really useful functions we can use to generate our arrays.\n",
    "\n",
    "Lets start with the `numpy.random.rand` function.\n",
    "\n",
    "They key argument we need to pass to the function is the `shape` of the array we want to create. Lets start by creating a 1-Dimensional Array first.\n",
    "\n",
    "The first argument of `numpy.random.rand` function determines the number of *rows* we want our array to have, where as the second argument determines the number of *columns*.\n",
    "\n",
    "### **Exercise 15.0**\n",
    "\n",
    "Create a 1-D numpy array using the `rand` function from the `random` module (from the `numpy` package). Use it to create a numpy array with **1** Row and **20** Columns.\n",
    "\n",
    "Assign your array to a variable called \"RandomArray\"."
   ]
  },
  {
   "cell_type": "code",
   "execution_count": null,
   "metadata": {},
   "outputs": [],
   "source": []
  },
  {
   "cell_type": "markdown",
   "metadata": {},
   "source": [
    "The information about the `shape` (e.g, how many rows and colum we have) is actually stored within the array element itself. We can access it with `array.shape`"
   ]
  },
  {
   "cell_type": "code",
   "execution_count": 10,
   "metadata": {},
   "outputs": [
    {
     "data": {
      "text/plain": [
       "(1, 20)"
      ]
     },
     "execution_count": 10,
     "metadata": {},
     "output_type": "execute_result"
    }
   ],
   "source": [
    "RandomArray.shape"
   ]
  },
  {
   "cell_type": "markdown",
   "metadata": {},
   "source": [
    "We can also create arrays with zeros or ones"
   ]
  },
  {
   "cell_type": "code",
   "execution_count": null,
   "metadata": {},
   "outputs": [],
   "source": [
    "np.zeros((1,5))\n",
    "np.ones((1,5))"
   ]
  },
  {
   "cell_type": "markdown",
   "metadata": {},
   "source": [
    "Now in numpy, we can use multiple methods to easily extract information"
   ]
  },
  {
   "cell_type": "code",
   "execution_count": null,
   "metadata": {},
   "outputs": [],
   "source": [
    "\n",
    "RandomArray.min() #min value\n",
    "\n",
    "RandomArray.max() #max value\n",
    "\n",
    "RandomArray.argmin() #index of min value in that array\n",
    "\n",
    "RandomArray.argmax() #index of max value in that array"
   ]
  },
  {
   "cell_type": "markdown",
   "metadata": {},
   "source": [
    "Indexing a 1-Dimensional Numpy Array works similiar to `slicing` in lists.\n",
    "\n",
    "          1D-Array[0] #element zero\n",
    "          1D-Array[0:10] #elements zero to 10\n",
    "          1D-Array[0:2:10]#elements zero to 10 in steps of 2"
   ]
  },
  {
   "cell_type": "markdown",
   "metadata": {},
   "source": [
    "Technically, our RandomArray is a 2-D matrix. To access the first 10 columns we need to index like this"
   ]
  },
  {
   "cell_type": "code",
   "execution_count": 11,
   "metadata": {},
   "outputs": [],
   "source": [
    "SlicedArray = RandomArray[:,:10]"
   ]
  },
  {
   "cell_type": "markdown",
   "metadata": {},
   "source": [
    "          [: tells us, that we want to index into all rows of the array\n",
    "\n",
    "          ,:10] tells us, that we want to index into the first 10 columns of the matrix"
   ]
  },
  {
   "cell_type": "markdown",
   "metadata": {},
   "source": [
    "And we can also use the `np.arange` function to create a numpy array with values in a given range"
   ]
  },
  {
   "cell_type": "code",
   "execution_count": 12,
   "metadata": {},
   "outputs": [
    {
     "data": {
      "text/plain": [
       "(array([0, 1, 2, 3, 4, 5, 6, 7, 8, 9]), dtype('int32'))"
      ]
     },
     "execution_count": 12,
     "metadata": {},
     "output_type": "execute_result"
    }
   ],
   "source": [
    "values = np.arange(0,10)\n",
    "values, values.dtype"
   ]
  },
  {
   "cell_type": "markdown",
   "metadata": {},
   "source": [
    "Since SlicedArray and values have the same shape, we can perform any mathematical operation with them.\n",
    "\n",
    "The operations are `element wise`. So first element of matrix 1 * first element of matrix 2 and so on."
   ]
  },
  {
   "cell_type": "code",
   "execution_count": 13,
   "metadata": {},
   "outputs": [
    {
     "data": {
      "text/plain": [
       "array([[0.        , 0.27416264, 0.65348972, 2.38691933, 0.05090751,\n",
       "        4.33516312, 3.4804216 , 6.213112  , 3.76518539, 7.90406815]])"
      ]
     },
     "execution_count": 13,
     "metadata": {},
     "output_type": "execute_result"
    }
   ],
   "source": [
    "values * SlicedArray"
   ]
  },
  {
   "cell_type": "markdown",
   "metadata": {},
   "source": [
    "We can also use logicals to compare and access numpy arrays"
   ]
  },
  {
   "cell_type": "code",
   "execution_count": 31,
   "metadata": {},
   "outputs": [
    {
     "data": {
      "text/plain": [
       "array([[False,  True,  True,  True,  True,  True,  True,  True,  True,\n",
       "         True]])"
      ]
     },
     "execution_count": 31,
     "metadata": {},
     "output_type": "execute_result"
    }
   ],
   "source": [
    "values > SlicedArray"
   ]
  },
  {
   "cell_type": "markdown",
   "metadata": {},
   "source": [
    "This returns an array of `boolean` values, where the condition is either `True` or `False`.\n",
    "We can use this output of boolean values as a `mask`. Masks are basically an accelarated version of `if element in list, append to another list, else append to another list` thing we practised before.\n",
    "\n",
    "Disadvantage: This mask performs the comparison element by element."
   ]
  },
  {
   "cell_type": "code",
   "execution_count": 43,
   "metadata": {},
   "outputs": [
    {
     "data": {
      "text/plain": [
       "array([1, 2, 3, 4, 5, 6, 7, 8, 9])"
      ]
     },
     "execution_count": 43,
     "metadata": {},
     "output_type": "execute_result"
    }
   ],
   "source": [
    "mask = values > SlicedArray\n",
    "values.reshape(1,10)[mask]"
   ]
  },
  {
   "cell_type": "code",
   "execution_count": 59,
   "metadata": {},
   "outputs": [
    {
     "name": "stdout",
     "output_type": "stream",
     "text": [
      "1\n",
      "2\n",
      "3\n",
      "4\n",
      "5\n",
      "6\n",
      "7\n",
      "8\n",
      "9\n"
     ]
    }
   ],
   "source": [
    "for idx, element in enumerate(values):\n",
    "          if element > SlicedArray[0][idx]:\n",
    "                    print(element)\n",
    "          else:\n",
    "                    continue"
   ]
  },
  {
   "cell_type": "markdown",
   "metadata": {},
   "source": [
    "With the `np.random.choice` function, we can pass a numpy array and get a back a random set of elements from that array. We can determine the number of iterations with the `size` parameter. \n",
    "\n",
    "But what’s really cool is what happens behind the scenes.\n",
    "\n",
    "Even though you're writing Python code, a lot of NumPy’s operations — including random.choice — are actually powered by code written in C. That’s because Python is a high-level, interpreted language, which means it’s very readable and flexible, but not the fastest when it comes to number-crunching or looping over large datasets.\n",
    "\n",
    "On the other hand, C is a low-level, compiled language, which means it runs much faster. So to get the best of both worlds — Python's simplicity and C's speed — many libraries like NumPy are written in C or Cython (a Python-like language that compiles to C) under the hood, and then “wrapped” in Python. This way, you write code that looks and feels like Python, but it's executed at C speed behind the scenes."
   ]
  },
  {
   "cell_type": "code",
   "execution_count": null,
   "metadata": {},
   "outputs": [],
   "source": [
    "menu = np.array([\"Espresso\", \"Latte\", \"Cappuccino\", \"Americano\", \"Mocha\"])\n",
    "orders = np.random.choice(menu, size=50)"
   ]
  },
  {
   "cell_type": "markdown",
   "metadata": {},
   "source": [
    "Under the hood, `np.random.choice` is also using C-based loop. Eventhough vanilla python is slower than numpy, we can still show that the logic of our for loops apply here!"
   ]
  },
  {
   "cell_type": "code",
   "execution_count": 64,
   "metadata": {},
   "outputs": [
    {
     "data": {
      "text/plain": [
       "(array(['Latte', 'Americano', 'Latte', 'Espresso', 'Latte', 'Mocha',\n",
       "        'Cappuccino', 'Cappuccino', 'Mocha', 'Cappuccino', 'Mocha',\n",
       "        'Latte', 'Espresso', 'Mocha', 'Latte', 'Americano', 'Americano',\n",
       "        'Cappuccino', 'Mocha', 'Latte', 'Espresso', 'Cappuccino', 'Mocha',\n",
       "        'Mocha', 'Espresso', 'Mocha', 'Mocha', 'Cappuccino', 'Mocha',\n",
       "        'Mocha', 'Americano', 'Cappuccino', 'Latte', 'Mocha', 'Espresso',\n",
       "        'Cappuccino', 'Espresso', 'Cappuccino', 'Espresso', 'Cappuccino',\n",
       "        'Latte', 'Cappuccino', 'Americano', 'Cappuccino', 'Cappuccino',\n",
       "        'Latte', 'Cappuccino', 'Latte', 'Espresso', 'Cappuccino'],\n",
       "       dtype='<U10'),\n",
       " array(['Mocha', 'Latte', 'Latte', 'Americano', 'Latte', 'Cappuccino',\n",
       "        'Cappuccino', 'Mocha', 'Americano', 'Cappuccino', 'Espresso',\n",
       "        'Latte', 'Cappuccino', 'Mocha', 'Americano', 'Cappuccino',\n",
       "        'Cappuccino', 'Mocha', 'Latte', 'Mocha', 'Americano', 'Americano',\n",
       "        'Cappuccino', 'Americano', 'Americano', 'Latte', 'Americano',\n",
       "        'Latte', 'Espresso', 'Americano', 'Latte', 'Mocha', 'Mocha',\n",
       "        'Latte', 'Americano', 'Espresso', 'Cappuccino', 'Espresso',\n",
       "        'Cappuccino', 'Americano', 'Cappuccino', 'Espresso', 'Americano',\n",
       "        'Cappuccino', 'Latte', 'Mocha', 'Americano', 'Americano',\n",
       "        'Espresso', 'Cappuccino'], dtype='<U10'))"
      ]
     },
     "execution_count": 64,
     "metadata": {},
     "output_type": "execute_result"
    }
   ],
   "source": [
    "orders_loop = []\n",
    "for i in range(50):\n",
    "          ran = np.random.randint(0,menu.shape[0])\n",
    "          orders_loop.append(menu[ran])\n",
    "orders_loop = np.array(orders_loop)\n",
    "orders_loop,orders"
   ]
  },
  {
   "cell_type": "markdown",
   "metadata": {},
   "source": [
    "### **Exercise**\n",
    "\n",
    "Using the `np.arange` function, create one numpy array with values from 1 to 512 in steps of 2 and call the variable \"all_scores\".\n",
    "\n",
    "Create another numpy array with values from 1 to 257 in steps of 1 and call it high_scores.\n",
    "\n",
    "Your task is to find out, which values from `high_scores` are actually in `all_scores`.\n",
    "\n",
    "Create a `mask` of boolen values, which should be True if an element of high_scores is in all_scores, and False otherwise. Use the `np.isin(firstarray,secondarray)` function to create the mask. \n",
    "Which array should you pass as the first argument, and which as the second? Use `np.isin?` to find out!\n",
    "\n",
    "Use this mask to create a new array called `valid_high_scores`. How do these array differ in their shape and distribution (mean+standard deviation)?"
   ]
  },
  {
   "cell_type": "code",
   "execution_count": null,
   "metadata": {},
   "outputs": [],
   "source": []
  },
  {
   "cell_type": "markdown",
   "metadata": {},
   "source": [
    "### **Exercise**\n",
    "\n",
    "Create a numpy array of 9 numbers using `np.arange`. Reshape it to a 2D matrix of the shape (3,3).\n",
    "\n",
    "**Hint**: Use the `np.array.reshape()` method."
   ]
  },
  {
   "cell_type": "code",
   "execution_count": null,
   "metadata": {},
   "outputs": [],
   "source": []
  },
  {
   "cell_type": "markdown",
   "metadata": {},
   "source": [
    "### **Exercise**\n",
    "\n",
    "       array([[ 1,  2,  3,  4],\n",
    "              [ 5,  6,  7,  8],\n",
    "              [ 9, 10, 11, 12]])\n",
    "\n",
    "What element woud you expect to see if we index into the array using (array[2,3]) ?"
   ]
  },
  {
   "cell_type": "markdown",
   "metadata": {},
   "source": [
    "**Type your answer here**"
   ]
  },
  {
   "cell_type": "markdown",
   "metadata": {},
   "source": []
  },
  {
   "cell_type": "markdown",
   "metadata": {},
   "source": [
    "### **Exercise**\n",
    "\n",
    "Create a numpy array with random integers between 1 and 255, with the shape 64,64.\n",
    "\n",
    "**Hint**: Use the `np.random.randint` function"
   ]
  },
  {
   "cell_type": "code",
   "execution_count": null,
   "metadata": {},
   "outputs": [
    {
     "data": {
      "text/plain": [
       "(3, 4)"
      ]
     },
     "execution_count": 30,
     "metadata": {},
     "output_type": "execute_result"
    }
   ],
   "source": []
  },
  {
   "cell_type": "markdown",
   "metadata": {},
   "source": [
    "![pandas](../static/Pandas.png)"
   ]
  },
  {
   "cell_type": "markdown",
   "metadata": {},
   "source": [
    "## Pandas"
   ]
  },
  {
   "cell_type": "markdown",
   "metadata": {},
   "source": [
    "\n",
    "So pandas is *the* python library you want to use for organizing, manipulating and analyzing your datasets. The standard datatype used in pandas are `dataframes`.\n",
    "Pandas dataframes are basically like an excel sheet, but way, way better.\n",
    "\n",
    "In this section, we will download a dataset and use this to explore dataframes and apply what we have learned so far.\n",
    "\n",
    "But first the basic import:\n",
    "\n",
    "          import pandas as pd\n",
    "\n",
    "This is the way to go. Again, you can use what ever abbreviation you want to, but I dont think I saw any code where some just used `pandas.xyz` or `pandas as p` or something strange like that.\n"
   ]
  },
  {
   "cell_type": "code",
   "execution_count": 44,
   "metadata": {},
   "outputs": [],
   "source": [
    "import pandas as pd"
   ]
  },
  {
   "cell_type": "markdown",
   "metadata": {},
   "source": [
    "Before transitioning to the dataset, you should know a thing or two about `pandas`.\n",
    "\n",
    "The cool thing here is that you actually *convert* `lists` or `numpy arrays` to a `dataframe`.\n",
    "\n",
    "What you usually want to do is put your lists or arrays in to a `dictionary`. A dictionary is a further vanilla python datatype. Its syntax goes like this:\n",
    "\n",
    "          dictionary = {\"Participant Number\":[0,1,2,3,4],\n",
    "                        \"Reaction times\":[100,50,76,34,95]}      \n",
    "\n",
    "The string input is what we call a `key` (Participant Number, Reaction times) The key basically stores the values that are associated with it. We wont focus on dictionaries too much here, but you should know, that a dictionary can store values (or lists of values, or arrays) in so called keys.\n",
    "\n",
    "What we can now do is create a `dataframe` from this dictionary."
   ]
  },
  {
   "cell_type": "code",
   "execution_count": null,
   "metadata": {},
   "outputs": [],
   "source": [
    "'''This code cell created a dictionary called coffee_order_dictionary. It has four keys called Customer_ID, Drink, Size, Time_to_prepare_sec. \n",
    "The values are created by using the np.arange function, which gives values from (start) to (stop). We randomly create Drink, Size and time to prepare values using the np.random.choice function. \n",
    "\n",
    "'''\n",
    "coffee_order_dictionary = {\n",
    "    \"Customer_ID\": np.arange(1, 51),\n",
    "    \"Drink\": np.random.choice(\n",
    "        [\"Latte\", \"Espresso\", \"Cappuccino\", \"Americano\", \"Mocha\"], size=50),\n",
    "    \"Size\": np.random.choice([\"Small\", \"Medium\", \"Large\"], size=50), #np.random.choice picks one element at a time at random\n",
    "    \"Time_to_prepare_sec\": np.random.randint(60, 300, size=50)\n",
    "}\n",
    "dataframe = pd.DataFrame(coffee_order_dictionary)"
   ]
  },
  {
   "cell_type": "markdown",
   "metadata": {},
   "source": [
    "So the expected shape of our dataframe should look like this!\n",
    "\n",
    "![df](../static/pandas_table.svg)"
   ]
  },
  {
   "cell_type": "markdown",
   "metadata": {},
   "source": [
    "We can use the `dataframe.head(n=n)` method to display the first n-entries of our dataframe. "
   ]
  },
  {
   "cell_type": "code",
   "execution_count": 72,
   "metadata": {},
   "outputs": [
    {
     "data": {
      "text/html": [
       "<div>\n",
       "<style scoped>\n",
       "    .dataframe tbody tr th:only-of-type {\n",
       "        vertical-align: middle;\n",
       "    }\n",
       "\n",
       "    .dataframe tbody tr th {\n",
       "        vertical-align: top;\n",
       "    }\n",
       "\n",
       "    .dataframe thead th {\n",
       "        text-align: right;\n",
       "    }\n",
       "</style>\n",
       "<table border=\"1\" class=\"dataframe\">\n",
       "  <thead>\n",
       "    <tr style=\"text-align: right;\">\n",
       "      <th></th>\n",
       "      <th>Customer_ID</th>\n",
       "      <th>Drink</th>\n",
       "      <th>Size</th>\n",
       "      <th>Time_to_prepare_sec</th>\n",
       "    </tr>\n",
       "  </thead>\n",
       "  <tbody>\n",
       "    <tr>\n",
       "      <th>0</th>\n",
       "      <td>1</td>\n",
       "      <td>Espresso</td>\n",
       "      <td>Small</td>\n",
       "      <td>92</td>\n",
       "    </tr>\n",
       "    <tr>\n",
       "      <th>1</th>\n",
       "      <td>2</td>\n",
       "      <td>Americano</td>\n",
       "      <td>Small</td>\n",
       "      <td>89</td>\n",
       "    </tr>\n",
       "    <tr>\n",
       "      <th>2</th>\n",
       "      <td>3</td>\n",
       "      <td>Cappuccino</td>\n",
       "      <td>Large</td>\n",
       "      <td>198</td>\n",
       "    </tr>\n",
       "    <tr>\n",
       "      <th>3</th>\n",
       "      <td>4</td>\n",
       "      <td>Cappuccino</td>\n",
       "      <td>Large</td>\n",
       "      <td>223</td>\n",
       "    </tr>\n",
       "    <tr>\n",
       "      <th>4</th>\n",
       "      <td>5</td>\n",
       "      <td>Cappuccino</td>\n",
       "      <td>Large</td>\n",
       "      <td>286</td>\n",
       "    </tr>\n",
       "    <tr>\n",
       "      <th>5</th>\n",
       "      <td>6</td>\n",
       "      <td>Cappuccino</td>\n",
       "      <td>Large</td>\n",
       "      <td>102</td>\n",
       "    </tr>\n",
       "    <tr>\n",
       "      <th>6</th>\n",
       "      <td>7</td>\n",
       "      <td>Latte</td>\n",
       "      <td>Small</td>\n",
       "      <td>100</td>\n",
       "    </tr>\n",
       "    <tr>\n",
       "      <th>7</th>\n",
       "      <td>8</td>\n",
       "      <td>Latte</td>\n",
       "      <td>Medium</td>\n",
       "      <td>271</td>\n",
       "    </tr>\n",
       "    <tr>\n",
       "      <th>8</th>\n",
       "      <td>9</td>\n",
       "      <td>Mocha</td>\n",
       "      <td>Small</td>\n",
       "      <td>282</td>\n",
       "    </tr>\n",
       "    <tr>\n",
       "      <th>9</th>\n",
       "      <td>10</td>\n",
       "      <td>Latte</td>\n",
       "      <td>Small</td>\n",
       "      <td>257</td>\n",
       "    </tr>\n",
       "  </tbody>\n",
       "</table>\n",
       "</div>"
      ],
      "text/plain": [
       "   Customer_ID       Drink    Size  Time_to_prepare_sec\n",
       "0            1    Espresso   Small                   92\n",
       "1            2   Americano   Small                   89\n",
       "2            3  Cappuccino   Large                  198\n",
       "3            4  Cappuccino   Large                  223\n",
       "4            5  Cappuccino   Large                  286\n",
       "5            6  Cappuccino   Large                  102\n",
       "6            7       Latte   Small                  100\n",
       "7            8       Latte  Medium                  271\n",
       "8            9       Mocha   Small                  282\n",
       "9           10       Latte   Small                  257"
      ]
     },
     "execution_count": 72,
     "metadata": {},
     "output_type": "execute_result"
    }
   ],
   "source": [
    "dataframe.head(n=10)"
   ]
  },
  {
   "cell_type": "markdown",
   "metadata": {},
   "source": [
    "You can again use the `?` here to gather more information about your dataframe."
   ]
  },
  {
   "cell_type": "code",
   "execution_count": 75,
   "metadata": {},
   "outputs": [
    {
     "name": "stdout",
     "output_type": "stream",
     "text": [
      "\u001b[1;31mType:\u001b[0m        DataFrame\n",
      "\u001b[1;31mString form:\u001b[0m\n",
      "Customer_ID       Drink    Size  Time_to_prepare_sec\n",
      "           0            1    Espresso   Small        <...>        Mocha   Small                  282\n",
      "           9           10       Latte   Small                  257\n",
      "\u001b[1;31mLength:\u001b[0m      10\n",
      "\u001b[1;31mFile:\u001b[0m        c:\\users\\janos\\anaconda3\\lib\\site-packages\\pandas\\core\\frame.py\n",
      "\u001b[1;31mDocstring:\u001b[0m  \n",
      "Two-dimensional, size-mutable, potentially heterogeneous tabular data.\n",
      "\n",
      "Data structure also contains labeled axes (rows and columns).\n",
      "Arithmetic operations align on both row and column labels. Can be\n",
      "thought of as a dict-like container for Series objects. The primary\n",
      "pandas data structure.\n",
      "\n",
      "Parameters\n",
      "----------\n",
      "data : ndarray (structured or homogeneous), Iterable, dict, or DataFrame\n",
      "    Dict can contain Series, arrays, constants, dataclass or list-like objects. If\n",
      "    data is a dict, column order follows insertion-order. If a dict contains Series\n",
      "    which have an index defined, it is aligned by its index.\n",
      "\n",
      "    .. versionchanged:: 0.25.0\n",
      "       If data is a list of dicts, column order follows insertion-order.\n",
      "\n",
      "index : Index or array-like\n",
      "    Index to use for resulting frame. Will default to RangeIndex if\n",
      "    no indexing information part of input data and no index provided.\n",
      "columns : Index or array-like\n",
      "    Column labels to use for resulting frame when data does not have them,\n",
      "    defaulting to RangeIndex(0, 1, 2, ..., n). If data contains column labels,\n",
      "    will perform column selection instead.\n",
      "dtype : dtype, default None\n",
      "    Data type to force. Only a single dtype is allowed. If None, infer.\n",
      "copy : bool or None, default None\n",
      "    Copy data from inputs.\n",
      "    For dict data, the default of None behaves like ``copy=True``.  For DataFrame\n",
      "    or 2d ndarray input, the default of None behaves like ``copy=False``.\n",
      "\n",
      "    .. versionchanged:: 1.3.0\n",
      "\n",
      "See Also\n",
      "--------\n",
      "DataFrame.from_records : Constructor from tuples, also record arrays.\n",
      "DataFrame.from_dict : From dicts of Series, arrays, or dicts.\n",
      "read_csv : Read a comma-separated values (csv) file into DataFrame.\n",
      "read_table : Read general delimited file into DataFrame.\n",
      "read_clipboard : Read text from clipboard into DataFrame.\n",
      "\n",
      "Examples\n",
      "--------\n",
      "Constructing DataFrame from a dictionary.\n",
      "\n",
      ">>> d = {'col1': [1, 2], 'col2': [3, 4]}\n",
      ">>> df = pd.DataFrame(data=d)\n",
      ">>> df\n",
      "   col1  col2\n",
      "0     1     3\n",
      "1     2     4\n",
      "\n",
      "Notice that the inferred dtype is int64.\n",
      "\n",
      ">>> df.dtypes\n",
      "col1    int64\n",
      "col2    int64\n",
      "dtype: object\n",
      "\n",
      "To enforce a single dtype:\n",
      "\n",
      ">>> df = pd.DataFrame(data=d, dtype=np.int8)\n",
      ">>> df.dtypes\n",
      "col1    int8\n",
      "col2    int8\n",
      "dtype: object\n",
      "\n",
      "Constructing DataFrame from a dictionary including Series:\n",
      "\n",
      ">>> d = {'col1': [0, 1, 2, 3], 'col2': pd.Series([2, 3], index=[2, 3])}\n",
      ">>> pd.DataFrame(data=d, index=[0, 1, 2, 3])\n",
      "   col1  col2\n",
      "0     0   NaN\n",
      "1     1   NaN\n",
      "2     2   2.0\n",
      "3     3   3.0\n",
      "\n",
      "Constructing DataFrame from numpy ndarray:\n",
      "\n",
      ">>> df2 = pd.DataFrame(np.array([[1, 2, 3], [4, 5, 6], [7, 8, 9]]),\n",
      "...                    columns=['a', 'b', 'c'])\n",
      ">>> df2\n",
      "   a  b  c\n",
      "0  1  2  3\n",
      "1  4  5  6\n",
      "2  7  8  9\n",
      "\n",
      "Constructing DataFrame from a numpy ndarray that has labeled columns:\n",
      "\n",
      ">>> data = np.array([(1, 2, 3), (4, 5, 6), (7, 8, 9)],\n",
      "...                 dtype=[(\"a\", \"i4\"), (\"b\", \"i4\"), (\"c\", \"i4\")])\n",
      ">>> df3 = pd.DataFrame(data, columns=['c', 'a'])\n",
      "...\n",
      ">>> df3\n",
      "   c  a\n",
      "0  3  1\n",
      "1  6  4\n",
      "2  9  7\n",
      "\n",
      "Constructing DataFrame from dataclass:\n",
      "\n",
      ">>> from dataclasses import make_dataclass\n",
      ">>> Point = make_dataclass(\"Point\", [(\"x\", int), (\"y\", int)])\n",
      ">>> pd.DataFrame([Point(0, 0), Point(0, 3), Point(2, 3)])\n",
      "   x  y\n",
      "0  0  0\n",
      "1  0  3\n",
      "2  2  3\n"
     ]
    }
   ],
   "source": [
    "dataframe?"
   ]
  },
  {
   "cell_type": "markdown",
   "metadata": {},
   "source": [
    "You can see, that this object is neatly organized. It has two columns, which correspond to the `keys` from our `coffee_order_dictionary`. With this dataframe, we now have the opportunity to do many differnt things. But, this would be pretty boring based on this dataframe. So we will load a different one in and check out pandas functionalities based on it."
   ]
  },
  {
   "cell_type": "markdown",
   "metadata": {},
   "source": [
    "The code we are using to obtain this data is not in `python` but [`bash`](https://wiki.ubuntuusers.de/Bash/)."
   ]
  },
  {
   "cell_type": "code",
   "execution_count": null,
   "metadata": {},
   "outputs": [
    {
     "name": "stdout",
     "output_type": "stream",
     "text": [
      "<html><body><h1>400 Bad request</h1>\n",
      "Your browser sent an invalid request.\n",
      "</body></html>\n"
     ]
    },
    {
     "name": "stderr",
     "output_type": "stream",
     "text": [
      "  % Total    % Received % Xferd  Average Speed   Time    Time     Time  Current\n",
      "                                 Dload  Upload   Total   Spent    Left  Speed\n",
      "\n",
      "  0     0    0     0    0     0      0      0 --:--:-- --:--:-- --:--:--     0\n",
      "  0     0    0     0    0     0      0      0 --:--:-- --:--:-- --:--:--     0\n",
      "  0     0    0     0    0     0      0      0 --:--:--  0:00:01 --:--:--     0curl: (6) Could not resolve host: url\n",
      "  % Total    % Received % Xferd  Average Speed   Time    Time     Time  Current\n",
      "                                 Dload  Upload   Total   Spent    Left  Speed\n",
      "\n",
      "  0     0    0     0    0     0      0      0 --:--:-- --:--:-- --:--:--     0\n",
      "100    90  100    90    0     0    290      0 --:--:-- --:--:-- --:--:--   294\n"
     ]
    }
   ],
   "source": [
    "!curl url https://raw.githubusercontent.com/JNPauli/IntroductionToPython/refs/heads/main/content/datasets/Stadt_Koeln_Statistischer_Datenkatalog.csv"
   ]
  },
  {
   "cell_type": "markdown",
   "metadata": {},
   "source": [
    "We now have temporarily download the `Stadt_Koeln_Statistischer_Datenkatalog.csv` file in our google colab session.\n",
    "This also means, that we can now load it into a pandas dataframe. The function we want to use for that is called \n",
    "\n",
    "          pd.read_csv(yourfilename)\n",
    "\n",
    "So use that this function to read the `Stadt_Koeln_Statistischer_Datenkatalog.csv` file. Store it in a dataframe called `koeln_stats`.\n",
    "\n",
    "Sometimes, when reading in a .csv file, we need to pass the `sep` argument. This helps us from preventing that all columns will end up in a single one, thus rendering the dataframe useless. The `sep` argument tells pandas, based on what seperator it should read in the columns."
   ]
  },
  {
   "cell_type": "code",
   "execution_count": 77,
   "metadata": {},
   "outputs": [
    {
     "name": "stderr",
     "output_type": "stream",
     "text": [
      "C:\\Users\\janos\\AppData\\Local\\Temp\\ipykernel_5268\\989657012.py:1: DtypeWarning: Columns (9,11,13,15,17,19,23,24,26,28,30,31,33,34,38,42,43,45,47,49,50,52,53,56,62,64,66,67,69,72,77,78,79,82,87,89,91,98,101,102,105,106,107,108,110,113,115,118,119,123,124,125,126,127,128,129,136,137,138,139,140,141,143,145,146,158,159,160,161,167,168,169,170,171,173,174) have mixed types. Specify dtype option on import or set low_memory=False.\n",
      "  koeln_stats = pd.read_csv(\n"
     ]
    }
   ],
   "source": [
    "koeln_stats = pd.read_csv(\n",
    "          \"https://raw.githubusercontent.com/JNPauli/IntroductionToPython/refs/heads/main/content/datasets/Stadt_Koeln_Statistischer_Datenkatalog.csv\",\n",
    "                    sep=\";\")"
   ]
  },
  {
   "cell_type": "markdown",
   "metadata": {},
   "source": [
    "Because the column descriptions of the `koeln_stats` dataframe are not informative at all, we also need to download the descriptions df and read it into a pandas dataframe called `koeln_stats_description`. This will be useful later on."
   ]
  },
  {
   "cell_type": "code",
   "execution_count": 76,
   "metadata": {},
   "outputs": [],
   "source": [
    "koeln_stats_description = pd.read_csv(\n",
    "          \"https://raw.githubusercontent.com/JNPauli/IntroductionToPython/refs/heads/main/content/datasets/Beschreibung_Statistischer_Datenkatalog.csv\",\n",
    "          sep=\";\")"
   ]
  },
  {
   "cell_type": "markdown",
   "metadata": {},
   "source": [
    "We can display our newly obtained by either simply typing and running koeln_stats in a code cell. If you are only interested in viewing the *n-th* first or last elements of your dataframe, you can use `df.head(n=n)` or `df.tail(n=n)`, respectively."
   ]
  },
  {
   "cell_type": "code",
   "execution_count": 17,
   "metadata": {},
   "outputs": [
    {
     "data": {
      "text/html": [
       "<div>\n",
       "<style scoped>\n",
       "    .dataframe tbody tr th:only-of-type {\n",
       "        vertical-align: middle;\n",
       "    }\n",
       "\n",
       "    .dataframe tbody tr th {\n",
       "        vertical-align: top;\n",
       "    }\n",
       "\n",
       "    .dataframe thead th {\n",
       "        text-align: right;\n",
       "    }\n",
       "</style>\n",
       "<table border=\"1\" class=\"dataframe\">\n",
       "  <thead>\n",
       "    <tr style=\"text-align: right;\">\n",
       "      <th></th>\n",
       "      <th>S_JAHR</th>\n",
       "      <th>S_RAUM</th>\n",
       "      <th>RAUM</th>\n",
       "      <th>S_RAUMEBENE</th>\n",
       "      <th>RAUMEBENE</th>\n",
       "      <th>A0002A</th>\n",
       "      <th>A0002P</th>\n",
       "      <th>A0022S</th>\n",
       "      <th>A0025A</th>\n",
       "      <th>A0027A</th>\n",
       "      <th>...</th>\n",
       "      <th>H0051S</th>\n",
       "      <th>H0052S</th>\n",
       "      <th>B0003A</th>\n",
       "      <th>B0004A</th>\n",
       "      <th>B0009A</th>\n",
       "      <th>B0022S</th>\n",
       "      <th>B0023S</th>\n",
       "      <th>B0025A</th>\n",
       "      <th>B0026P</th>\n",
       "      <th>B0026A</th>\n",
       "    </tr>\n",
       "  </thead>\n",
       "  <tbody>\n",
       "    <tr>\n",
       "      <th>0</th>\n",
       "      <td>2012</td>\n",
       "      <td>0</td>\n",
       "      <td>0 / Stadt Köln</td>\n",
       "      <td>0</td>\n",
       "      <td>Gesamtstadt</td>\n",
       "      <td>180415.0</td>\n",
       "      <td>17,271948</td>\n",
       "      <td>41,90013762</td>\n",
       "      <td>1044555.0</td>\n",
       "      <td>46426</td>\n",
       "      <td>...</td>\n",
       "      <td>87,059374</td>\n",
       "      <td>483,255</td>\n",
       "      <td>5944</td>\n",
       "      <td>2941</td>\n",
       "      <td>3114</td>\n",
       "      <td>39,40239241</td>\n",
       "      <td>75,57050842</td>\n",
       "      <td>544630.0</td>\n",
       "      <td>7,522905</td>\n",
       "      <td>40972</td>\n",
       "    </tr>\n",
       "    <tr>\n",
       "      <th>1</th>\n",
       "      <td>2012</td>\n",
       "      <td>1</td>\n",
       "      <td>1 / Innenstadt</td>\n",
       "      <td>1</td>\n",
       "      <td>Stadtbezirke</td>\n",
       "      <td>21712.0</td>\n",
       "      <td>16,985457</td>\n",
       "      <td>40,86903262</td>\n",
       "      <td>127827.0</td>\n",
       "      <td>4428</td>\n",
       "      <td>...</td>\n",
       "      <td>93,269732</td>\n",
       "      <td>458,447</td>\n",
       "      <td>566</td>\n",
       "      <td>296</td>\n",
       "      <td>193</td>\n",
       "      <td>40,39537813</td>\n",
       "      <td>63,87377692</td>\n",
       "      <td>80841.0</td>\n",
       "      <td>2,508628</td>\n",
       "      <td>2028</td>\n",
       "    </tr>\n",
       "    <tr>\n",
       "      <th>2</th>\n",
       "      <td>2012</td>\n",
       "      <td>2</td>\n",
       "      <td>2 / Rodenkirchen</td>\n",
       "      <td>1</td>\n",
       "      <td>Stadtbezirke</td>\n",
       "      <td>14788.0</td>\n",
       "      <td>14,337793</td>\n",
       "      <td>43,45253054</td>\n",
       "      <td>103140.0</td>\n",
       "      <td>5331</td>\n",
       "      <td>...</td>\n",
       "      <td>91,860767</td>\n",
       "      <td>569,468</td>\n",
       "      <td>1187</td>\n",
       "      <td>450</td>\n",
       "      <td>348</td>\n",
       "      <td>44,27280396</td>\n",
       "      <td>85,89885062</td>\n",
       "      <td>53159.0</td>\n",
       "      <td>3,397355</td>\n",
       "      <td>1806</td>\n",
       "    </tr>\n",
       "    <tr>\n",
       "      <th>3</th>\n",
       "      <td>2012</td>\n",
       "      <td>3</td>\n",
       "      <td>3 / Lindenthal</td>\n",
       "      <td>1</td>\n",
       "      <td>Stadtbezirke</td>\n",
       "      <td>14132.0</td>\n",
       "      <td>9,872231</td>\n",
       "      <td>42,06031943</td>\n",
       "      <td>143149.0</td>\n",
       "      <td>6787</td>\n",
       "      <td>...</td>\n",
       "      <td>91,920257</td>\n",
       "      <td>525,04</td>\n",
       "      <td>1172</td>\n",
       "      <td>689</td>\n",
       "      <td>848</td>\n",
       "      <td>45,80771085</td>\n",
       "      <td>82,08048668</td>\n",
       "      <td>79889.0</td>\n",
       "      <td>1,126563</td>\n",
       "      <td>900</td>\n",
       "    </tr>\n",
       "    <tr>\n",
       "      <th>4</th>\n",
       "      <td>2012</td>\n",
       "      <td>4</td>\n",
       "      <td>4 / Ehrenfeld</td>\n",
       "      <td>1</td>\n",
       "      <td>Stadtbezirke</td>\n",
       "      <td>19811.0</td>\n",
       "      <td>18,779445</td>\n",
       "      <td>40,54831047</td>\n",
       "      <td>105493.0</td>\n",
       "      <td>3935</td>\n",
       "      <td>...</td>\n",
       "      <td>83,775698</td>\n",
       "      <td>449,053</td>\n",
       "      <td>439</td>\n",
       "      <td>365</td>\n",
       "      <td>293</td>\n",
       "      <td>36,15031329</td>\n",
       "      <td>69,38747475</td>\n",
       "      <td>54961.0</td>\n",
       "      <td>12,57437</td>\n",
       "      <td>6911</td>\n",
       "    </tr>\n",
       "    <tr>\n",
       "      <th>5</th>\n",
       "      <td>2012</td>\n",
       "      <td>5</td>\n",
       "      <td>5 / Nippes</td>\n",
       "      <td>1</td>\n",
       "      <td>Stadtbezirke</td>\n",
       "      <td>20676.0</td>\n",
       "      <td>18,145597</td>\n",
       "      <td>42,27830898</td>\n",
       "      <td>113945.0</td>\n",
       "      <td>5154</td>\n",
       "      <td>...</td>\n",
       "      <td>84,574078</td>\n",
       "      <td>491,482</td>\n",
       "      <td>214</td>\n",
       "      <td>52</td>\n",
       "      <td>114</td>\n",
       "      <td>37,56269253</td>\n",
       "      <td>71,26460647</td>\n",
       "      <td>60059.0</td>\n",
       "      <td>7,341114</td>\n",
       "      <td>4409</td>\n",
       "    </tr>\n",
       "    <tr>\n",
       "      <th>6</th>\n",
       "      <td>2012</td>\n",
       "      <td>6</td>\n",
       "      <td>6 / Chorweiler</td>\n",
       "      <td>1</td>\n",
       "      <td>Stadtbezirke</td>\n",
       "      <td>14892.0</td>\n",
       "      <td>18,409049</td>\n",
       "      <td>42,06668212</td>\n",
       "      <td>80895.0</td>\n",
       "      <td>3493</td>\n",
       "      <td>...</td>\n",
       "      <td>84,421093</td>\n",
       "      <td>499,165</td>\n",
       "      <td>319</td>\n",
       "      <td>113</td>\n",
       "      <td>189</td>\n",
       "      <td>37,27096854</td>\n",
       "      <td>87,33156645</td>\n",
       "      <td>34524.0</td>\n",
       "      <td>23,473525</td>\n",
       "      <td>8104</td>\n",
       "    </tr>\n",
       "    <tr>\n",
       "      <th>7</th>\n",
       "      <td>2012</td>\n",
       "      <td>7</td>\n",
       "      <td>7 / Porz</td>\n",
       "      <td>1</td>\n",
       "      <td>Stadtbezirke</td>\n",
       "      <td>16613.0</td>\n",
       "      <td>15,235833</td>\n",
       "      <td>43,36416022</td>\n",
       "      <td>109039.0</td>\n",
       "      <td>5084</td>\n",
       "      <td>...</td>\n",
       "      <td>84,779095</td>\n",
       "      <td>553,792</td>\n",
       "      <td>453</td>\n",
       "      <td>147</td>\n",
       "      <td>316</td>\n",
       "      <td>39,70796687</td>\n",
       "      <td>82,05816466</td>\n",
       "      <td>52764.0</td>\n",
       "      <td>5,069744</td>\n",
       "      <td>2675</td>\n",
       "    </tr>\n",
       "    <tr>\n",
       "      <th>8</th>\n",
       "      <td>2012</td>\n",
       "      <td>8</td>\n",
       "      <td>8 / Kalk</td>\n",
       "      <td>1</td>\n",
       "      <td>Stadtbezirke</td>\n",
       "      <td>29259.0</td>\n",
       "      <td>25,468077</td>\n",
       "      <td>40,73158448</td>\n",
       "      <td>114885.0</td>\n",
       "      <td>5163</td>\n",
       "      <td>...</td>\n",
       "      <td>82,43595</td>\n",
       "      <td>377,211</td>\n",
       "      <td>915</td>\n",
       "      <td>441</td>\n",
       "      <td>417</td>\n",
       "      <td>35,27169778</td>\n",
       "      <td>73,36004852</td>\n",
       "      <td>55237.0</td>\n",
       "      <td>12,618353</td>\n",
       "      <td>6970</td>\n",
       "    </tr>\n",
       "    <tr>\n",
       "      <th>9</th>\n",
       "      <td>2012</td>\n",
       "      <td>9</td>\n",
       "      <td>9 / Mülheim</td>\n",
       "      <td>1</td>\n",
       "      <td>Stadtbezirke</td>\n",
       "      <td>28532.0</td>\n",
       "      <td>19,518135</td>\n",
       "      <td>41,96456415</td>\n",
       "      <td>146182.0</td>\n",
       "      <td>7051</td>\n",
       "      <td>...</td>\n",
       "      <td>81,935198</td>\n",
       "      <td>420,681</td>\n",
       "      <td>679</td>\n",
       "      <td>388</td>\n",
       "      <td>396</td>\n",
       "      <td>36,80407985</td>\n",
       "      <td>73,50256845</td>\n",
       "      <td>73196.0</td>\n",
       "      <td>9,794251</td>\n",
       "      <td>7169</td>\n",
       "    </tr>\n",
       "  </tbody>\n",
       "</table>\n",
       "<p>10 rows × 175 columns</p>\n",
       "</div>"
      ],
      "text/plain": [
       "   S_JAHR  S_RAUM              RAUM  S_RAUMEBENE     RAUMEBENE    A0002A  \\\n",
       "0    2012       0    0 / Stadt Köln            0   Gesamtstadt  180415.0   \n",
       "1    2012       1    1 / Innenstadt            1  Stadtbezirke   21712.0   \n",
       "2    2012       2  2 / Rodenkirchen            1  Stadtbezirke   14788.0   \n",
       "3    2012       3    3 / Lindenthal            1  Stadtbezirke   14132.0   \n",
       "4    2012       4     4 / Ehrenfeld            1  Stadtbezirke   19811.0   \n",
       "5    2012       5        5 / Nippes            1  Stadtbezirke   20676.0   \n",
       "6    2012       6    6 / Chorweiler            1  Stadtbezirke   14892.0   \n",
       "7    2012       7          7 / Porz            1  Stadtbezirke   16613.0   \n",
       "8    2012       8          8 / Kalk            1  Stadtbezirke   29259.0   \n",
       "9    2012       9       9 / Mülheim            1  Stadtbezirke   28532.0   \n",
       "\n",
       "      A0002P       A0022S     A0025A A0027A  ...     H0051S   H0052S B0003A  \\\n",
       "0  17,271948  41,90013762  1044555.0  46426  ...  87,059374  483,255   5944   \n",
       "1  16,985457  40,86903262   127827.0   4428  ...  93,269732  458,447    566   \n",
       "2  14,337793  43,45253054   103140.0   5331  ...  91,860767  569,468   1187   \n",
       "3   9,872231  42,06031943   143149.0   6787  ...  91,920257   525,04   1172   \n",
       "4  18,779445  40,54831047   105493.0   3935  ...  83,775698  449,053    439   \n",
       "5  18,145597  42,27830898   113945.0   5154  ...  84,574078  491,482    214   \n",
       "6  18,409049  42,06668212    80895.0   3493  ...  84,421093  499,165    319   \n",
       "7  15,235833  43,36416022   109039.0   5084  ...  84,779095  553,792    453   \n",
       "8  25,468077  40,73158448   114885.0   5163  ...   82,43595  377,211    915   \n",
       "9  19,518135  41,96456415   146182.0   7051  ...  81,935198  420,681    679   \n",
       "\n",
       "  B0004A B0009A       B0022S       B0023S    B0025A     B0026P B0026A  \n",
       "0   2941   3114  39,40239241  75,57050842  544630.0   7,522905  40972  \n",
       "1    296    193  40,39537813  63,87377692   80841.0   2,508628   2028  \n",
       "2    450    348  44,27280396  85,89885062   53159.0   3,397355   1806  \n",
       "3    689    848  45,80771085  82,08048668   79889.0   1,126563    900  \n",
       "4    365    293  36,15031329  69,38747475   54961.0   12,57437   6911  \n",
       "5     52    114  37,56269253  71,26460647   60059.0   7,341114   4409  \n",
       "6    113    189  37,27096854  87,33156645   34524.0  23,473525   8104  \n",
       "7    147    316  39,70796687  82,05816466   52764.0   5,069744   2675  \n",
       "8    441    417  35,27169778  73,36004852   55237.0  12,618353   6970  \n",
       "9    388    396  36,80407985  73,50256845   73196.0   9,794251   7169  \n",
       "\n",
       "[10 rows x 175 columns]"
      ]
     },
     "execution_count": 17,
     "metadata": {},
     "output_type": "execute_result"
    }
   ],
   "source": [
    "koeln_stats.head(n=10)"
   ]
  },
  {
   "cell_type": "code",
   "execution_count": null,
   "metadata": {},
   "outputs": [],
   "source": [
    "koeln_stats.tail(n=10)"
   ]
  },
  {
   "cell_type": "markdown",
   "metadata": {},
   "source": [
    "As you can see here, a dataframe looks strikingly similar to a file you would expect in a excel sheet. It has a bunch of rows and columns, and in each column there is some information stored. \n",
    "\n",
    "We can further examine the type and shape (rows and columns) of our dataframe by using the `df.info` method."
   ]
  },
  {
   "cell_type": "code",
   "execution_count": 18,
   "metadata": {},
   "outputs": [
    {
     "name": "stdout",
     "output_type": "stream",
     "text": [
      "<class 'pandas.core.frame.DataFrame'>\n",
      "RangeIndex: 8208 entries, 0 to 8207\n",
      "Columns: 175 entries, S_JAHR to B0026A\n",
      "dtypes: float64(27), int64(7), object(141)\n",
      "memory usage: 11.0+ MB\n"
     ]
    }
   ],
   "source": [
    "koeln_stats.info()"
   ]
  },
  {
   "cell_type": "markdown",
   "metadata": {},
   "source": [
    "This method gives us information about the number of columns, the datatype (Dtype) for each column and how many entries (rows) there are. This is super helpful to get an idea with what kind of data we are dealing with.\n",
    "\n",
    "However, the returned datatype (`dtypes: float64(27), int64(7), object(141)`) refers to the `values` within each column. `Object` = Mixed Information (Strings and integers, for example)\n",
    "\n",
    "The datatype of a column *itself* is a `pandas.Series`.\n",
    "\n",
    "![Series](../static/01_table_series.svg)"
   ]
  },
  {
   "cell_type": "code",
   "execution_count": null,
   "metadata": {},
   "outputs": [],
   "source": [
    "print(f\"the datatype of the column RAUM is {type(koeln_stats.RAUM)}\")"
   ]
  },
  {
   "cell_type": "markdown",
   "metadata": {},
   "source": [
    "To access a column of the dataframe, we have two options. \n",
    "\n",
    "The first one being `df.column` (replace *df* with your own dataframe!!). However this only works, if you column name has no spaces or extra characters!\n",
    "\n",
    "So we could use `koeln_stats.RAUM` but we can also use `koeln_stats[\"RAUM\"]`. The output of these operations is equivalent!"
   ]
  },
  {
   "cell_type": "code",
   "execution_count": null,
   "metadata": {},
   "outputs": [
    {
     "name": "stdout",
     "output_type": "stream",
     "text": [
      "the datatype of the column RAUM is <class 'pandas.core.series.Series'>\n"
     ]
    }
   ],
   "source": [
    "koeln_stats.RAUM.head(n=5)"
   ]
  },
  {
   "cell_type": "code",
   "execution_count": null,
   "metadata": {},
   "outputs": [],
   "source": [
    "koeln_stats[\"RAUM\"].head(n=5)"
   ]
  },
  {
   "cell_type": "markdown",
   "metadata": {},
   "source": [
    "We can seperately extract the column names with `df.columns`."
   ]
  },
  {
   "cell_type": "code",
   "execution_count": 22,
   "metadata": {},
   "outputs": [
    {
     "data": {
      "text/plain": [
       "Index(['S_JAHR', 'S_RAUM', 'RAUM', 'S_RAUMEBENE', 'RAUMEBENE', 'A0002A',\n",
       "       'A0002P', 'A0022S', 'A0025A', 'A0027A',\n",
       "       ...\n",
       "       'H0051S', 'H0052S', 'B0003A', 'B0004A', 'B0009A', 'B0022S', 'B0023S',\n",
       "       'B0025A', 'B0026P', 'B0026A'],\n",
       "      dtype='object', length=175)"
      ]
     },
     "execution_count": 22,
     "metadata": {},
     "output_type": "execute_result"
    }
   ],
   "source": [
    "koeln_stats.columns"
   ]
  },
  {
   "cell_type": "markdown",
   "metadata": {},
   "source": [
    "We can also directly convert them to a `list` by calling the `to_list()` method!"
   ]
  },
  {
   "cell_type": "code",
   "execution_count": null,
   "metadata": {},
   "outputs": [],
   "source": [
    "columns_list = koeln_stats.columns.to_list()\n",
    "type(columns_list)"
   ]
  },
  {
   "cell_type": "markdown",
   "metadata": {},
   "source": [
    "And in principle, we can now use this list to get a subset of our dataframe, extracting only the first two columns."
   ]
  },
  {
   "cell_type": "code",
   "execution_count": 24,
   "metadata": {},
   "outputs": [
    {
     "data": {
      "text/html": [
       "<div>\n",
       "<style scoped>\n",
       "    .dataframe tbody tr th:only-of-type {\n",
       "        vertical-align: middle;\n",
       "    }\n",
       "\n",
       "    .dataframe tbody tr th {\n",
       "        vertical-align: top;\n",
       "    }\n",
       "\n",
       "    .dataframe thead th {\n",
       "        text-align: right;\n",
       "    }\n",
       "</style>\n",
       "<table border=\"1\" class=\"dataframe\">\n",
       "  <thead>\n",
       "    <tr style=\"text-align: right;\">\n",
       "      <th></th>\n",
       "      <th>S_JAHR</th>\n",
       "      <th>S_RAUM</th>\n",
       "    </tr>\n",
       "  </thead>\n",
       "  <tbody>\n",
       "    <tr>\n",
       "      <th>0</th>\n",
       "      <td>2012</td>\n",
       "      <td>0</td>\n",
       "    </tr>\n",
       "    <tr>\n",
       "      <th>1</th>\n",
       "      <td>2012</td>\n",
       "      <td>1</td>\n",
       "    </tr>\n",
       "    <tr>\n",
       "      <th>2</th>\n",
       "      <td>2012</td>\n",
       "      <td>2</td>\n",
       "    </tr>\n",
       "    <tr>\n",
       "      <th>3</th>\n",
       "      <td>2012</td>\n",
       "      <td>3</td>\n",
       "    </tr>\n",
       "    <tr>\n",
       "      <th>4</th>\n",
       "      <td>2012</td>\n",
       "      <td>4</td>\n",
       "    </tr>\n",
       "    <tr>\n",
       "      <th>...</th>\n",
       "      <td>...</td>\n",
       "      <td>...</td>\n",
       "    </tr>\n",
       "    <tr>\n",
       "      <th>8203</th>\n",
       "      <td>2023</td>\n",
       "      <td>908030001</td>\n",
       "    </tr>\n",
       "    <tr>\n",
       "      <th>8204</th>\n",
       "      <td>2023</td>\n",
       "      <td>909010001</td>\n",
       "    </tr>\n",
       "    <tr>\n",
       "      <th>8205</th>\n",
       "      <td>2023</td>\n",
       "      <td>909030001</td>\n",
       "    </tr>\n",
       "    <tr>\n",
       "      <th>8206</th>\n",
       "      <td>2023</td>\n",
       "      <td>909030002</td>\n",
       "    </tr>\n",
       "    <tr>\n",
       "      <th>8207</th>\n",
       "      <td>2023</td>\n",
       "      <td>909030003</td>\n",
       "    </tr>\n",
       "  </tbody>\n",
       "</table>\n",
       "<p>8208 rows × 2 columns</p>\n",
       "</div>"
      ],
      "text/plain": [
       "      S_JAHR     S_RAUM\n",
       "0       2012          0\n",
       "1       2012          1\n",
       "2       2012          2\n",
       "3       2012          3\n",
       "4       2012          4\n",
       "...      ...        ...\n",
       "8203    2023  908030001\n",
       "8204    2023  909010001\n",
       "8205    2023  909030001\n",
       "8206    2023  909030002\n",
       "8207    2023  909030003\n",
       "\n",
       "[8208 rows x 2 columns]"
      ]
     },
     "execution_count": 24,
     "metadata": {},
     "output_type": "execute_result"
    }
   ],
   "source": [
    "koeln_stats[columns_list[:2]]"
   ]
  },
  {
   "cell_type": "markdown",
   "metadata": {},
   "source": [
    "df.describe() can be used to get a numerical overview of all values in our dataframe"
   ]
  },
  {
   "cell_type": "code",
   "execution_count": 25,
   "metadata": {},
   "outputs": [
    {
     "data": {
      "text/html": [
       "<div>\n",
       "<style scoped>\n",
       "    .dataframe tbody tr th:only-of-type {\n",
       "        vertical-align: middle;\n",
       "    }\n",
       "\n",
       "    .dataframe tbody tr th {\n",
       "        vertical-align: top;\n",
       "    }\n",
       "\n",
       "    .dataframe thead th {\n",
       "        text-align: right;\n",
       "    }\n",
       "</style>\n",
       "<table border=\"1\" class=\"dataframe\">\n",
       "  <thead>\n",
       "    <tr style=\"text-align: right;\">\n",
       "      <th></th>\n",
       "      <th>S_JAHR</th>\n",
       "      <th>S_RAUM</th>\n",
       "      <th>S_RAUMEBENE</th>\n",
       "      <th>A0002A</th>\n",
       "      <th>A0025A</th>\n",
       "      <th>A0109A</th>\n",
       "      <th>A0153A</th>\n",
       "      <th>A0213A</th>\n",
       "      <th>A0267A</th>\n",
       "      <th>A0273A</th>\n",
       "      <th>...</th>\n",
       "      <th>A0368A</th>\n",
       "      <th>A0371A</th>\n",
       "      <th>A0372A</th>\n",
       "      <th>D0011A</th>\n",
       "      <th>E0001A</th>\n",
       "      <th>H0001A</th>\n",
       "      <th>H0028A</th>\n",
       "      <th>H0035A</th>\n",
       "      <th>H0037A</th>\n",
       "      <th>B0025A</th>\n",
       "    </tr>\n",
       "  </thead>\n",
       "  <tbody>\n",
       "    <tr>\n",
       "      <th>count</th>\n",
       "      <td>8208.000000</td>\n",
       "      <td>8.208000e+03</td>\n",
       "      <td>8208.000000</td>\n",
       "      <td>8196.000000</td>\n",
       "      <td>8.196000e+03</td>\n",
       "      <td>8196.000000</td>\n",
       "      <td>8196.000000</td>\n",
       "      <td>8196.000000</td>\n",
       "      <td>8196.000000</td>\n",
       "      <td>8196.000000</td>\n",
       "      <td>...</td>\n",
       "      <td>8196.000000</td>\n",
       "      <td>8196.000000</td>\n",
       "      <td>8196.000000</td>\n",
       "      <td>7521.000000</td>\n",
       "      <td>3585.000000</td>\n",
       "      <td>8208.000000</td>\n",
       "      <td>8208.000000</td>\n",
       "      <td>8208.000000</td>\n",
       "      <td>8208.000000</td>\n",
       "      <td>1152.000000</td>\n",
       "    </tr>\n",
       "    <tr>\n",
       "      <th>mean</th>\n",
       "      <td>2017.500000</td>\n",
       "      <td>4.189774e+08</td>\n",
       "      <td>2.869883</td>\n",
       "      <td>1628.660200</td>\n",
       "      <td>8.318157e+03</td>\n",
       "      <td>4065.875183</td>\n",
       "      <td>3316.983895</td>\n",
       "      <td>4252.281357</td>\n",
       "      <td>4305.391654</td>\n",
       "      <td>2170.981088</td>\n",
       "      <td>...</td>\n",
       "      <td>2091.822108</td>\n",
       "      <td>1544.880429</td>\n",
       "      <td>1929.161420</td>\n",
       "      <td>3121.976067</td>\n",
       "      <td>1914.584937</td>\n",
       "      <td>3569.965278</td>\n",
       "      <td>1145.536672</td>\n",
       "      <td>3678.312987</td>\n",
       "      <td>4162.920565</td>\n",
       "      <td>17469.364583</td>\n",
       "    </tr>\n",
       "    <tr>\n",
       "      <th>std</th>\n",
       "      <td>3.452263</td>\n",
       "      <td>3.057064e+08</td>\n",
       "      <td>0.448253</td>\n",
       "      <td>10005.266938</td>\n",
       "      <td>5.364302e+04</td>\n",
       "      <td>26190.671566</td>\n",
       "      <td>20466.568673</td>\n",
       "      <td>27453.609225</td>\n",
       "      <td>28116.264634</td>\n",
       "      <td>14466.672940</td>\n",
       "      <td>...</td>\n",
       "      <td>13533.776996</td>\n",
       "      <td>9915.131324</td>\n",
       "      <td>12597.687426</td>\n",
       "      <td>20452.365737</td>\n",
       "      <td>8033.686600</td>\n",
       "      <td>23691.875428</td>\n",
       "      <td>7631.040179</td>\n",
       "      <td>24474.817459</td>\n",
       "      <td>27692.863611</td>\n",
       "      <td>58296.342893</td>\n",
       "    </tr>\n",
       "    <tr>\n",
       "      <th>min</th>\n",
       "      <td>2012.000000</td>\n",
       "      <td>0.000000e+00</td>\n",
       "      <td>0.000000</td>\n",
       "      <td>0.000000</td>\n",
       "      <td>0.000000e+00</td>\n",
       "      <td>0.000000</td>\n",
       "      <td>0.000000</td>\n",
       "      <td>0.000000</td>\n",
       "      <td>0.000000</td>\n",
       "      <td>0.000000</td>\n",
       "      <td>...</td>\n",
       "      <td>0.000000</td>\n",
       "      <td>0.000000</td>\n",
       "      <td>0.000000</td>\n",
       "      <td>15.000000</td>\n",
       "      <td>26.000000</td>\n",
       "      <td>5.000000</td>\n",
       "      <td>0.000000</td>\n",
       "      <td>7.000000</td>\n",
       "      <td>10.000000</td>\n",
       "      <td>477.000000</td>\n",
       "    </tr>\n",
       "    <tr>\n",
       "      <th>25%</th>\n",
       "      <td>2014.750000</td>\n",
       "      <td>1.050100e+08</td>\n",
       "      <td>3.000000</td>\n",
       "      <td>213.750000</td>\n",
       "      <td>1.557000e+03</td>\n",
       "      <td>757.000000</td>\n",
       "      <td>494.000000</td>\n",
       "      <td>799.000000</td>\n",
       "      <td>794.750000</td>\n",
       "      <td>332.000000</td>\n",
       "      <td>...</td>\n",
       "      <td>376.000000</td>\n",
       "      <td>277.000000</td>\n",
       "      <td>347.000000</td>\n",
       "      <td>577.000000</td>\n",
       "      <td>289.000000</td>\n",
       "      <td>582.000000</td>\n",
       "      <td>193.000000</td>\n",
       "      <td>583.000000</td>\n",
       "      <td>667.000000</td>\n",
       "      <td>3192.750000</td>\n",
       "    </tr>\n",
       "    <tr>\n",
       "      <th>50%</th>\n",
       "      <td>2017.500000</td>\n",
       "      <td>4.010400e+08</td>\n",
       "      <td>3.000000</td>\n",
       "      <td>343.000000</td>\n",
       "      <td>1.985500e+03</td>\n",
       "      <td>970.500000</td>\n",
       "      <td>724.000000</td>\n",
       "      <td>1011.000000</td>\n",
       "      <td>1036.000000</td>\n",
       "      <td>520.000000</td>\n",
       "      <td>...</td>\n",
       "      <td>498.000000</td>\n",
       "      <td>365.000000</td>\n",
       "      <td>460.000000</td>\n",
       "      <td>746.000000</td>\n",
       "      <td>489.000000</td>\n",
       "      <td>790.000000</td>\n",
       "      <td>280.000000</td>\n",
       "      <td>796.000000</td>\n",
       "      <td>910.000000</td>\n",
       "      <td>5510.000000</td>\n",
       "    </tr>\n",
       "    <tr>\n",
       "      <th>75%</th>\n",
       "      <td>2020.250000</td>\n",
       "      <td>7.062975e+08</td>\n",
       "      <td>3.000000</td>\n",
       "      <td>636.000000</td>\n",
       "      <td>2.547000e+03</td>\n",
       "      <td>1258.000000</td>\n",
       "      <td>1250.000000</td>\n",
       "      <td>1300.000000</td>\n",
       "      <td>1347.000000</td>\n",
       "      <td>791.000000</td>\n",
       "      <td>...</td>\n",
       "      <td>670.250000</td>\n",
       "      <td>517.000000</td>\n",
       "      <td>613.000000</td>\n",
       "      <td>997.000000</td>\n",
       "      <td>1240.000000</td>\n",
       "      <td>1218.500000</td>\n",
       "      <td>406.000000</td>\n",
       "      <td>1263.250000</td>\n",
       "      <td>1438.250000</td>\n",
       "      <td>10561.500000</td>\n",
       "    </tr>\n",
       "    <tr>\n",
       "      <th>max</th>\n",
       "      <td>2023.000000</td>\n",
       "      <td>9.090300e+08</td>\n",
       "      <td>4.000000</td>\n",
       "      <td>228555.000000</td>\n",
       "      <td>1.095520e+06</td>\n",
       "      <td>535040.000000</td>\n",
       "      <td>463966.000000</td>\n",
       "      <td>560480.000000</td>\n",
       "      <td>571643.000000</td>\n",
       "      <td>295808.000000</td>\n",
       "      <td>...</td>\n",
       "      <td>280662.000000</td>\n",
       "      <td>201187.000000</td>\n",
       "      <td>262040.000000</td>\n",
       "      <td>444241.000000</td>\n",
       "      <td>112580.000000</td>\n",
       "      <td>491747.000000</td>\n",
       "      <td>158808.000000</td>\n",
       "      <td>523797.000000</td>\n",
       "      <td>585118.000000</td>\n",
       "      <td>572090.000000</td>\n",
       "    </tr>\n",
       "  </tbody>\n",
       "</table>\n",
       "<p>8 rows × 34 columns</p>\n",
       "</div>"
      ],
      "text/plain": [
       "            S_JAHR        S_RAUM  S_RAUMEBENE         A0002A        A0025A  \\\n",
       "count  8208.000000  8.208000e+03  8208.000000    8196.000000  8.196000e+03   \n",
       "mean   2017.500000  4.189774e+08     2.869883    1628.660200  8.318157e+03   \n",
       "std       3.452263  3.057064e+08     0.448253   10005.266938  5.364302e+04   \n",
       "min    2012.000000  0.000000e+00     0.000000       0.000000  0.000000e+00   \n",
       "25%    2014.750000  1.050100e+08     3.000000     213.750000  1.557000e+03   \n",
       "50%    2017.500000  4.010400e+08     3.000000     343.000000  1.985500e+03   \n",
       "75%    2020.250000  7.062975e+08     3.000000     636.000000  2.547000e+03   \n",
       "max    2023.000000  9.090300e+08     4.000000  228555.000000  1.095520e+06   \n",
       "\n",
       "              A0109A         A0153A         A0213A         A0267A  \\\n",
       "count    8196.000000    8196.000000    8196.000000    8196.000000   \n",
       "mean     4065.875183    3316.983895    4252.281357    4305.391654   \n",
       "std     26190.671566   20466.568673   27453.609225   28116.264634   \n",
       "min         0.000000       0.000000       0.000000       0.000000   \n",
       "25%       757.000000     494.000000     799.000000     794.750000   \n",
       "50%       970.500000     724.000000    1011.000000    1036.000000   \n",
       "75%      1258.000000    1250.000000    1300.000000    1347.000000   \n",
       "max    535040.000000  463966.000000  560480.000000  571643.000000   \n",
       "\n",
       "              A0273A  ...         A0368A         A0371A         A0372A  \\\n",
       "count    8196.000000  ...    8196.000000    8196.000000    8196.000000   \n",
       "mean     2170.981088  ...    2091.822108    1544.880429    1929.161420   \n",
       "std     14466.672940  ...   13533.776996    9915.131324   12597.687426   \n",
       "min         0.000000  ...       0.000000       0.000000       0.000000   \n",
       "25%       332.000000  ...     376.000000     277.000000     347.000000   \n",
       "50%       520.000000  ...     498.000000     365.000000     460.000000   \n",
       "75%       791.000000  ...     670.250000     517.000000     613.000000   \n",
       "max    295808.000000  ...  280662.000000  201187.000000  262040.000000   \n",
       "\n",
       "              D0011A         E0001A         H0001A         H0028A  \\\n",
       "count    7521.000000    3585.000000    8208.000000    8208.000000   \n",
       "mean     3121.976067    1914.584937    3569.965278    1145.536672   \n",
       "std     20452.365737    8033.686600   23691.875428    7631.040179   \n",
       "min        15.000000      26.000000       5.000000       0.000000   \n",
       "25%       577.000000     289.000000     582.000000     193.000000   \n",
       "50%       746.000000     489.000000     790.000000     280.000000   \n",
       "75%       997.000000    1240.000000    1218.500000     406.000000   \n",
       "max    444241.000000  112580.000000  491747.000000  158808.000000   \n",
       "\n",
       "              H0035A         H0037A         B0025A  \n",
       "count    8208.000000    8208.000000    1152.000000  \n",
       "mean     3678.312987    4162.920565   17469.364583  \n",
       "std     24474.817459   27692.863611   58296.342893  \n",
       "min         7.000000      10.000000     477.000000  \n",
       "25%       583.000000     667.000000    3192.750000  \n",
       "50%       796.000000     910.000000    5510.000000  \n",
       "75%      1263.250000    1438.250000   10561.500000  \n",
       "max    523797.000000  585118.000000  572090.000000  \n",
       "\n",
       "[8 rows x 34 columns]"
      ]
     },
     "execution_count": 25,
     "metadata": {},
     "output_type": "execute_result"
    }
   ],
   "source": [
    "koeln_stats.describe()"
   ]
  },
  {
   "cell_type": "markdown",
   "metadata": {},
   "source": [
    "Indexing and masking in pandas dataframes works a bit like in a numpy array. We can also extract multiple columns at once\n"
   ]
  },
  {
   "cell_type": "code",
   "execution_count": null,
   "metadata": {},
   "outputs": [],
   "source": [
    "koeln_stats[[\"S_RAUM\",\"S_JAHR\",\"S_RAUMEBENE\"]]"
   ]
  },
  {
   "cell_type": "markdown",
   "metadata": {},
   "source": [
    "This is equivalent to the snippet below, since its just lists after all!"
   ]
  },
  {
   "cell_type": "code",
   "execution_count": null,
   "metadata": {},
   "outputs": [],
   "source": [
    "column_lists = [\"S_RAUM\",\"S_JAHR\",\"S_RAUMEBENE\"]\n",
    "\n",
    "koeln_stats[column_lists]"
   ]
  },
  {
   "cell_type": "markdown",
   "metadata": {},
   "source": [
    "We can also use `df.loc[rows,columns]` to index into our dataframe. `.loc` is used to index into the dataframe based on the *labels names*. Since rows are usually just numbers, we can pass an integer here.\n",
    "To get the column, we need to pass the column name as a string.\n",
    "\n",
    "### **Exercise**\n",
    "\n",
    "Show the every *second* row of the first 16 rows of the `koeln_stats` dataframe for the column `S_RAUM`.\n",
    "\n",
    "**Hint**: Use `.loc` indexing. You can pass an integer to the row selection [row,column]. Use slicing [click here for a reminder](https://www.datacamp.com/tutorial/python-slice) to get every 2nd row."
   ]
  },
  {
   "cell_type": "code",
   "execution_count": null,
   "metadata": {},
   "outputs": [],
   "source": []
  },
  {
   "cell_type": "markdown",
   "metadata": {},
   "source": [
    "To use integers for indexing, we need to use `df.iloc`. Now, we can simply pass integer values for both rows and columns.\n",
    "\n",
    "### **Exercise**\n",
    "\n",
    "Define a random integer called `ran_col` using the `numpy.random.randin` function. It should not be larger than the number of columns in `koeln_stats`.\n",
    "\n",
    "Define a second random integer called `ran_rows` using the same function. Make sure its not larger than the number of rows in `koeln_stats`.\n",
    "\n",
    "Use these two integers to index in to the dataframe using `.iloc`"
   ]
  },
  {
   "cell_type": "code",
   "execution_count": null,
   "metadata": {},
   "outputs": [],
   "source": []
  },
  {
   "cell_type": "markdown",
   "metadata": {},
   "source": [
    "We can also create a mask that is based on boolean values and use it to extract parts of the dataframe, where a given condition is `True`.\n",
    "\n",
    "In `S_Jahr` are the corresponding *years* stored, when the statistic was collected."
   ]
  },
  {
   "cell_type": "code",
   "execution_count": null,
   "metadata": {},
   "outputs": [],
   "source": [
    "mask = koeln_stats[\"S_JAHR\"] == 2012\n",
    "\n",
    "koeln_stats[mask]"
   ]
  },
  {
   "cell_type": "markdown",
   "metadata": {},
   "source": [
    "This is equivalent to      "
   ]
  },
  {
   "cell_type": "code",
   "execution_count": null,
   "metadata": {},
   "outputs": [],
   "source": [
    "koeln_stats[koeln_stats.S_JAHR == 2012]"
   ]
  },
  {
   "cell_type": "markdown",
   "metadata": {},
   "source": [
    "### **Exercise**\n",
    "\n",
    "Create a new variable called `my_vedel`. Assign to it a *string* of the vedel you are living in (if you are comfortable with that, otherwise just use any other.)\n",
    "\n",
    "We now want to extract the data, that belongs to `my_vedel`.\n",
    "\n",
    "Since this information is stored in the `RAUM` column, we need to build the mask based on that column.\n",
    "\n",
    "Unfortunately, we cannot use simple `logical operator indexing` here. So we need to use `df.column.str.contains(str).`\n",
    "\n",
    "Create a variable called `mask`. Use the syntax (`df.column.str.contains(str).`) from above.\n",
    "\n",
    "**Hint**: Replace `df` with the actual name of the dataframe ,`column` with the the RAUM column and `(str)` with the name of your vedel (as a string variable!)\n",
    "\n",
    "Create a new variable called *the name of your vedel*. This variable should have only the values of your vedel!\n",
    "\n",
    "For example, you want something like\n",
    "\n",
    "          mask = ....\n",
    "\n",
    "          ehrenfeld = koeln_stats[mask]"
   ]
  },
  {
   "cell_type": "code",
   "execution_count": null,
   "metadata": {},
   "outputs": [],
   "source": []
  },
  {
   "cell_type": "markdown",
   "metadata": {},
   "source": [
    "### **Exercise**\n",
    "\n",
    "Using the `koeln_stats_description` dataframe, look up a column code that you think is interesting. Access that column in the `your vedel` or the `koeln_stats` dataframe.\n",
    "\n",
    "**Hint**: Use koeln_stats_description.head(n=50) to see more column names stored in there.\n",
    "\n",
    "**Hint 2.0**: Use this code\n",
    "\n",
    "          koeln_stats_description[[\"SCHLUESSEL\",\"INHALT\"]].head(n=50).iloc[num_row,1]\n",
    "\n",
    " to get specific information about a given row!"
   ]
  },
  {
   "cell_type": "code",
   "execution_count": null,
   "metadata": {},
   "outputs": [],
   "source": []
  },
  {
   "cell_type": "markdown",
   "metadata": {},
   "source": [
    "With that column in mind you can do some cool investigation. Maybe you are interested in, if the age of people above 80% differes between vedels?\n",
    "\n",
    "To get an idea of the mean `distribution` you can use the following syntax\n",
    "\n",
    "          df.groupby(\"Column you believe is interesting to sort by\").\"OutComeColumn\".mean()\n",
    "\n",
    "Try this now with your dataframe.\n",
    "\n",
    "But before that...\n",
    "\n",
    "![Errors](../static/Error.gif)\n",
    "\n",
    "Yep. Some values are just messed up in this dataframe. This is completely normal with unknown datasources, unfortunately. If you get an error during your `groupby` operation, try the code I listed below.\n",
    "\n",
    "Just type the name of your column into `your_column` and switch the variable `error` from False to True"
   ]
  },
  {
   "cell_type": "code",
   "execution_count": null,
   "metadata": {},
   "outputs": [],
   "source": [
    "#use this cell to apply the groupby operation"
   ]
  },
  {
   "cell_type": "code",
   "execution_count": null,
   "metadata": {},
   "outputs": [],
   "source": [
    "import numpy as np\n",
    "# Function to check if a value is numeric\n",
    "def is_numeric(value):\n",
    "    try:\n",
    "        float(value)  # Try converting to float\n",
    "        return True\n",
    "    except ValueError:\n",
    "        return False\n",
    "\n",
    "error = False\n",
    "\n",
    "if error:\n",
    "    your_column = \"Type the name of the column you want to investigate here\"\n",
    "    # Apply the function to the column, keeping only valid numeric values\n",
    "    koeln_stats[your_column] = koeln_stats[your_column].apply(lambda x: x if is_numeric(x) else np.nan)\n",
    "\n",
    "    # Drop rows where 'A0027A' contains NaN values (i.e., invalid values)\n",
    "    koeln_stats = koeln_stats.dropna(subset=[your_column])\n",
    "\n",
    "    koeln_stats[your_column] = [float(str(i).replace(\",\", \"\")) for i in koeln_stats[your_column]]\n",
    "else:\n",
    "    pass"
   ]
  },
  {
   "cell_type": "markdown",
   "metadata": {},
   "source": [
    "We can also infer distribution stats (Mean, Standard Deviation) directly from the column"
   ]
  },
  {
   "cell_type": "code",
   "execution_count": null,
   "metadata": {},
   "outputs": [],
   "source": [
    "koeln_stats[\"A0002A\"].mean()\n",
    "koeln_stats[\"A0002A\"].std()"
   ]
  },
  {
   "cell_type": "markdown",
   "metadata": {},
   "source": [
    "## **Data Visualization and Plotting**\n",
    "\n",
    "Now that we’ve taken a closer look at our data through basic descriptive statistics and data types, we’ll take the next step by exploring it visually. Basic data visualization offers a different perspective and can reveal key patterns or issues relevant for further analysis. In the following steps, we’ll use various Python libraries and functions to create visualizations that highlight different aspects of the data.\n",
    "\n",
    "What is Plotting?\n",
    "\n",
    "*Plotting in data science and programming refers to the visual representation of data using charts or graphs. It helps us understand patterns, relationships, and trends in data more clearly and efficiently than raw numbers alone. By turning data into visual formats, such as line graphs, bar charts, histograms, or scatter plots, we can make more informed decisions, identify outliers, and communicate insights to others.*"
   ]
  },
  {
   "cell_type": "markdown",
   "metadata": {},
   "source": [
    "There are two very popular libraries in python, which are almost always used for visualizing data. \n",
    "\n",
    "That is `seaborn` and `matplotlib`. \n",
    "\n",
    "Matplotlib is actually build based on `matlab` and is the most used plotting library in python\n",
    "\n",
    "![plot](../static/matplotlib.png)\n",
    "\n",
    "Seaborn is build on top of `matplotlib` and is probably the second most popular library to visualize your data in python.\n",
    "\n",
    "![plot](../static/seaborn.png)\n",
    "\n",
    "Once more, these libraries have their own commonly used abbreviations. Often times you want to import these libraries like this"
   ]
  },
  {
   "cell_type": "code",
   "execution_count": 2,
   "metadata": {},
   "outputs": [],
   "source": [
    "import matplotlib.pyplot as plt\n",
    "import seaborn as sns"
   ]
  },
  {
   "cell_type": "code",
   "execution_count": null,
   "metadata": {},
   "outputs": [],
   "source": [
    "sns.displot(data=dataframe, x=\"Time_to_prepare_sec\",hue=\"Size\",kind=\"kde\",multiple=\"stack\")"
   ]
  },
  {
   "cell_type": "markdown",
   "metadata": {},
   "source": [
    "We can also combine different plots into one figure"
   ]
  },
  {
   "cell_type": "code",
   "execution_count": null,
   "metadata": {},
   "outputs": [],
   "source": [
    "fig,axes=plt.subplots(1,3,sharey=True,sharex=True)\n",
    "sns.lineplot(data=dataframe, y=\"Time_to_prepare_sec\", x = \"Drink\",errorbar=None,ax=axes[0],palette=\"deep\")\n",
    "sns.barplot(data=dataframe, y=\"Time_to_prepare_sec\", x = \"Drink\",errorbar=None,ax=axes[1],palette=\"deep\")\n",
    "sns.violinplot(data=dataframe, y=\"Time_to_prepare_sec\", x = \"Drink\",ax=axes[2])\n",
    "for ax in axes:\n",
    "    ax.tick_params(axis='x', rotation=90)\n",
    "plt.tight_layout()\n",
    "plt.show()"
   ]
  },
  {
   "cell_type": "markdown",
   "metadata": {},
   "source": [
    "We can also create an interaction plot. This plot might be useful if we assume a difference between our independent variables. For example, does the size of the drink influence the time to prepare it?\n",
    "We indicate this with `hue` parameter."
   ]
  },
  {
   "cell_type": "code",
   "execution_count": null,
   "metadata": {},
   "outputs": [],
   "source": [
    "sns.lineplot(data=dataframe, y=\"Time_to_prepare_sec\", x=\"Drink\",hue=\"Size\",errorbar=None,palette=\"deep\")\n",
    "plt.title(\"Time to Prepare Different Drinks by Size\", fontsize=14)\n",
    "plt.xlabel(\"Drink Type\", fontsize=12)\n",
    "plt.ylabel(\"Preparation Time (sec)\", fontsize=12)\n",
    "plt.xticks(rotation=45)  # Rotate x-axis labels\n",
    "plt.grid(True, linestyle=\"--\", alpha=0.5)\n",
    "plt.tight_layout()\n",
    "plt.legend(title=\"Drink Size\")"
   ]
  },
  {
   "cell_type": "markdown",
   "metadata": {},
   "source": [
    "There are, obviously, many many more plotting styles. You can find all of them [here](https://seaborn.pydata.org/tutorial/function_overview.html).\n",
    "\n",
    "Anyways, after this short tutorial on plotting and data visualization, lets return to our koeln dataframe.\n",
    "\n",
    "### Exercise\n",
    "\n",
    "Visualize the column you picked from earlier, using the seaborn library. Add xlabels, ylabels and a title to your plot. If you want to, you can choose multiple columns and plot something interactive, using the `hue` parameter.\n",
    "\n",
    "For example you might wonder, if the amount of people > 80 years old increased over the time of years in specific vedel?"
   ]
  },
  {
   "cell_type": "code",
   "execution_count": null,
   "metadata": {},
   "outputs": [],
   "source": []
  }
 ],
 "metadata": {
  "kernelspec": {
   "display_name": "base",
   "language": "python",
   "name": "python3"
  },
  "language_info": {
   "codemirror_mode": {
    "name": "ipython",
    "version": 3
   },
   "file_extension": ".py",
   "mimetype": "text/x-python",
   "name": "python",
   "nbconvert_exporter": "python",
   "pygments_lexer": "ipython3",
   "version": "3.9.12"
  }
 },
 "nbformat": 4,
 "nbformat_minor": 2
}
