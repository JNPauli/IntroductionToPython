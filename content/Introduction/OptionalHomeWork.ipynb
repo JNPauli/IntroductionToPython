{
 "cells": [
  {
   "cell_type": "markdown",
   "id": "e7f79a8b",
   "metadata": {},
   "source": [
    "## Intro\n",
    "\n",
    "Hello there,\n",
    "\n",
    "obwohl die vorherigen Materialien alle auf englisch waren, wird dieser Teil der optionalen Hausaufgaben auf deutsch sein. \n",
    "\n",
    "Ihr werdet in diesem notebook zu jedem der von uns bearbeiteten Themengebiete verschiedene Aufgaben finden. Wie bereits erwähnt, sind diese Übungsaufgaben komplett optional und werden auch nicht bewertet. Es geht nur darum, nochmal die Konzepte zu wiederholen und zu üben.\n",
    "\n",
    "Solltet ihr Fragen haben, schreibt mir einfach eine E-mail! "
   ]
  },
  {
   "cell_type": "markdown",
   "id": "7d2e3d25",
   "metadata": {},
   "source": [
    "### Aufgabe 1.0:\n",
    "\n",
    "Erstellt **drei** verschiedene Variablen, die ihr `age` , `name` und `height` nennt.\n",
    "\n",
    "Ordnet jeder Variable einen Wert zu; bedeutet: \n",
    "\n",
    "          age = ..., name = ..., height = ...\n",
    "\n",
    "Ziel ist es, dass eine der Variablen den datentype `float` hat, eine den datentype `int` und eine den datentyp `str`.\n",
    "\n",
    "Wie könnt ihr den datentype eurer Variablen herausfinden? Benutzt die Funktion aus der Lecture um den datentyp der jeweiligen Variable zu zeigen."
   ]
  },
  {
   "cell_type": "code",
   "execution_count": null,
   "id": "9062ff53",
   "metadata": {},
   "outputs": [],
   "source": []
  },
  {
   "cell_type": "markdown",
   "id": "0fcf00de",
   "metadata": {},
   "source": [
    "### Aufgabe 2.0\n",
    "\n",
    "Benutzt nun `f-string formatting` um euer Alter, euren Name und eure Größe zu zeigen. Benutzt dafür die variablen `age`, `name` und `height` aus Aufgabe 1.0.\n",
    "\n",
    "Formuliert einen Satz wie: Mein Name ist ..., ich bin ... Jahre alt und bin ... groß. \n",
    "\n",
    "Hier nochmal eine Erinnerung, wie die syntax des f-string formatting aussieht. Das Beispiel hat dabei nichts mit Aufgabe 2.0 zutun, sondern hat nur den Zweck um euch an die Syntax zu erinnern."
   ]
  },
  {
   "cell_type": "code",
   "execution_count": 5,
   "id": "e2daf495",
   "metadata": {},
   "outputs": [
    {
     "name": "stdout",
     "output_type": "stream",
     "text": [
      "Ich habe nur noch 5 Euro\n"
     ]
    }
   ],
   "source": [
    "money = 5\n",
    "\n",
    "print(f\"Ich habe nur noch {money} Euro\")"
   ]
  },
  {
   "cell_type": "code",
   "execution_count": null,
   "id": "609d7136",
   "metadata": {},
   "outputs": [],
   "source": []
  },
  {
   "cell_type": "markdown",
   "id": "26c85a8b",
   "metadata": {},
   "source": [
    "### Aufgabe 3.0\n",
    "\n",
    "Programmiert mit der Hilfe von `if/else` clauses folgendes:\n",
    "\n",
    "**Wenn** euer name **5 oder mehr** Buchstaben hat, benutzt die `print()` funktion um folgendes zu printen: (\"Dieser Name hat 5 oder mehr Buchstaben\").\n",
    "\n",
    "In jedem anderen Fall solltet ihr `print()` benutzen um \"Dieser Name hat weniger als 5 Buchstaben\" zu printen.\n",
    "\n",
    "**Hinweis**: Die Länge einer Variable bekommt ihr mit der\n",
    "\n",
    "           `len(variable)` funktion, wobei `variable` durch den Namen eurer eigenen Variable ersetzt werden muss!"
   ]
  },
  {
   "cell_type": "code",
   "execution_count": null,
   "id": "001ef059",
   "metadata": {},
   "outputs": [],
   "source": []
  },
  {
   "cell_type": "markdown",
   "id": "ccf3fa71",
   "metadata": {},
   "source": [
    "### Aufgabe 4.0\n",
    "\n",
    "Erstellt eine `list` mit dem namen *fruits*. In dieser Liste sollen drei deiner Lieblingsfrüchte drinstehen. Jede einzelne deiner Lieblingsfrüchte **soll**  eine `string` variable sein.\n",
    "Benutzt die `print` funktion um deine liste zu zeigen."
   ]
  },
  {
   "cell_type": "code",
   "execution_count": null,
   "id": "9f4ea07d",
   "metadata": {},
   "outputs": [],
   "source": []
  },
  {
   "cell_type": "markdown",
   "id": "a285b19e",
   "metadata": {},
   "source": [
    "#### Aufgabe 4.1\n",
    "\n",
    "Benutze nun einen `numerischen index`, um das *erste* Element deiner Liste zu zeigen."
   ]
  },
  {
   "cell_type": "code",
   "execution_count": null,
   "id": "c3d3891a",
   "metadata": {},
   "outputs": [],
   "source": []
  },
  {
   "cell_type": "markdown",
   "id": "d5686bb4",
   "metadata": {},
   "source": [
    "#### Aufgabe 4.2\n",
    "\n",
    "Benutze die `list.append(\"New Item\")` funktion, um eine weitere Frucht deiner Liste hinzufügen.\n",
    "\n",
    "**Tipp**: Ersetzte *list* in `list.append(\"New Item\")` durch den Namen deiner eigenen Liste und \"New Item\" durch den Namen der Frucht, die du zur Liste hinzufügen möchtest.\n",
    "\n",
    "Zeige deine neue liste nun mithilfe der `print()` funktion."
   ]
  },
  {
   "cell_type": "code",
   "execution_count": null,
   "id": "3353f600",
   "metadata": {},
   "outputs": [],
   "source": []
  },
  {
   "cell_type": "markdown",
   "id": "effbe45c",
   "metadata": {},
   "source": [
    "### Aufgabe 5.0\n",
    "\n",
    "Benutzt die Liste aus Aufgabe 4.2 (oder 4.0, falls ihr Probleme mit 4.2 hattet) und schreibt einen `for loop`, um jedes element in der liste mit der `print()` funktion auszugeben."
   ]
  },
  {
   "cell_type": "code",
   "execution_count": null,
   "id": "5f87b09e",
   "metadata": {},
   "outputs": [],
   "source": []
  },
  {
   "cell_type": "markdown",
   "id": "28c4fc51",
   "metadata": {},
   "source": [
    "### Aufgabe 6.0\n",
    "\n",
    "Erstelle eine Liste mit den Zahlen von 1 bis 6. Nennt die Liste `numbers`.\n",
    "\n",
    "Benutzt einen for loop, um jede Zahl in `numbers` mit der `print()` funktion zu zeigen."
   ]
  },
  {
   "cell_type": "code",
   "execution_count": null,
   "id": "b44b9809",
   "metadata": {},
   "outputs": [],
   "source": []
  },
  {
   "cell_type": "markdown",
   "id": "9d497106",
   "metadata": {},
   "source": [
    "#### Aufgabe 6.1\n",
    "\n",
    "Ergänzt den for loop aus Aufgabe 6.0 mit einem `if/else` statement. Wenn eine Nummer `kleiner gleich` 3 ist, lasst euch den Satz \"Diese Zahl ist kleiner gleich 3\" ausgeben (benutzt dafür wieder print).\n",
    "\n",
    "Wenn eine Zahl größer als 3 ist, lasst euch den entsprechenden Satz ausgeben."
   ]
  },
  {
   "cell_type": "code",
   "execution_count": null,
   "id": "06383191",
   "metadata": {},
   "outputs": [],
   "source": []
  },
  {
   "cell_type": "markdown",
   "id": "9efa76ea",
   "metadata": {},
   "source": [
    "#### Aufgabe 6.2\n",
    "\n",
    "Nun eine etwas schwierigere Aufgabe. Benutzt weiterhin die Liste aus Aufgabe 6.0. Benutzt einen for loop und ein if statement um zu überprüfen, ob eine Zahl gerade ist. Wenn eine Zahl gerade ist, printet diese.\n",
    "\n",
    "Hinweis: Um zu überprüfen, ob eine Zahl gerade ist, kann man in python den `%` operator benutzen. Der %-Operator gibt den Rest einer Division zurück. Eine Zahl ist gerade, wenn zahl % 2 == 0 ergibt\n",
    "\n",
    "Zum Beispiel:"
   ]
  },
  {
   "cell_type": "code",
   "execution_count": 7,
   "id": "85923b66",
   "metadata": {},
   "outputs": [
    {
     "data": {
      "text/plain": [
       "(True, False)"
      ]
     },
     "execution_count": 7,
     "metadata": {},
     "output_type": "execute_result"
    }
   ],
   "source": [
    "10 % 2 == 0,9 % 2 == 0"
   ]
  },
  {
   "cell_type": "markdown",
   "id": "7704fef2",
   "metadata": {},
   "source": [
    "Da 10 eine gerade Zahl ist, ist das erste statement (`10 % 2 == 0`) true, und da 9 ungerade ist, ist zweite statement (`9 % 2 == 0`) falsch.\n",
    "\n",
    "Schreibt eure Lösung nun in die untere Code Zelle "
   ]
  },
  {
   "cell_type": "code",
   "execution_count": null,
   "id": "2e37c466",
   "metadata": {},
   "outputs": [],
   "source": []
  },
  {
   "cell_type": "markdown",
   "id": "8b8bbabd",
   "metadata": {},
   "source": [
    "### Aufgabe 7.0\n",
    "\n",
    "Erstellt eine Variable names `counter` und gebt dieser den Wert 0. Benutzt nun einen `while loop`, der nur so lange läuft, bis counter nicht mehr kleiner-gleich  **5** ist. D.h., wenn counter kleiner als 5 ist, soll euer loop laufen. Ist counter 5 oder größer, soll der loop nicht mehr fortgesetzt werden.\n",
    "\n",
    "Zeige (print) jedes mal den aktuellen Wert von Counter. Vergiss nicht, jedesmal Counter um einen Wert zu erhöhen! (Damit der while loop nicht unendlich lange läuft!)\n",
    "\n",
    "**Hinweis**: Erstellt `counter = 0`, bevor ihr den while loop startet!"
   ]
  },
  {
   "cell_type": "code",
   "execution_count": null,
   "id": "23ba4fd2",
   "metadata": {},
   "outputs": [],
   "source": []
  }
 ],
 "metadata": {
  "kernelspec": {
   "display_name": "base",
   "language": "python",
   "name": "python3"
  },
  "language_info": {
   "codemirror_mode": {
    "name": "ipython",
    "version": 3
   },
   "file_extension": ".py",
   "mimetype": "text/x-python",
   "name": "python",
   "nbconvert_exporter": "python",
   "pygments_lexer": "ipython3",
   "version": "3.9.12"
  }
 },
 "nbformat": 4,
 "nbformat_minor": 5
}
