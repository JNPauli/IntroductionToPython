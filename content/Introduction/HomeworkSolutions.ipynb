{
 "cells": [
  {
   "cell_type": "markdown",
   "id": "4441b210",
   "metadata": {},
   "source": [
    "Aufgabe 1.0"
   ]
  },
  {
   "cell_type": "code",
   "execution_count": 2,
   "id": "99663c57",
   "metadata": {},
   "outputs": [
    {
     "data": {
      "text/plain": [
       "(str, int, float)"
      ]
     },
     "execution_count": 2,
     "metadata": {},
     "output_type": "execute_result"
    }
   ],
   "source": [
    "name = \"Janos\"\n",
    "age = 18\n",
    "height = 178.5\n",
    "\n",
    "type(name),type(age),type(height)"
   ]
  },
  {
   "cell_type": "markdown",
   "id": "a7f5346a",
   "metadata": {},
   "source": [
    "Aufgabe 2.0"
   ]
  },
  {
   "cell_type": "code",
   "execution_count": 4,
   "id": "253acecf",
   "metadata": {},
   "outputs": [
    {
     "name": "stdout",
     "output_type": "stream",
     "text": [
      "Ich bin Janos, ich bin 18 Jahre alt und bin 178.5 meter groß\n"
     ]
    }
   ],
   "source": [
    "print(f\"Ich bin {name}, ich bin {age} Jahre alt und bin {height} meter groß\")"
   ]
  },
  {
   "cell_type": "markdown",
   "id": "c0a2bbe6",
   "metadata": {},
   "source": [
    "Aufgabe 3.0"
   ]
  },
  {
   "cell_type": "code",
   "execution_count": 21,
   "id": "f358f383",
   "metadata": {},
   "outputs": [
    {
     "name": "stdout",
     "output_type": "stream",
     "text": [
      "Dieser Name hat 5 oder mehr Buchstaben\n"
     ]
    }
   ],
   "source": [
    "if len(name) >= 5:\n",
    "          print(\"Dieser Name hat 5 oder mehr Buchstaben\")\n",
    "else:\n",
    "          print(\"Dieser Name hat weniger als 5 Buchstaben\")"
   ]
  },
  {
   "cell_type": "markdown",
   "id": "a5b5a3bf",
   "metadata": {},
   "source": [
    "Aufgabe 4.0"
   ]
  },
  {
   "cell_type": "code",
   "execution_count": 10,
   "id": "16227ac6",
   "metadata": {},
   "outputs": [
    {
     "name": "stdout",
     "output_type": "stream",
     "text": [
      "['Banana', 'Apple', 'Strawberry']\n"
     ]
    }
   ],
   "source": [
    "fruits = [\"Banana\",\"Apple\",\"Strawberry\"]\n",
    "print(fruits)"
   ]
  },
  {
   "cell_type": "markdown",
   "id": "c0865d49",
   "metadata": {},
   "source": [
    "Aufgabe 4.1"
   ]
  },
  {
   "cell_type": "code",
   "execution_count": 11,
   "id": "df676c6a",
   "metadata": {},
   "outputs": [
    {
     "name": "stdout",
     "output_type": "stream",
     "text": [
      "Banana\n"
     ]
    }
   ],
   "source": [
    "print(fruits[0])"
   ]
  },
  {
   "cell_type": "markdown",
   "id": "729ee8ed",
   "metadata": {},
   "source": [
    "Aufgabe 4.2"
   ]
  },
  {
   "cell_type": "code",
   "execution_count": 12,
   "id": "b6bf408f",
   "metadata": {},
   "outputs": [
    {
     "name": "stdout",
     "output_type": "stream",
     "text": [
      "['Banana', 'Apple', 'Strawberry', 'Orange']\n"
     ]
    }
   ],
   "source": [
    "fruits.append(\"Orange\")\n",
    "print(fruits)"
   ]
  },
  {
   "cell_type": "markdown",
   "id": "ab7cd0a9",
   "metadata": {},
   "source": [
    "Aufgabe 5.0"
   ]
  },
  {
   "cell_type": "code",
   "execution_count": 13,
   "id": "1956b6c6",
   "metadata": {},
   "outputs": [
    {
     "name": "stdout",
     "output_type": "stream",
     "text": [
      "Banana\n",
      "Apple\n",
      "Strawberry\n",
      "Orange\n"
     ]
    }
   ],
   "source": [
    "for fruit in fruits:\n",
    "          print(fruit)"
   ]
  },
  {
   "cell_type": "markdown",
   "id": "734d0d63",
   "metadata": {},
   "source": [
    "Aufgabe 6.0"
   ]
  },
  {
   "cell_type": "code",
   "execution_count": 14,
   "id": "87f67465",
   "metadata": {},
   "outputs": [
    {
     "name": "stdout",
     "output_type": "stream",
     "text": [
      "1\n",
      "2\n",
      "3\n",
      "4\n",
      "5\n",
      "6\n"
     ]
    }
   ],
   "source": [
    "numbers = [1,2,3,4,5,6]\n",
    "\n",
    "for number in numbers:\n",
    "          print(number)"
   ]
  },
  {
   "cell_type": "markdown",
   "id": "40aa3e72",
   "metadata": {},
   "source": [
    "Aufgabe 6.1"
   ]
  },
  {
   "cell_type": "code",
   "execution_count": 17,
   "id": "d9a1be86",
   "metadata": {},
   "outputs": [
    {
     "name": "stdout",
     "output_type": "stream",
     "text": [
      "Diese Zahl ist kleiner gleich 3\n",
      "Diese Zahl ist kleiner gleich 3\n",
      "Diese Zahl ist kleiner gleich 3\n",
      "Diese Zahl ist größer als 3\n",
      "Diese Zahl ist größer als 3\n",
      "Diese Zahl ist größer als 3\n"
     ]
    }
   ],
   "source": [
    "for number in numbers:\n",
    "          if number <= 3:\n",
    "                    print(\"Diese Zahl ist kleiner gleich 3\")\n",
    "          else:\n",
    "                    print(\"Diese Zahl ist größer als 3\")"
   ]
  },
  {
   "cell_type": "markdown",
   "id": "9d2297af",
   "metadata": {},
   "source": [
    "Aufgabe 6.2"
   ]
  },
  {
   "cell_type": "code",
   "execution_count": 18,
   "id": "cf94dadc",
   "metadata": {},
   "outputs": [
    {
     "name": "stdout",
     "output_type": "stream",
     "text": [
      "2\n",
      "4\n",
      "6\n"
     ]
    }
   ],
   "source": [
    "for number in numbers:\n",
    "          if number % 2 == 0:\n",
    "                    print(number)"
   ]
  },
  {
   "cell_type": "markdown",
   "id": "8031c43a",
   "metadata": {},
   "source": [
    "Aufgabe 7.0"
   ]
  },
  {
   "cell_type": "code",
   "execution_count": 19,
   "id": "ae87ec71",
   "metadata": {},
   "outputs": [
    {
     "name": "stdout",
     "output_type": "stream",
     "text": [
      "0\n",
      "1\n",
      "2\n",
      "3\n",
      "4\n",
      "5\n"
     ]
    }
   ],
   "source": [
    "counter = 0\n",
    "\n",
    "while counter <= 5:\n",
    "          print(counter)\n",
    "          counter+=1"
   ]
  }
 ],
 "metadata": {
  "kernelspec": {
   "display_name": "base",
   "language": "python",
   "name": "python3"
  },
  "language_info": {
   "codemirror_mode": {
    "name": "ipython",
    "version": 3
   },
   "file_extension": ".py",
   "mimetype": "text/x-python",
   "name": "python",
   "nbconvert_exporter": "python",
   "pygments_lexer": "ipython3",
   "version": "3.9.12"
  }
 },
 "nbformat": 4,
 "nbformat_minor": 5
}
